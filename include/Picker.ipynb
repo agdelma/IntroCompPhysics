{
 "cells": [
  {
   "cell_type": "markdown",
   "metadata": {},
   "source": [
    "# Random Group Picker"
   ]
  },
  {
   "cell_type": "code",
   "execution_count": 2,
   "metadata": {
    "collapsed": false
   },
   "outputs": [],
   "source": [
    "import random"
   ]
  },
  {
   "cell_type": "markdown",
   "metadata": {},
   "source": [
    "## Physics 256 Students"
   ]
  },
  {
   "cell_type": "code",
   "execution_count": 3,
   "metadata": {
    "collapsed": false
   },
   "outputs": [],
   "source": [
    "phys256_students = [\"Hannah Ace\", \"Saheed Ajibade\", \"Elizabeth Andrew\", \"Hojoon Cha\", \"Paul Delucia\", \"Aaditya Dimri\", \"Evan Fennelly\", \"Katie Henry\", \"Tim Laracy\", \"Griffin Marchand\", \"Theo Nygren\", \"Shervin Razavi\", \"Robin Rice\", \"Zihui Song\"]"
   ]
  },
  {
   "cell_type": "code",
   "execution_count": 4,
   "metadata": {},
   "outputs": [
    {
     "data": {
      "text/plain": [
       "14"
      ]
     },
     "execution_count": 4,
     "metadata": {},
     "output_type": "execute_result"
    }
   ],
   "source": [
    "len(phys256_students)"
   ]
  },
  {
   "cell_type": "markdown",
   "metadata": {},
   "source": [
    "### Get a random seed from the class"
   ]
  },
  {
   "cell_type": "code",
   "execution_count": 4,
   "metadata": {
    "collapsed": false
   },
   "outputs": [
    {
     "name": "stdin",
     "output_type": "stream",
     "text": [
      " 246\n"
     ]
    }
   ],
   "source": [
    "random.seed(int(input()))"
   ]
  },
  {
   "cell_type": "markdown",
   "metadata": {},
   "source": [
    "### Select groups"
   ]
  },
  {
   "cell_type": "code",
   "execution_count": 5,
   "metadata": {
    "collapsed": false
   },
   "outputs": [
    {
     "name": "stdout",
     "output_type": "stream",
     "text": [
      "\n",
      "Group #0\n",
      "Hojoon Cha\n",
      "Tom Tang\n",
      "Evan Fennelly\n",
      "\n",
      "Group #1\n",
      "Tim Laracy\n",
      "Hannah Ace\n",
      "Theo Nygren\n",
      "\n",
      "Group #2\n",
      "Paul Delucia\n",
      "Raymond Schireman\n",
      "Griffin Marchand\n",
      "\n",
      "Group #3\n",
      "Elizabeth Andrew\n",
      "Katie Henry\n",
      "Zihui Song\n",
      "\n",
      "Group #4\n",
      "Khadga Thakuri\n",
      "Aaditya Dimri\n",
      "Shervin Razavi\n",
      "\n",
      "Group #5\n",
      "Robin Rice\n",
      "Saheed Ajibade\n"
     ]
    }
   ],
   "source": [
    "group_size = 3\n",
    "\n",
    "# create a copy\n",
    "groups = list(phys256_students)\n",
    "\n",
    "# shuffle the list\n",
    "random.shuffle(groups)\n",
    "\n",
    "for i,name in enumerate(groups):\n",
    "    if i % group_size == 0:\n",
    "        print()\n",
    "        print('Group #%d'% int(i/3))\n",
    "    print(name)"
   ]
  },
  {
   "cell_type": "code",
   "execution_count": null,
   "metadata": {
    "collapsed": true
   },
   "outputs": [],
   "source": []
  }
 ],
 "metadata": {
  "kernelspec": {
   "display_name": "Python 3",
   "language": "python",
   "name": "python3"
  },
  "language_info": {
   "codemirror_mode": {
    "name": "ipython",
    "version": 3
   },
   "file_extension": ".py",
   "mimetype": "text/x-python",
   "name": "python",
   "nbconvert_exporter": "python",
   "pygments_lexer": "ipython3",
   "version": "3.7.3"
  }
 },
 "nbformat": 4,
 "nbformat_minor": 2
}
