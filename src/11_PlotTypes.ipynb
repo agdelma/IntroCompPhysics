{
 "cells": [
  {
   "cell_type": "markdown",
   "metadata": {},
   "source": [
    "# Physics 256\n",
    "## Lecture 11 - Plot Types"
   ]
  },
  {
   "cell_type": "markdown",
   "metadata": {},
   "source": [
    "<img src=\"http://matplotlib.org/_static/logo2.png\" width=400px>"
   ]
  },
  {
   "cell_type": "code",
   "execution_count": null,
   "metadata": {
    "collapsed": false
   },
   "outputs": [],
   "source": [
    "import style\n",
    "style._set_css_style('../include/bootstrap.css')"
   ]
  },
  {
   "cell_type": "markdown",
   "metadata": {},
   "source": [
    "## Last Time\n",
    "\n",
    "### [Notebook Link: 10_PlotCustomization.ipynb](./10_PlotCustomization.ipynb)\n",
    "\n",
    "- using LaTeX in plot labels\n",
    "- meshgrid for multi-dimensional data sets\n",
    "- plot customization\n",
    "\n",
    "## Today\n",
    "\n",
    "- plot types\n"
   ]
  },
  {
   "cell_type": "markdown",
   "metadata": {},
   "source": [
    "## Plotting with Matplotlib"
   ]
  },
  {
   "cell_type": "code",
   "execution_count": null,
   "metadata": {
    "collapsed": true
   },
   "outputs": [],
   "source": [
    "import matplotlib.pyplot as plt\n",
    "import numpy as np\n",
    "%matplotlib notebook\n",
    "plt.style.use('../include/notebook.mplstyle');\n",
    "%config InlineBackend.figure_format = 'svg'\n",
    "colors = plt.rcParams['axes.prop_cycle'].by_key()['color']"
   ]
  },
  {
   "cell_type": "markdown",
   "metadata": {},
   "source": [
    "## Plot Types\n",
    "\n",
    "Matplotlib includes almost any imaginable type of chart or graph.  A good starting point to determine what is the best type of graph for your particular data is:"
   ]
  },
  {
   "cell_type": "code",
   "execution_count": null,
   "metadata": {
    "collapsed": false
   },
   "outputs": [],
   "source": [
    "from IPython.display import Image\n",
    "Image(filename='../data/choosing_a_good_chart.png')"
   ]
  },
  {
   "cell_type": "markdown",
   "metadata": {},
   "source": [
    "### Histograms"
   ]
  },
  {
   "cell_type": "code",
   "execution_count": null,
   "metadata": {
    "collapsed": false
   },
   "outputs": [],
   "source": [
    "# get 10000 gaussian distributed random numbers\n",
    "h = np.random.randn(10000)\n",
    "\n",
    "# the number of bins for our histogram\n",
    "numBins = 100\n",
    "plt.hist(h,numBins,edgecolor='w', density=True, alpha=0.5)\n",
    "\n",
    "# let's add the theoretical value\n",
    "x = np.arange(-5,5,0.01)\n",
    "y = np.exp(-x**2/2)/np.sqrt(2.0*np.pi)\n",
    "plt.plot(x,y,'-', color=colors[0])\n",
    "\n",
    "# we can save our figure to disk\n",
    "#plt.savefig('output/histogram.pdf')"
   ]
  },
  {
   "cell_type": "markdown",
   "metadata": {},
   "source": [
    "### Errorbars"
   ]
  },
  {
   "cell_type": "code",
   "execution_count": null,
   "metadata": {
    "collapsed": false
   },
   "outputs": [],
   "source": [
    "# errorbars\n",
    "x = np.arange(0, 4, 0.2) \n",
    "y = np.exp(-x) \n",
    "dy = 0.1 * np.abs(np.random.randn(len(y))) \n",
    "dx = 0.1 * np.abs(np.random.randn(len(y))) \n",
    "plt.errorbar(x,y,xerr=dx,yerr=dy,marker='o',markersize=8.0,capsize=0.0,elinewidth=1.0)"
   ]
  },
  {
   "cell_type": "markdown",
   "metadata": {},
   "source": [
    "### Bar charts"
   ]
  },
  {
   "cell_type": "code",
   "execution_count": null,
   "metadata": {
    "collapsed": false
   },
   "outputs": [],
   "source": [
    "bar = {'A': 40, 'B': 70, 'C': 30, 'D': 85} \n",
    "bar = sorted(bar.items())\n",
    "\n",
    "keys = []\n",
    "vals = []\n",
    "for i,cbar in enumerate(bar): \n",
    "    plt.bar(i, cbar[1], alpha=0.5,color=colors[i])\n",
    "    keys.append(cbar[0])\n",
    "    vals.append(cbar[1])\n",
    "\n",
    "plt.xticks(np.arange(len(bar))+0.4,keys)\n",
    "plt.yticks(vals)"
   ]
  },
  {
   "cell_type": "markdown",
   "metadata": {},
   "source": [
    "### Pie charts"
   ]
  },
  {
   "cell_type": "code",
   "execution_count": null,
   "metadata": {
    "collapsed": false
   },
   "outputs": [],
   "source": [
    "# pie chart\n",
    "plt.figure(4,figsize=(6,6));\n",
    "aleast = {'Boston':84, 'New York':103, 'Tampa Bay':96, 'Toronto':67, 'Baltimore':54}\n",
    "explode = [0.0, 0.0, 0.0, 0.0, 0.1] \n",
    "plt.pie(list(aleast.values()), labels=list(aleast.keys()), explode=explode, autopct='%3.1f%%', colors=colors[:]); "
   ]
  },
  {
   "cell_type": "markdown",
   "metadata": {},
   "source": [
    "### Scatter plots\n",
    "\n",
    "Useful and effecient for large amounts of data points"
   ]
  },
  {
   "cell_type": "code",
   "execution_count": null,
   "metadata": {
    "collapsed": false
   },
   "outputs": [],
   "source": [
    "# scatter graph\n",
    "x = np.random.randn(1000) \n",
    "y = np.random.randn(1000) \n",
    "size = 50*np.random.randn(1000) \n",
    "col = np.random.rand(1000) \n",
    "plt.scatter(x, y, s=size, c=col)"
   ]
  },
  {
   "cell_type": "markdown",
   "metadata": {},
   "source": [
    "### Polar plots"
   ]
  },
  {
   "cell_type": "code",
   "execution_count": null,
   "metadata": {
    "collapsed": false
   },
   "outputs": [],
   "source": [
    "# polar plot \n",
    "theta = np.linspace(0, 2.0*np.pi, 100) \n",
    "plt.polar(3*theta, theta/5); \n",
    "plt.polar(theta, np.cos(4*theta)); "
   ]
  },
  {
   "cell_type": "markdown",
   "metadata": {},
   "source": [
    "### Annotating plots"
   ]
  },
  {
   "cell_type": "code",
   "execution_count": null,
   "metadata": {
    "collapsed": false
   },
   "outputs": [],
   "source": [
    "# Produce a linear plot with an intercept\n",
    "    \n",
    "iL = np.linspace(0, 0.1, 100)\n",
    "yint = 0.15\n",
    "y = yint + 2.0*iL\n",
    "plt.plot(iL,y,marker='None', linestyle='-')\n",
    "plt.axis([0,0.09,0,0.4])\n",
    "plt.xlabel(r'$1/L$')\n",
    "plt.ylabel(r'$f(L)$')\n",
    "\n",
    "# Our first label in data coordinates\n",
    "plt.text(0.002,0.25,r'$f(0) = 0.15$', fontsize=18)\n",
    "    \n",
    "# The label in figure coordinates\n",
    "plt.figtext(0.2,0.2,'intercept = 0.15', fontsize=18, color=colors[1])\n",
    "    \n",
    "# Add a label and an arrow\n",
    "plt.annotate(r'$L \\to \\infty$',xy=(0, 0.15), xytext=(0.02, 0.08),\\\n",
    "             fontsize=30, color=colors[2],\\\n",
    "             arrowprops=dict(color=colors[2],shrink=0.1))"
   ]
  },
  {
   "cell_type": "markdown",
   "metadata": {},
   "source": [
    "<div class=\"span alert alert-success\">\n",
    "<h2> Team Programming challenge </h2>\n",
    "<h3> Determine a graphical solution for $x(a)$ (with at least 6 points) to the transcendental equation: </h3>\n",
    "</div>\n",
    "\\begin{equation}\n",
    "x = \\tanh\\left(\\frac{x}{a} \\right)\n",
    "\\end{equation}"
   ]
  },
  {
   "cell_type": "code",
   "execution_count": null,
   "metadata": {
    "collapsed": false
   },
   "outputs": [],
   "source": [
    "def trans(x,a):\n",
    "    ''' A transcendental equationb x = tanh(x/a). '''\n",
    "    \n",
    "    # add equation\n",
    "    return 0\n",
    "\n",
    "# choose a range of a values and x values\n",
    "# you might need to explore a bit with these\n",
    "amin,amax = 0,1\n",
    "xmin,xmax,Δx = 0,1,0.01\n",
    "a = np.linspace(amin,amax,6)\n",
    "x = np.arange(xmin,xmax,Δx)\n",
    "\n",
    "# plot the LHS\n",
    "plt.plot('-')\n",
    "\n",
    "# Now plot the RHS for different values of a\n",
    "for i,ca in enumerate(a):\n",
    "    plt.plot('-', label=f'{ca:5.3f}')\n",
    "\n",
    "plt.legend()"
   ]
  },
  {
   "cell_type": "markdown",
   "metadata": {},
   "source": [
    "Visually identiry solutions using the notebook feature and add the values of x here"
   ]
  },
  {
   "cell_type": "code",
   "execution_count": null,
   "metadata": {
    "collapsed": true
   },
   "outputs": [],
   "source": [
    "sol = []"
   ]
  },
  {
   "cell_type": "markdown",
   "metadata": {},
   "source": [
    "Plot the solution"
   ]
  },
  {
   "cell_type": "code",
   "execution_count": null,
   "metadata": {
    "collapsed": false
   },
   "outputs": [],
   "source": [
    "plt.plot()\n",
    "plt.xlabel(r'$a$')\n",
    "plt.ylabel(r'$x$')"
   ]
  },
  {
   "cell_type": "code",
   "execution_count": null,
   "metadata": {
    "collapsed": false
   },
   "outputs": [],
   "source": [
    "%load solutions/transcendental.py"
   ]
  }
 ],
 "metadata": {
  "kernelspec": {
   "display_name": "Python 3",
   "language": "python",
   "name": "python3"
  },
  "language_info": {
   "codemirror_mode": {
    "name": "ipython",
    "version": 3
   },
   "file_extension": ".py",
   "mimetype": "text/x-python",
   "name": "python",
   "nbconvert_exporter": "python",
   "pygments_lexer": "ipython3",
   "version": "3.7.3"
  }
 },
 "nbformat": 4,
 "nbformat_minor": 2
}
