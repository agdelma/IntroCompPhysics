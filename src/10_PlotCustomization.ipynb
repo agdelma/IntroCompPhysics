{
 "cells": [
  {
   "cell_type": "markdown",
   "metadata": {},
   "source": [
    "# Physics 256\n",
    "## Lecture 10 - More Numpy and Matplotlib"
   ]
  },
  {
   "cell_type": "markdown",
   "metadata": {},
   "source": [
    "<img src=\"http://matplotlib.org/_static/logo2.png\" width=400px>"
   ]
  },
  {
   "cell_type": "code",
   "execution_count": null,
   "metadata": {},
   "outputs": [],
   "source": [
    "import style\n",
    "style._set_css_style('../include/bootstrap.css')"
   ]
  },
  {
   "cell_type": "markdown",
   "metadata": {},
   "source": [
    "## Last Time\n",
    "\n",
    "### [Notebook Link: 09_NumpyMatplotlib.ipynb](./09_NumpyMatplotlib.ipynb)\n",
    "\n",
    "- multidimensional arrays with numpy\n",
    "- introduction to plotting with matplotlib\n",
    "\n",
    "## Today\n",
    "- plot customization\n",
    "- different plot types\n"
   ]
  },
  {
   "cell_type": "markdown",
   "metadata": {},
   "source": [
    "## Plotting with Matplotlib\n",
    "\n",
    "Here we load a *style* file that includes many nice plotting defaults.  Have a look at it and try changing some of the values."
   ]
  },
  {
   "cell_type": "code",
   "execution_count": null,
   "metadata": {
    "collapsed": false,
    "jupyter": {
     "outputs_hidden": false
    }
   },
   "outputs": [],
   "source": [
    "import matplotlib.pyplot as plt\n",
    "import numpy as np\n",
    "%matplotlib inline\n",
    "\n",
    "plt.style.use('../include/notebook.mplstyle');\n",
    "%config InlineBackend.figure_format = 'svg'"
   ]
  },
  {
   "cell_type": "markdown",
   "metadata": {},
   "source": [
    "<div class=\"span alert alert-info\">\n",
    "<h2> Individual Programming Challenge </h2>\n",
    "\n",
    "Make a plot of the Gaussian distribution\n",
    "</div>\n",
    "\\begin{equation}\n",
    "y(x) = \\frac{1}{\\sqrt{2\\pi}} \\mathrm{e}^{-x^2/2}\n",
    "\\end{equation}"
   ]
  },
  {
   "cell_type": "markdown",
   "metadata": {},
   "source": [
    "### Customizing\n",
    "\n",
    "There are multitudinous ways to customize the look of your plots\n",
    "Note the use of LaTeX in the legend.  This works in all captions and labels by using raw strings with `r'$$'`\n"
   ]
  },
  {
   "cell_type": "markdown",
   "metadata": {},
   "source": [
    "### Plot options\n",
    "\n",
    "We can add keyword options to control the properties of lines and markers in our plots.  Check out:"
   ]
  },
  {
   "cell_type": "code",
   "execution_count": null,
   "metadata": {
    "collapsed": false,
    "jupyter": {
     "outputs_hidden": false
    }
   },
   "outputs": [],
   "source": [
    "from IPython.display import HTML\n",
    "HTML('<iframe src=http://matplotlib.org/users/pyplot_tutorial.html#controlling-line-properties width=700 height=350></iframe>')"
   ]
  },
  {
   "cell_type": "code",
   "execution_count": null,
   "metadata": {
    "collapsed": false,
    "jupyter": {
     "outputs_hidden": false
    }
   },
   "outputs": [],
   "source": [
    "# For all the details\n",
    "HTML('<iframe src=http://matplotlib.org/api/pyplot_api.html#matplotlib.pyplot.plot width=700 height=350></iframe>')"
   ]
  },
  {
   "cell_type": "markdown",
   "metadata": {},
   "source": [
    "### Putting it all together\n",
    "\n",
    "Note the use of LaTeX to add math labels.  I've included many options here so you can come back to this code and see how to change things in your own plots."
   ]
  },
  {
   "cell_type": "code",
   "execution_count": null,
   "metadata": {
    "collapsed": false,
    "jupyter": {
     "outputs_hidden": false
    }
   },
   "outputs": [],
   "source": [
    "theta = np.linspace(0,2*np.pi,20)\n",
    "sinlabel = r'$\\sin(\\theta)$'\n",
    "coslabel = r'$\\cos(\\theta)$'\n",
    "plt.figure(figsize=(8,6))\n",
    "plt.plot(theta,np.sin(theta),label=sinlabel,color=(0.0,0.0,0.6),linestyle='-',linewidth=2.5,marker='o',markeredgecolor='green',\\\n",
    "    markerfacecolor='#0FDDAF',markersize=12.0,markeredgewidth=0.8)\n",
    "plt.plot(theta,np.cos(theta),label=coslabel,color='red',linestyle='None',\\\n",
    "         linewidth=0.5,marker='s',markeredgecolor='None',\\\n",
    "         markerfacecolor='pink',markersize=15.0)\n",
    "plt.xlabel(r'$\\theta$')\n",
    "plt.xlim(0,2*np.pi)\n",
    "plt.legend(loc='lower left', fontsize=15)"
   ]
  },
  {
   "cell_type": "markdown",
   "metadata": {},
   "source": [
    "<div class=\"span alert alert-success\">\n",
    "<h2> Team programming challenge </h2>\n",
    "<h3> Given a list of all marker types produce a plot of a family parabolas showing them off.</h3>\n",
    "</div>\n",
    "\n",
    "`marker_list = ['o','s','p','^','v','>','<','D','*','H']`\n",
    "\n",
    "<!--marker_list = ['o','s','p','^','v','>','<','D','*','H']\n",
    "x = np.arange(-1,1,0.1)\n",
    "y = x**2\n",
    "for i,marker in enumerate(marker_list):\n",
    "    col = (1.0-1.0*i/len(marker_list),0,1.0*i/len(marker_list))\n",
    "    lab = r'$x^2 + %3.1f$' % (0.1*i)\n",
    "    plt.plot(x,y+0.1*i, linestyle=':', linewidth=1.5, color=col, \\\n",
    "             marker=marker, markerfacecolor=col, markeredgecolor='gray',\\\n",
    "             label=lab)\n",
    "\n",
    "plt.ylim(-0.1,2.2)\n",
    "plt.xlabel(r'$x$')\n",
    "plt.ylabel(r'$y(x)$')\n",
    "plt.title('A Family of Parabolas $y=x^2+a$')\n",
    "plt.legend(loc='upper center', ncol=3) -->"
   ]
  },
  {
   "cell_type": "code",
   "execution_count": null,
   "metadata": {},
   "outputs": [],
   "source": [
    "marker_list = ['o','s','p','^','v','>','<','D','*','H']\n",
    "x = np.arange(-1,1,0.1)\n",
    "\n",
    "# generate and plot the parabola\n",
    "for i,marker in enumerate(marker_list):\n",
    "    # generate the parabola\n",
    "    \n",
    "    # generate a label\n",
    "    \n",
    "    # plot the parabola for each marker type\n",
    "    plt.plot()\n",
    "\n",
    "# some labels\n",
    "plt.xlabel('$x$')\n",
    "plt.ylabel('$y(x)$')\n",
    "plt.title('A Family of Parabolas $y=x^2+a$')\n",
    "\n",
    "# add a legend\n",
    "plt.legend(loc='upper center', ncol=3)"
   ]
  },
  {
   "cell_type": "markdown",
   "metadata": {},
   "source": [
    "## Color Cycle\n",
    "\n",
    "You can get access to the default color cycle via the following dictionary"
   ]
  },
  {
   "cell_type": "code",
   "execution_count": null,
   "metadata": {},
   "outputs": [],
   "source": [
    "colors = plt.rcParams['axes.prop_cycle'].by_key()['color']\n",
    "print(colors)"
   ]
  },
  {
   "cell_type": "code",
   "execution_count": null,
   "metadata": {},
   "outputs": [],
   "source": []
  }
 ],
 "metadata": {
  "kernelspec": {
   "display_name": "Python 3",
   "language": "python",
   "name": "python3"
  },
  "language_info": {
   "codemirror_mode": {
    "name": "ipython",
    "version": 3
   },
   "file_extension": ".py",
   "mimetype": "text/x-python",
   "name": "python",
   "nbconvert_exporter": "python",
   "pygments_lexer": "ipython3",
   "version": "3.7.4"
  }
 },
 "nbformat": 4,
 "nbformat_minor": 4
}
