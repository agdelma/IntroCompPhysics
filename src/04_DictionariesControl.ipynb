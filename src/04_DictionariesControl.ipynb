{
 "cells": [
  {
   "cell_type": "markdown",
   "metadata": {},
   "source": [
    "# Physics 256\n",
    "## Lecture 04 - Dictionaries and Control"
   ]
  },
  {
   "cell_type": "markdown",
   "metadata": {},
   "source": [
    "<img src=\"http://imgs.xkcd.com/comics/pointers.png\" width=400px>\n",
    "http://xkcd.com/138/"
   ]
  },
  {
   "cell_type": "code",
   "execution_count": null,
   "metadata": {},
   "outputs": [],
   "source": [
    "import style\n",
    "style._set_css_style('../include/bootstrap.css')"
   ]
  },
  {
   "cell_type": "markdown",
   "metadata": {},
   "source": [
    "## Last Time \n",
    "\n",
    "### [Notebook Link: 03_Containers.ipynb](./03_Containers.ipynb)\n",
    "\n",
    "- lists \n",
    "    - heterogeneous collections\n",
    "    - create and index with `[a,b,c]`\n",
    "    - slice with `l[start:finish:step]`\n",
    "\n",
    "## Today\n",
    "\n",
    "- Dictionaries\n",
    "- Tuples\n",
    "- Control structures\n",
    "- Repitition"
   ]
  },
  {
   "cell_type": "markdown",
   "metadata": {},
   "source": [
    "<div class=\"span alert alert-success\">\n",
    "<h3>Programming Challenges</h3><br />\n",
    "\n",
    "1. Given two strings, return their concatenation, except omit the first character of each.\n",
    "<code>\n",
    "s1 = 'hello'\n",
    "s2 = 'there'\n",
    "output --> 'ellohere'\n",
    "</code>\n",
    "</div>\n"
   ]
  },
  {
   "cell_type": "markdown",
   "metadata": {},
   "source": [
    "<div class=\"span alert alert-success\">\n",
    "2. Given a list of 5 elements, create a right cyclic permutation of length 1.\n",
    "<code>\n",
    "l1 = [1,2,3,4,5]\n",
    "output --> [5,1,2,3,4]\n",
    "</code>\n",
    "</div>\n",
    "\n",
    "<!-- [l1[-1]]+l1[:-1] -->"
   ]
  },
  {
   "cell_type": "markdown",
   "metadata": {},
   "source": [
    "## Dictionaries\n",
    "\n",
    "Extremely useful hetrogeneous container that stores key/value pairs.  This generalizes a list which maps an integer to some data.  Indexing a dictionary by a key returns the value associated with it"
   ]
  },
  {
   "cell_type": "code",
   "execution_count": null,
   "metadata": {
    "collapsed": false
   },
   "outputs": [],
   "source": [
    "# create an empty dictionary using curly brackets \n",
    "record = {} \n",
    "record['first'] = 'James'\n",
    "record['last'] = 'Maxwell'\n",
    "record['born'] = 1831 \n",
    "print(record)"
   ]
  },
  {
   "cell_type": "code",
   "execution_count": null,
   "metadata": {
    "collapsed": false
   },
   "outputs": [],
   "source": [
    "# create another dictionary with initial entries \n",
    "new_record = {'middle':'Clerk'} "
   ]
  },
  {
   "cell_type": "code",
   "execution_count": null,
   "metadata": {
    "collapsed": false
   },
   "outputs": [],
   "source": [
    "# now update the first dictionary with values from the new one  \n",
    "record.update(new_record)\n",
    "print(record)"
   ]
  },
  {
   "cell_type": "code",
   "execution_count": null,
   "metadata": {
    "collapsed": false
   },
   "outputs": [],
   "source": [
    "# we could have also just inserted it directly\n",
    "record['died'] = 1879\n",
    "print(record)"
   ]
  },
  {
   "cell_type": "code",
   "execution_count": null,
   "metadata": {
    "collapsed": false
   },
   "outputs": [],
   "source": [
    "print(record['first'])"
   ]
  },
  {
   "cell_type": "markdown",
   "metadata": {},
   "source": [
    "<div class=\"span alert alert-danger\">\n",
    "Notice that the elements don't seem to be stored in any particular order.\n",
    "</div>\n",
    "\n",
    "<div class=\"span alert alert-success\">\n",
    "<h3> Programming Challenge </h3>\n",
    "Create a dictionary that maps numbers to their squares for n = 1, ..., 6.\n",
    "</div>\n",
    "\n",
    "<!-- \n",
    "squares = {1:1, 2:4, 3:9, 4:16, 5:25, 6:36}\n",
    "print(squares[5]) \n",
    "-->"
   ]
  },
  {
   "cell_type": "markdown",
   "metadata": {},
   "source": [
    "### Dictionary methods"
   ]
  },
  {
   "cell_type": "code",
   "execution_count": null,
   "metadata": {
    "collapsed": false
   },
   "outputs": [],
   "source": [
    "# can create a dictionary all in one shot\n",
    "physics = {'theory':3, 'experiment':4, 'computational':10}\n",
    "print(physics['computational'])"
   ]
  },
  {
   "cell_type": "code",
   "execution_count": null,
   "metadata": {
    "collapsed": false
   },
   "outputs": [],
   "source": [
    "# or we can use the zip method\n",
    "keys = ['theory','experiment','computational']\n",
    "values = [3, 4, 10]\n",
    "physics_256 = dict(zip(keys, values))\n",
    "print(physics_256)"
   ]
  },
  {
   "cell_type": "code",
   "execution_count": null,
   "metadata": {
    "collapsed": false
   },
   "outputs": [],
   "source": [
    "# testing for a key\n",
    "'experiment' in physics_256"
   ]
  },
  {
   "cell_type": "code",
   "execution_count": null,
   "metadata": {
    "collapsed": false
   },
   "outputs": [],
   "source": [
    "# get a list of all keys\n",
    "physics_256.keys()"
   ]
  },
  {
   "cell_type": "code",
   "execution_count": null,
   "metadata": {
    "collapsed": false
   },
   "outputs": [],
   "source": [
    "# get a list of all values\n",
    "physics_256.values()"
   ]
  },
  {
   "cell_type": "code",
   "execution_count": null,
   "metadata": {
    "collapsed": false
   },
   "outputs": [],
   "source": [
    "# get a list of all key/val pairs\n",
    "physics_256.items()"
   ]
  },
  {
   "cell_type": "code",
   "execution_count": null,
   "metadata": {
    "collapsed": false
   },
   "outputs": [],
   "source": [
    "# remove a key/val pair\n",
    "del physics_256['experiment']\n",
    "print(physics_256)"
   ]
  },
  {
   "cell_type": "markdown",
   "metadata": {},
   "source": [
    "<div class=\"span alert alert-info\">\n",
    "<h3> defaultdict </h3>\n",
    "    Check out the <strong>collections</strong> module for many useful dictionary methods.  \n",
    "<p/>    \n",
    "<code>\n",
    "from collections import defaultdict\n",
    "</code>    \n",
    "</div>\n",
    "\n",
    "\n",
    "    \n",
    "\n",
    "\n"
   ]
  },
  {
   "cell_type": "markdown",
   "metadata": {},
   "source": [
    "## Tuples\n",
    "\n",
    "Tuples are sequences of values, created with square brackets.  However, unlike lists, they are immutable."
   ]
  },
  {
   "cell_type": "code",
   "execution_count": null,
   "metadata": {
    "collapsed": false
   },
   "outputs": [],
   "source": [
    "# can be created with our without round brackets\n",
    "d = 1,2,3\n",
    "print(d)\n",
    "\n",
    "d = (4,5,6)\n",
    "print(d)"
   ]
  },
  {
   "cell_type": "code",
   "execution_count": null,
   "metadata": {
    "collapsed": false
   },
   "outputs": [],
   "source": [
    "# they are indexed in the same way as lists\n",
    "d[0]"
   ]
  },
  {
   "cell_type": "code",
   "execution_count": null,
   "metadata": {
    "collapsed": false
   },
   "outputs": [],
   "source": [
    "# they are immutable, so assignments fail\n",
    "d[0] = 8"
   ]
  },
  {
   "cell_type": "code",
   "execution_count": null,
   "metadata": {
    "collapsed": false
   },
   "outputs": [],
   "source": [
    "test = {(0,1):'test'}\n",
    "print(test[(0,1)])"
   ]
  },
  {
   "cell_type": "code",
   "execution_count": null,
   "metadata": {
    "collapsed": false
   },
   "outputs": [],
   "source": [
    "# You have already seen them when doing multiple assignments\n",
    "a,b,c = 1,2,3\n",
    "print(b)\n",
    "\n",
    "d = 4,5,6\n",
    "a,b,c = d\n",
    "print(b)"
   ]
  },
  {
   "cell_type": "markdown",
   "metadata": {},
   "source": [
    "## Control\n",
    "\n",
    "`if/elif/else` blocks provide conditional execuation of code.  Each boolean expression is terminated with a colon `:` and the related code indented."
   ]
  },
  {
   "cell_type": "code",
   "execution_count": null,
   "metadata": {
    "collapsed": false
   },
   "outputs": [],
   "source": [
    "x = 3\n",
    "if x > 10:\n",
    "    print(1)\n",
    "elif x == 0:\n",
    "    print(0)\n",
    "else:\n",
    "    print(-1)"
   ]
  },
  {
   "cell_type": "markdown",
   "metadata": {},
   "source": [
    "### Things to know about control\n",
    "- Brackets are not required unless we need to specify the order of operations\n",
    "- Combine boolean expressions with the `and`, `or`, `not` keywords\n",
    "- Whitespace (tabs) are used to denote code blocks\n",
    "- `True` means any non-zero number or non-empty object\n",
    "- `False` means not true: zero, an empty object or None"
   ]
  },
  {
   "cell_type": "code",
   "execution_count": null,
   "metadata": {
    "collapsed": false
   },
   "outputs": [],
   "source": [
    "# empty vs non-empty\n",
    "x = ['val']\n",
    "if x:\n",
    "    print('non-empy list')\n",
    "else:\n",
    "    print('empty list')"
   ]
  },
  {
   "cell_type": "code",
   "execution_count": null,
   "metadata": {
    "collapsed": false
   },
   "outputs": [],
   "source": [
    "# logical operators are: and,or,not\n",
    "x = 1\n",
    "y = 2\n",
    "if x > 0 and y > 0:\n",
    "    print('both true')"
   ]
  },
  {
   "cell_type": "code",
   "execution_count": null,
   "metadata": {
    "collapsed": false
   },
   "outputs": [],
   "source": [
    "if x < 1 or y > 1:\n",
    "    print('x is small and y is big')"
   ]
  },
  {
   "cell_type": "code",
   "execution_count": null,
   "metadata": {
    "collapsed": false
   },
   "outputs": [],
   "source": [
    "if not x < 1:\n",
    "    print ('x is big')"
   ]
  },
  {
   "cell_type": "code",
   "execution_count": null,
   "metadata": {
    "collapsed": false
   },
   "outputs": [],
   "source": [
    "# we have already seen that we can assign a control statement to a variable\n",
    "x = 2\n",
    "truthiness = 0 < x <= 1\n",
    "if truthiness:\n",
    "    print('yes')\n",
    "else:\n",
    "    print('no')"
   ]
  },
  {
   "cell_type": "markdown",
   "metadata": {},
   "source": [
    "## Repetition\n",
    "\n",
    "We use `for` loops to iterate over a sequence of objects.  Doing tasks again and again is what computers are good at."
   ]
  },
  {
   "cell_type": "markdown",
   "metadata": {},
   "source": [
    "### for loops"
   ]
  },
  {
   "cell_type": "code",
   "execution_count": null,
   "metadata": {
    "collapsed": false
   },
   "outputs": [],
   "source": [
    "for i in range(5):\n",
    "    print(i)"
   ]
  },
  {
   "cell_type": "code",
   "execution_count": null,
   "metadata": {
    "collapsed": false
   },
   "outputs": [],
   "source": [
    "# we have already seen that strings are iterable\n",
    "for i in 'abcdefghijklmnopqrstuvwxyz':\n",
    "    print(i, end=' ')"
   ]
  },
  {
   "cell_type": "code",
   "execution_count": null,
   "metadata": {
    "collapsed": false
   },
   "outputs": [],
   "source": [
    "scores = {'Sox':76, 'Jays':55, 'O\\'s':46, 'Yanks':94, 'Rays':86}\n",
    "for team,wins in scores.items():\n",
    "    print('The %s are doing' % team, end=' ')\n",
    "    if wins >= 80: \n",
    "        print('great')\n",
    "    elif 70 < wins < 80: \n",
    "        print('poorly')\n",
    "    elif wins < 70: \n",
    "        print('terribly')\n",
    "    else: \n",
    "        print('great')\n",
    "    "
   ]
  },
  {
   "cell_type": "code",
   "execution_count": null,
   "metadata": {
    "collapsed": false
   },
   "outputs": [],
   "source": [
    "# we can loop over a list\n",
    "teams = ['Sox','O\\'s','Jays','Rays','Yanks']\n",
    "for team in teams:\n",
    "    print('The %s are doing' % team, end=' ')\n",
    "    if team in ['Yanks','Rays']:\n",
    "        print('great')\n",
    "    elif team == 'Jays' or team == 'O\\'s':\n",
    "        print('terribly')\n",
    "    else:\n",
    "        print('poorly')"
   ]
  },
  {
   "cell_type": "code",
   "execution_count": null,
   "metadata": {
    "collapsed": false
   },
   "outputs": [],
   "source": [
    "# or iterate through a dictionary\n",
    "al_east_wins = {'Orioles':46, 'Yankees':94, 'Blue Jays':55, 'Rays':86, 'Red Sox':76}\n",
    "\n",
    "for team,wins in al_east_wins.items():\n",
    "    print('%12s\\t%s' % (team,wins))"
   ]
  },
  {
   "cell_type": "markdown",
   "metadata": {},
   "source": [
    "### while loops\n",
    "\n",
    "`while` loops iterate until a condition is met"
   ]
  },
  {
   "cell_type": "code",
   "execution_count": null,
   "metadata": {
    "collapsed": false
   },
   "outputs": [],
   "source": [
    "# test whether a list is empty\n",
    "l = list(range(5))\n",
    "while l:\n",
    "    print(l.pop())"
   ]
  },
  {
   "cell_type": "code",
   "execution_count": null,
   "metadata": {
    "collapsed": false
   },
   "outputs": [],
   "source": [
    "# use the 'break' keyword to exit an infinte loop\n",
    "i = 0\n",
    "while 1:\n",
    "    if i < 5: \n",
    "        print(i, end='\\t')\n",
    "    else:\n",
    "        break\n",
    "    i += 1"
   ]
  }
 ],
 "metadata": {
  "kernelspec": {
   "display_name": "Python 3",
   "language": "python",
   "name": "python3"
  },
  "language_info": {
   "codemirror_mode": {
    "name": "ipython",
    "version": 3
   },
   "file_extension": ".py",
   "mimetype": "text/x-python",
   "name": "python",
   "nbconvert_exporter": "python",
   "pygments_lexer": "ipython3",
   "version": "3.7.3"
  }
 },
 "nbformat": 4,
 "nbformat_minor": 2
}
