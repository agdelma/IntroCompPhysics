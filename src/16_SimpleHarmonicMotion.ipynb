{
 "cells": [
  {
   "cell_type": "markdown",
   "metadata": {},
   "source": [
    "# Physics 256\n",
    "## Simple Harmonic Oscillators"
   ]
  },
  {
   "cell_type": "markdown",
   "metadata": {},
   "source": [
    "<img src=\"http://i.imgur.com/l2WMuTN.gif\">"
   ]
  },
  {
   "cell_type": "code",
   "execution_count": null,
   "metadata": {},
   "outputs": [],
   "source": [
    "import style\n",
    "style._set_css_style('../include/bootstrap.css')"
   ]
  },
  {
   "cell_type": "markdown",
   "metadata": {},
   "source": [
    "## Last Time\n",
    "\n",
    "### [Notebook Link: 15_Baseball.ipynb](./15_Baseball.ipynb)\n",
    "\n",
    "- motion of a pitched ball\n",
    "- drag and the magnus force\n",
    "- surface roughness of a projectile\n",
    "\n",
    "## Today\n",
    "\n",
    "- The simple harmonic pendulum"
   ]
  },
  {
   "cell_type": "markdown",
   "metadata": {},
   "source": [
    "## Setting up the Notebook"
   ]
  },
  {
   "cell_type": "code",
   "execution_count": 1,
   "metadata": {
    "collapsed": false,
    "jupyter": {
     "outputs_hidden": false
    }
   },
   "outputs": [],
   "source": [
    "import matplotlib.pyplot as plt\n",
    "import numpy as np\n",
    "%matplotlib inline\n",
    "plt.style.use('../include/notebook.mplstyle');\n",
    "%config InlineBackend.figure_format = 'svg'"
   ]
  },
  {
   "cell_type": "markdown",
   "metadata": {},
   "source": [
    "## Equation of Motion\n",
    "\n",
    "The equation of motion for a simple linear pendulum of length $\\ell$ and mass $m$ is givn by:\n",
    "\n",
    "$$ m \\frac{d \\vec{v}}{d t} = \\vec{F}_{\\rm g} = -m g \\hat{y}$$\n",
    "\n",
    "Measuring $x$ and $y$ from the equlibrium position we have \n",
    "\\begin{align}\n",
    "x &= \\ell \\sin \\theta \\\\\n",
    "y &= \\ell (1-\\cos\\theta)\n",
    "\\end{align}\n",
    "\n",
    "The kinetic and potential energy are:\n",
    "\n",
    "\\begin{align}\n",
    "T &= \\frac{1}{2} m \\dot{r}^2 \\\\\n",
    "&= \\frac{1}{2} m (\\dot{x}^2 + \\dot{y}^2) \\\\\n",
    "&= \\frac{1}{2} m \\ell^2 \\dot{\\theta}^2\n",
    "\\end{align}\n",
    "\n",
    "\\begin{equation}\n",
    "V = m g \\ell (1-\\cos\\theta).\n",
    "\\end{equation}\n",
    "\n",
    "Thus, the Lagrangian is:\n",
    "\\begin{align}\n",
    "\\mathcal{L} &= T - V \\\\\n",
    "&= \\frac{1}{2} m \\ell^2 \\dot{\\theta}^2 - m g \\ell (1-\\cos\\theta) \n",
    "\\end{align}\n",
    "and the equation of motion is given by the Euler-Lagrange formula\n",
    "\n",
    "\\begin{align}\n",
    "\\frac{\\partial \\mathcal{L}}{\\partial \\theta} - \\frac{d}{dt} \\frac{\\partial \\mathcal{L}}{\\partial \\dot{\\theta}} &= 0 \\\\\n",
    "-m g \\ell \\sin \\theta - \\frac{d}{dt} (m\\ell^2 \\dot{\\theta}) &= 0\n",
    "\\end{align}\n",
    "\n",
    "which yields the familiar equation:\n",
    "\\begin{equation}\n",
    "\\ddot{\\theta} = -\\frac{g}{\\ell} \\sin\\theta .\n",
    "\\end{equation}\n",
    "\n",
    "To solve this analytically, we are used to considering only small angle oscillations allowing us to replace $\\sin\\theta \\simeq \\theta$ for $\\theta \\ll 1$.  For $\\theta(0) = \\theta_0 \\ll 1$ and $\\dot{\\theta}(0) = 0$ can be it can be integrated to give\n",
    "\n",
    "$$ \\theta(t) = \\theta_0 \\cos \\left( \\sqrt{\\frac{g}{\\ell}} t \\right).$$\n"
   ]
  },
  {
   "cell_type": "markdown",
   "metadata": {},
   "source": [
    "<div class=\"span alert alert-success\">\n",
    "<h2> Programming challenge </h2>\n",
    "Use the Euler method to directly integrate the full equation of motion and compare with the analytical expression for $\\theta_0 = \\pi/12$ and $\\dot{\\theta}(0) =0$ for $\\ell = 0.25$ m. \n",
    "\n",
    "\\begin{align}\n",
    "\\theta_{n+1} &= \\theta_n + \\omega_n \\Delta t \\\\\n",
    "\\omega_{n+1} &= \\omega_n - \\frac{g}{\\ell} \\sin\\theta_n \\Delta t \\\\\n",
    "\\end{align}\n",
    "</div>\n",
    "\n",
    "<!--\n",
    "    θ[n+1] = θ[n] + ω[n]*Δt\n",
    "    ω[n+1] = ω[n] -(g/ℓ)*np.sin(θ[n])*Δt\n",
    "-->"
   ]
  },
  {
   "cell_type": "code",
   "execution_count": null,
   "metadata": {
    "collapsed": false,
    "jupyter": {
     "outputs_hidden": false
    }
   },
   "outputs": [],
   "source": [
    "from scipy.constants import pi as π\n",
    "from scipy.constants import g\n",
    "\n",
    "# constants and intitial conditions\n",
    "ℓ = 0.25 # m\n",
    "Δt = 0.001 # s\n",
    "\n",
    "t = np.arange(0.0,5.0,Δt)\n",
    "θ,ω = np.zeros_like(t),np.zeros_like(t)\n",
    "θ[0] = π/12.0 # rad\n",
    "\n",
    "for n in range(t.size-1):\n",
    "    pass\n",
    "\n",
    "# the small angle solution\n",
    "plt.plot(t, θ[0]*np.cos(np.sqrt(g/ℓ)*t), label='Small angle solution')\n",
    "\n",
    "# the Euler method\n",
    "plt.plot(t,θ, label='Euler method')\n",
    "plt.legend(loc='lower left')\n",
    "\n",
    "plt.xlabel('Time [s]')\n",
    "plt.ylabel('θ(t) [rad]')"
   ]
  },
  {
   "cell_type": "markdown",
   "metadata": {},
   "source": [
    "## What went wrong?\n",
    "\n",
    "The oscillations are **growing** with time!  This is our first encounter with a numerical procedure that is **unstable**.  \n",
    "\n",
    "Let's examine the total energy of the system where we can approximate $\\cos\\theta \\simeq 1 - \\theta^2/2$:\n",
    "\n",
    "\\begin{align}\n",
    "E &= \\frac{1}{2} m \\ell^2 \\omega^2 + m g \\ell (1-\\cos\\theta) \\\\\n",
    "&\\simeq \\frac{1}{2}m \\ell^2 \\left(\\omega^2 + \\frac{g}{\\ell}\\theta^2 \\right).\n",
    "\\end{align}\n",
    "\n",
    "Writing things in terms of our Euler variables:\n",
    "\n",
    "\\begin{align}\n",
    "E_{n+1} &= \\frac{1}{2}m\\ell^2 \\left[\\left(\\omega_n - \\frac{g}{\\ell}\\theta_n \\Delta t\\right)^2 + \\frac{g}{\\ell}\\left(\\theta_n + \\omega_n\\Delta t\\right)^2 \\right] \\\\\n",
    "&= E_{n} + \\frac{1}{2}mg \\ell \\left(\\omega_i^2 + \\frac{g}{\\ell} \\theta_n^2\\right) \\Delta t^2.\n",
    "\\end{align}\n",
    "\n",
    "This tells us the origin of the problem: **the energy is increasing without bound, regardless of the size of $\\Delta t$**.\n",
    "\n",
    "### Question: Why didn't we encounter this problem previously?\n",
    "\n",
    "<!-- With the exception of constant acceleration, we always had it, we just never noticed it on the timescales we were interested in. -->\n",
    "\n",
    "### How do we fix it?\n",
    "\n",
    "We can consider alternative higher-order ODE solvers (as described in Appendix A of the textbook).  However, there is a very simple fix that works here:\n",
    "\n",
    "### Euler-Cromer Method\n",
    "Looking at our original discretized equations:\n",
    "\n",
    "\\begin{align}\n",
    "\\theta_{n+1} &= \\theta_n + \\omega_n \\Delta t \\\\\n",
    "\\omega_{n+1} &= \\omega_n - \\frac{g}{\\ell} \\sin\\theta_n \\Delta t\n",
    "\\end{align}\n",
    "\n",
    "we can make the simple observation that we can replace the order of evaluation and use the updated value of $\\omega$ in our calculation of $\\theta$.\n",
    "\n",
    "\\begin{align}\n",
    "\\omega_{n+1} &= \\omega_n - \\frac{g}{\\ell} \\sin\\theta_n \\Delta t \\\\\n",
    "\\theta_{n+1} &= \\theta_n + \\omega_{n+1} \\Delta t\n",
    "\\end{align}\n",
    "\n",
    "This leads to the energy being *approximately* conserved at each step:\n",
    "\n",
    "\\begin{equation}\n",
    "E_{n+1} = E_{n} + \\frac{1}{2}m g \\left(\\omega_n^2 - \\frac{g}{\\ell}\\theta_n^2 \\right)\\Delta t^2 + \\mathrm{O}(\\Delta t^3).\n",
    "\\end{equation}\n"
   ]
  },
  {
   "cell_type": "code",
   "execution_count": null,
   "metadata": {
    "collapsed": false,
    "jupyter": {
     "outputs_hidden": false
    }
   },
   "outputs": [],
   "source": [
    "from scipy.constants import pi as π\n",
    "from scipy.constants import g\n",
    "\n",
    "# constants and intitial conditions\n",
    "ℓ = 0.25 # m\n",
    "Δt = 0.001 # s\n",
    "\n",
    "t = np.arange(0.0,4.0,Δt)\n",
    "θ,ω = np.zeros_like(t),np.zeros_like(t)\n",
    "θ[0] = π/12.0 # rad\n",
    "\n",
    "for n in range(t.size-1):\n",
    "    pass\n",
    "\n",
    "# the small angle solution\n",
    "plt.plot(t, θ[0]*np.cos(np.sqrt(g/ℓ)*t), label='Small angle solution')\n",
    "\n",
    "# the Euler-Cromer method\n",
    "plt.plot(t,θ, label='Euler Cromer method')\n",
    "plt.legend(loc='lower left',frameon=True)\n",
    "\n",
    "plt.xlabel('Time [s]')\n",
    "plt.ylabel('θ(t) [rad]')"
   ]
  },
  {
   "cell_type": "markdown",
   "metadata": {},
   "source": [
    "## There are still some noticable deviations, thoughts?\n",
    "\n",
    "\n",
    "<!--Non-linear corrections. -->\n",
    "\n",
    "## Turning on Non-Linearity\n",
    "\n",
    "An analytical solution exists without the small-angle approximation, but it is considerably more complicated:\n",
    "\n",
    "\\begin{eqnarray}\n",
    "\\theta(t) &=& 2 \\sin^{-1} \\left\\{ k\\, \\mathrm{sn}\\left[K(k^2)-\\sqrt{\\frac{g}{\\ell}} t; k^2\\right] \\right\\} \\newline\n",
    "k &=& \\sin \\frac{\\theta_0}{2} \\newline\n",
    "K(m) &=& \\int_0^1 \\frac{d z}{\\sqrt{(1-z^2)(1-m z^2)}}\n",
    "\\end{eqnarray}\n",
    "\n",
    "<!--\n",
    "\n",
    "\n",
    "\n",
    "# the exact solution\n",
    "plt.plot(t,non_linear_θ(ℓ,θ[0],t), label='Exact solution')\n",
    "\n",
    "-->"
   ]
  },
  {
   "cell_type": "code",
   "execution_count": null,
   "metadata": {},
   "outputs": [],
   "source": [
    "def non_linear_θ(ℓ,θₒ,t):\n",
    "    '''The solution for θ for the non-linear pendulum.'''\n",
    "    # use special functions\n",
    "    from scipy import special\n",
    "    k = np.sin(θₒ/2.0)\n",
    "    K = special.ellipk(k*k)\n",
    "    (sn,cn,dn,ph) = special.ellipj(K-np.sqrt(g/l)*t,k*k)\n",
    "    return 2.0*np.arcsin(k*sn)"
   ]
  },
  {
   "cell_type": "code",
   "execution_count": null,
   "metadata": {
    "collapsed": false,
    "jupyter": {
     "outputs_hidden": false
    }
   },
   "outputs": [],
   "source": [
    "# the small angle solution\n",
    "plt.plot(t, θ[0]*np.cos(np.sqrt(g/ℓ)*t), label='Small angle solution')\n",
    "\n",
    "# the Euler-Cromer method\n",
    "plt.plot(t,θ,label='Euler Cromer method')\n",
    "\n",
    "# the exact solution in terms of special functions\n",
    "plt.plot(t,non_linear_θ(ℓ,θ[0],t), label='Exact', alpha=0.5)\n",
    "plt.legend(loc='lower left',frameon=True)\n",
    "\n",
    "plt.xlabel('Time [s]')\n",
    "plt.ylabel('θ(t) [rad]')"
   ]
  },
  {
   "cell_type": "code",
   "execution_count": null,
   "metadata": {},
   "outputs": [],
   "source": []
  }
 ],
 "metadata": {
  "kernelspec": {
   "display_name": "Python 3",
   "language": "python",
   "name": "python3"
  },
  "language_info": {
   "codemirror_mode": {
    "name": "ipython",
    "version": 3
   },
   "file_extension": ".py",
   "mimetype": "text/x-python",
   "name": "python",
   "nbconvert_exporter": "python",
   "pygments_lexer": "ipython3",
   "version": "3.7.4"
  }
 },
 "nbformat": 4,
 "nbformat_minor": 4
}
