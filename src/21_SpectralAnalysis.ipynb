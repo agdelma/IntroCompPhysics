{
 "cells": [
  {
   "cell_type": "markdown",
   "metadata": {},
   "source": [
    "# Physics 256\n",
    "## Spectral Analysis\n",
    "\n",
    "<img src=\"https://upload.wikimedia.org/wikipedia/commons/e/ea/From_Continuous_To_Discrete_Fourier_Transform.gif\" width=600px>\n",
    "\n",
    "If you are not familiar with Fourier analysis, I strongly reccomend the following video: https://www.youtube.com/watch?v=spUNpyF58BY"
   ]
  },
  {
   "cell_type": "code",
   "execution_count": null,
   "metadata": {},
   "outputs": [],
   "source": [
    "import style\n",
    "style._set_css_style('../include/bootstrap.css')\n",
    "\n",
    "from IPython.display import YouTubeVideo\n",
    "YouTubeVideo('spUNpyF58BY')"
   ]
  },
  {
   "cell_type": "markdown",
   "metadata": {},
   "source": [
    "## Last Time\n",
    "\n",
    "### [Notebook Link: 20 Least Squares](./20_LeastSquares.ipynb)\n",
    "\n",
    "- Non-linear fitting\n",
    "- Goodness of fit and $\\chi^2$\n",
    "\n",
    "\n",
    "## Today\n",
    "\n",
    "- Spectral analysis\n",
    "- Discrete Fourier transform"
   ]
  },
  {
   "cell_type": "markdown",
   "metadata": {},
   "source": [
    "## Setting up the Notebook"
   ]
  },
  {
   "cell_type": "code",
   "execution_count": null,
   "metadata": {},
   "outputs": [],
   "source": [
    "import matplotlib.pyplot as plt\n",
    "import numpy as np\n",
    "%matplotlib inline\n",
    "plt.style.use('../include/notebook.mplstyle');\n",
    "%config InlineBackend.figure_format = 'svg'\n",
    "colors = plt.rcParams['axes.prop_cycle'].by_key()['color']"
   ]
  },
  {
   "cell_type": "markdown",
   "metadata": {},
   "source": [
    "## Spectral Analysis\n",
    "\n",
    "There are entire courses taught on this subject (EE 171) where it is often referred to as *signal processing*.  We will learn how to extract information about the predictable or repeating parts of signals.\n",
    "\n",
    "For a continous function $y(t)$, this is achieved by taking the Fourier transform:\n",
    "\n",
    "\\begin{equation}\n",
    "\\hat{y}(\\omega) = \\int_{-\\infty}^{\\infty} dt y(t) \\mathrm{e}^{-i \\omega t}.\n",
    "\\end{equation}\n",
    "\n",
    "What do we do when we have discrete data sets?\n",
    "\n",
    "### Discrete Fourier Transform\n",
    "\n",
    "Consider a vector of $N$ data points $\\vec{y} = (y_0,\\ldots,y_{N-1})$.  This will often be a *time series*, the value of a function over a long period of time.  We assume that the measurements $y_j$ are made at equally spaced intervals where $t_j = j \\Delta t$ with $j \\in \\mathbb{Z}$. \n",
    "\n",
    "In order to search for any repeating patterns in $\\vec{y}$ we can represent construct a continuous represenation $y(t)$ using the *Dirac comb*:\n",
    "\n",
    "\\begin{equation}\n",
    "y(t) = \\sum_{j=0}^{N-1} y_j \\delta(t - j\\Delta t)\n",
    "\\end{equation}\n",
    "\n",
    "then using our definition for the continuous Fourier transform:\n",
    "\n",
    "\\begin{align}\n",
    "\\hat{y}(\\omega) &= \\int_{-\\infty}^{\\infty} dt y(t) \\mathrm{e}^{-i \\omega j\\Delta t} \\newline\n",
    "&= \\sum_{j=0}^{N-1} y_j \\mathrm{e}^{-i \\omega t} .\n",
    "\\end{align}\n",
    "\n",
    "However, unlike the continous case, our signal has a finite range, $T$.  We can extend it by enforcing that $y(t+T) = y(t)$, i.e. we have a time-translational symmetry by $T$. This implies $y_j = y_{j+N}$ and\n",
    "\n",
    "\\begin{align}\n",
    "\\sum_{j=0}^{N-1} y_j \\mathrm{e}^{-i \\omega j \\Delta t}  &= \\sum_{j=0}^{N-1} y_{j+N} \\mathrm{e}^{-i \\omega (j+N)\\Delta t} \\newline\n",
    "&= \\sum_{j=0}^{N-1} y_{j} \\mathrm{e}^{-i \\omega j\\Delta t} \\mathrm{e}^{-i \\omega T}\n",
    "\\end{align}\n",
    "\n",
    "which is only possible if:\n",
    "\n",
    "\\begin{equation}\n",
    "\\mathrm{e}^{-i \\omega T} = 1 \\Leftrightarrow \\omega = \\omega_k =  \\frac{2\\pi}{N\\Delta t} k \\text{ where } k \\in \\mathbb{Z}.\n",
    "\\end{equation}\n",
    "\n",
    "1. The smallest non-zero frequency is: $$\\omega_1 = \\frac{2\\pi}{N\\Delta t}.$$  We need lots of data at long times to investigate small frequencies.\n",
    "2. The largest frequency we can study is $$\\omega_{N-1} = \\frac{2\\pi(N-1)}{N\\Delta t} \\approx \\frac{2\\pi}{\\Delta t}.$$  To study high frequency behavior we need a small time step $\\Delta t \\ll 1$.\n",
    "\n",
    "We can now write the discrete Fourier transform of $y$ as:\n",
    "\n",
    "\\begin{align}\n",
    "\\hat{y}_k & = \\sum_{j=0}^{N-1} y_j \\mathrm{e}^{-i \\omega_k j \\Delta t} \\newline\n",
    "& = \\sum_{j=0}^{N-1} y_j \\mathrm{e}^{-i 2\\pi k j /N} .\n",
    "\\end{align}\n",
    "\n",
    "Note:\n",
    "\\begin{equation}\n",
    "\\hat{y}_{k+N} = \\sum_{j=0}^{N-1} y_j \\mathrm{e}^{-i 2\\pi (k+N) j /N} = \\sum_{j=0}^{N-1} y_j \\mathrm{e}^{-i 2\\pi j k/N}\\mathrm{e}^{-i 2\\pi j}= \\hat{y}_k.\n",
    "\\end{equation}\n",
    "There are only $N$ values of $k$.\n",
    "\n",
    "### Inverse Fourier Transform\n",
    "\n",
    "To reconstruct our original data set, we multiply both sides by $\\mathrm{e}^{i 2\\pi n k/N}$ and sum over $k$:\n",
    "\n",
    "\\begin{align}\n",
    "\\sum_{k=0}^{N-1} \\hat{y}_k \\mathrm{e}^{i 2\\pi n k/N} & = \\sum_{k=0}^{N-1}\\mathrm{e}^{i 2\\pi n k/N} \\sum_{j=0}^{N-1} y_j \\mathrm{e}^{-i 2\\pi k j /N} \\newline\n",
    " &= \\sum_{j=0}^{N-1} y_j \\sum_{k=0}^{N-1} \\mathrm{e}^{-i 2\\pi k(j-n)/N}\n",
    "\\end{align}\n",
    "\n",
    "and we recognize the definition of the Kronecker $\\delta$-function:\n",
    "\\begin{equation}\n",
    "\\sum_{k=0}^{N-1} \\mathrm{e}^{-i 2\\pi k(j-j')/N} = N \\delta_{j,j'}\n",
    "\\end{equation}\n",
    "such that\n",
    "\\begin{equation}\n",
    "y_n = \\frac{1}{N} \\sum_{k=0}^{N-1}\\hat{y}_k \\mathrm{e}^{i 2\\pi n k/N} .\n",
    "\\end{equation}\n"
   ]
  },
  {
   "cell_type": "markdown",
   "metadata": {},
   "source": [
    "<div class=\"span alert alert-success\">\n",
    "<h2> Programming challenge </h2>\n",
    "Complete the code fragment below to implement the discrete Fourier transform.\n",
    "</div>"
   ]
  },
  {
   "cell_type": "code",
   "execution_count": null,
   "metadata": {},
   "outputs": [],
   "source": [
    "from scipy.constants import pi as π\n",
    "def fourier_transform(y):\n",
    "    '''Return the discrete Fourier transform of y.'''\n",
    "    N = y.size\n",
    "    ŷ = np.zeros([N],dtype=complex)\n",
    "\n",
    "    return ŷ"
   ]
  },
  {
   "cell_type": "code",
   "execution_count": null,
   "metadata": {},
   "outputs": [],
   "source": [
    "# the time series\n",
    "Δt = 0.1\n",
    "t = np.arange(0.0,50.0,Δt)\n",
    "N = t.size\n",
    "ωₒ = 2.0*π*(0.2)\n",
    "ϕ = 0.5*π\n",
    "y = np.sin(ωₒ*t + ϕ) + np.sin(2*ωₒ*t)\n",
    "\n",
    "# Plot the time series\n",
    "fig,ax = plt.subplots(1,2, figsize=(8,4))\n",
    "fig.subplots_adjust(wspace=0.4)\n",
    "\n",
    "ax[0].plot(t,y)\n",
    "ax[0].set_xlabel('Time [s]')\n",
    "ax[0].set_ylabel('Amplitude [arb.]')\n",
    "\n",
    "# Get the discrete FT\n",
    "ω = 2*π*np.arange(0,N)/(N*Δt)\n",
    "ŷ = fourier_transform(y)\n",
    "\n",
    "# Plot the real and imaginary parts of the DFT\n",
    "ax[1].plot(ω,ŷ.real,label='real.', color=colors[0])\n",
    "ax[1].plot(ω,ŷ.imag,linestyle='--',label='imag.', color=colors[-2])\n",
    "\n",
    "ax[1].set_xlabel('Frequency [rad/s]')\n",
    "ax[1].set_ylabel('Transform [arb.]')\n",
    "ax[1].legend(loc='lower right')"
   ]
  },
  {
   "cell_type": "markdown",
   "metadata": {},
   "source": [
    "## Power Spectrum\n",
    "\n",
    "Sometimes we don't want the additional phase information and we only care about the location of the peaks in the spectrum.  It is related to the integrated temporal correlation function of the time series.  For a continuous function:\n",
    "\n",
    "\\begin{equation}\n",
    "\\int_{-\\infty}^{\\infty} d\\tau \\left[\\int_{-\\infty}^{\\infty} dt y(t)y^\\ast(t+\\tau) \\right] \\mathrm{e}^{i\\omega \\tau} = \\hat{y}(\\omega)\\hat{y}^\\ast(\\omega) = |\\hat{y}(\\omega)|^2\n",
    "\\end{equation}\n",
    "\n",
    "where we have used the convolution property of the Fourier transform.\n",
    "\n",
    "We can analze it for our previous time series in the discrete case:"
   ]
  },
  {
   "cell_type": "code",
   "execution_count": null,
   "metadata": {},
   "outputs": [],
   "source": [
    "plt.plot(ω,np.abs(ŷ),color=colors[2])\n",
    "plt.xlabel('Frequency [rad/s]')\n",
    "plt.ylabel('Power [arb]')"
   ]
  },
  {
   "cell_type": "markdown",
   "metadata": {},
   "source": [
    "### Let's investigate the power of the Fourier transform on some input data"
   ]
  },
  {
   "cell_type": "code",
   "execution_count": null,
   "metadata": {},
   "outputs": [],
   "source": [
    "t,*y = np.loadtxt('../data/signal.dat',unpack=True)\n",
    "fig, axes = plt.subplots(1,2,sharex=True, sharey=True, squeeze=True, figsize=(8,4))\n",
    "fig.subplots_adjust(wspace=0.1)\n",
    "\n",
    "for i,ax in enumerate(axes):\n",
    "    ax.plot(t,y[i],'-',color=colors[i], linewidth=1)\n",
    "\n",
    "axes[0].set_ylabel('y')\n",
    "[ax.set_xlabel('t') for ax in axes]"
   ]
  },
  {
   "cell_type": "code",
   "execution_count": null,
   "metadata": {},
   "outputs": [],
   "source": [
    "ω = 2*π*np.arange(0,t.size)/(t.size*(t[1]-t[0]))\n",
    "\n",
    "fig, axes = plt.subplots(1,2,sharex=True, sharey=True, squeeze=True, figsize=(8,4))\n",
    "fig.subplots_adjust(wspace=0.1)\n",
    "\n",
    "for i,ax in enumerate(axes):\n",
    "    ŷ = fourier_transform(y[i])\n",
    "    ax.plot(ω,np.abs(ŷ),color=colors[i], linewidth=1)\n",
    "    ax.set_xlabel('ω')\n",
    "    ax.set_xlim(0,ω[-1])\n",
    "\n",
    "axes[0].set_ylabel('|ŷ|')"
   ]
  },
  {
   "cell_type": "markdown",
   "metadata": {},
   "source": [
    "In all these examples, we have identifed some *natural* frequecies in the time series, but there were always two copies.\n",
    "\n",
    "### What is the origin of the large frequency signals?\n",
    "\n",
    "For a real signal we have: $y_j = y^\\ast_j$.  Consider the complex conjugate of the Fourier tranform $\\hat{y}^\\ast_k$:\n",
    "\n",
    "\\begin{align}\n",
    "\\hat{y}^\\ast_k &= \\sum_{j=0}^{N-1} y^\\ast_j \\mathrm{e}^{i2\\pi jk/N} \\newline\n",
    " &= \\sum_{j=0}^{N-1} y_j \\mathrm{e}^{-i2\\pi j(-k)/N} \\times \\mathrm{e}^{-i 2\\pi j N/N} \\newline\n",
    " &= \\sum_{j=0}^{N-1} y_j \\mathrm{e}^{-i2\\pi j(N-k)/N}  \\newline\n",
    " &= \\hat{y}_{N-k} .\n",
    "\\end{align}\n",
    "\n",
    "Thus, the $N$ real data points are used to construct $N/2$ unique *complex* data.  The spectrum is completely described by the first $N/2$ frequencies.  Instead of $2\\pi/\\Delta t$ the largest frequency we can distinguish is half this value.\n",
    "\n",
    "### Nyquist Frequency\n",
    "$$\\omega_{\\rm Ny} = \\frac{\\pi}{\\Delta t}$$\n",
    "\n",
    "We can simply truncate our discrete Fourier transform, plotting the meaningful independent components."
   ]
  },
  {
   "cell_type": "code",
   "execution_count": null,
   "metadata": {},
   "outputs": [],
   "source": [
    "fig, axes = plt.subplots(1,2,sharex=True, sharey=True, squeeze=True, figsize=(8,4))\n",
    "fig.subplots_adjust(wspace=0.1)\n",
    "\n",
    "for i,ax in enumerate(axes):\n",
    "    ŷ = fourier_transform(y[i])\n",
    "    ax.plot(ω,np.abs(ŷ),color=colors[i], linewidth=1)\n",
    "    ax.set_xlabel('ω')\n",
    "    ax.set_xlim(0,0.5*ω[-1])\n",
    "\n",
    "axes[0].set_ylabel('|ŷ|')"
   ]
  },
  {
   "cell_type": "markdown",
   "metadata": {},
   "source": [
    "In practice, we want $\\omega_{\\rm Ny}$ to be considerably larger then any Fourier components that are expected to be present in the signal.\n",
    "\n",
    "1. In experiments: use a low-pass filter.\n",
    "2. In simulations, make sure $\\Delta t \\ll$ any intrinsic time scales."
   ]
  },
  {
   "cell_type": "code",
   "execution_count": null,
   "metadata": {},
   "outputs": [],
   "source": []
  }
 ],
 "metadata": {
  "kernelspec": {
   "display_name": "Python 3",
   "language": "python",
   "name": "python3"
  },
  "language_info": {
   "codemirror_mode": {
    "name": "ipython",
    "version": 3
   },
   "file_extension": ".py",
   "mimetype": "text/x-python",
   "name": "python",
   "nbconvert_exporter": "python",
   "pygments_lexer": "ipython3",
   "version": "3.7.4"
  }
 },
 "nbformat": 4,
 "nbformat_minor": 4
}
