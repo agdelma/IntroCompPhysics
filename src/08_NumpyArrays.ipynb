{
 "cells": [
  {
   "cell_type": "markdown",
   "metadata": {},
   "source": [
    "# Physics 256\n",
    "## Lecture 08 - I/O & Numpy"
   ]
  },
  {
   "cell_type": "markdown",
   "metadata": {},
   "source": [
    "<img src=\"http://www.numpy.org/_static/numpy_logo.png\" width=300px>"
   ]
  },
  {
   "cell_type": "markdown",
   "metadata": {},
   "source": [
    "## Last Time\n",
    "\n",
    "- wrote a module to compute $\\pi$ in various ways\n",
    "- saw Monte Carlo for the first time!\n",
    "- working with the filesystem\n",
    "- file input/output\n",
    "\n",
    "## Today\n",
    "- working with numerical data\n",
    "- introduction to Numpy\n"
   ]
  },
  {
   "cell_type": "markdown",
   "metadata": {},
   "source": [
    "<div class=\"span alert alert-success\">\n",
    "<h2> Team programming challenge </h2>\n",
    "<h3> Average energy for the simple harmonic oscillator at finite temperature</h3>\n",
    "</div>\n",
    "\n",
    "I have uploaded a data file on BlackBoard in the Week 03 Course Materials called `sho_energy.dat`.  The line contains column headings with units in kelvin.\n",
    "\n",
    "The next set of lines contain quantum Monte Carlo measurements for the kinetic and potential energy of the simple harmonic osscilator at $T = 0.5~\\mathrm{K}$ where $\\hbar \\omega/k_{\\mathrm{B}} = 1$.  The exact answer is known to be:\n",
    "\\begin{equation}\n",
    "E(T) = \\frac{\\hbar \\omega}{2} \\coth \\frac{\\hbar \\omega}{2 k_{\\mathrm{B}} T}.\n",
    "\\end{equation}\n",
    "\n",
    "Download the data file to your computer and write a program that loads the file from disk and computes the average total energy of all lines.  If you have extra time, compare with the exact result."
   ]
  },
  {
   "cell_type": "code",
   "execution_count": 1,
   "metadata": {
    "collapsed": false
   },
   "outputs": [
    {
     "name": "stdout",
     "output_type": "stream",
     "text": [
      "#         Kinetic       Potential \r\n",
      "   6.22407909E-01  3.77134851E-01  \r\n",
      "   4.29547101E-01  2.42379252E-01  \r\n",
      "   2.37001671E-01  2.67495403E-01  \r\n",
      "   3.01818649E-01  2.58392255E-01  \r\n",
      "   4.09565316E-01  3.15222495E-01  \r\n",
      "   2.14317707E-01  4.51218376E-01  \r\n",
      "   4.18641845E-01  2.89516631E-01  \r\n",
      "   3.66230261E-01  2.80669596E-01  \r\n",
      "   2.39985912E-01  3.49197015E-01  \r\n",
      "   4.08868551E-01  2.73554341E-01  \r\n",
      "   4.29891894E-01  2.28270437E-01  \r\n",
      "   1.76880098E-01  3.74807008E-01  \r\n",
      "   4.50146777E-01  2.60430892E-01  \r\n",
      "   2.94294733E-01  3.82058897E-01  \r\n",
      "   4.52161080E-01  2.44881829E-01  \r\n",
      "   3.44609451E-01  3.31618376E-01  \r\n",
      "   4.01977123E-01  2.86437236E-01  \r\n",
      "   1.95875270E-01  3.09855155E-01  \r\n",
      "   4.07812408E-01  3.67230198E-01  \r\n",
      "   2.81732855E-01  3.38656673E-01  \r\n",
      "   3.49238393E-01  2.34915354E-01  \r\n",
      "   7.58970450E-02  3.47864555E-01  \r\n",
      "   2.35324623E-01  2.41883096E-01  \r\n",
      "   4.14538771E-01  4.14814837E-01  \r\n",
      "   3.56186180E-01  2.82852947E-01  \r\n",
      "   3.08263779E-01  2.61148485E-01  \r\n",
      "   3.51531602E-01  3.84750836E-01  \r\n",
      "   4.13973099E-01  3.53702293E-01  \r\n",
      "   3.92675219E-01  2.93938978E-01  \r\n",
      "   3.77202537E-01  4.25175485E-01  \r\n",
      "   3.91846384E-02  2.84571148E-01  \r\n",
      "   3.13953529E-01  2.54153321E-01  \r\n",
      "   2.28571815E-01  2.92566869E-01  \r\n",
      "   2.74552363E-01  2.89681106E-01  \r\n",
      "   3.64345023E-01  3.22662317E-01  \r\n",
      "   3.89081119E-01  3.38496063E-01  \r\n",
      "   3.77922421E-01  3.09245215E-01  \r\n",
      "   5.17570876E-01  3.25877265E-01  \r\n",
      "   3.42106263E-01  4.10930330E-01  \r\n",
      "   2.55002349E-01  2.98024797E-01  \r\n",
      "   2.73946972E-01  3.60943726E-01  \r\n",
      "   4.73668443E-01  2.82561209E-01  \r\n",
      "   2.15570473E-01  2.87773625E-01  \r\n",
      "   2.91227918E-01  2.97038660E-01  \r\n",
      "   4.92027933E-01  2.31306192E-01  \r\n",
      "   4.51321203E-01  3.22497257E-01  \r\n",
      "   3.80368393E-01  3.18374448E-01  \r\n",
      "   2.83040980E-01  3.94547678E-01  \r\n",
      "   1.91338598E-01  3.24232481E-01  \r\n",
      "   3.83124905E-01  3.48084719E-01  \r\n",
      "   7.03530693E-01  2.92183381E-01  \r\n",
      "   2.88021063E-01  2.59222498E-01  \r\n",
      "   4.01169774E-01  3.28670954E-01  \r\n",
      "   3.48408046E-01  2.46565661E-01  \r\n",
      "   2.36968115E-01  4.54009582E-01  \r\n",
      "   3.47970254E-01  3.05955359E-01  \r\n",
      "   2.49724515E-01  3.19558030E-01  \r\n",
      "   3.34760811E-01  4.06845566E-01  \r\n",
      "   3.24031817E-01  3.07531962E-01  \r\n",
      "   3.65594753E-01  3.89643864E-01  \r\n",
      "   3.88699997E-01  4.36493534E-01  \r\n",
      "   3.29836468E-01  2.58774211E-01  \r\n",
      "   3.23400860E-01  3.78085173E-01  \r\n",
      "   4.63049001E-01  3.07513186E-01  \r\n",
      "   4.44633551E-01  3.66748225E-01  \r\n",
      "   3.39814276E-01  2.40358766E-01  \r\n",
      "   3.14019128E-01  4.29008452E-01  \r\n",
      "   3.89176739E-01  3.35800721E-01  \r\n",
      "   4.81341340E-01  3.39699264E-01  \r\n",
      "   3.15593205E-01  3.65387024E-01  \r\n",
      "   4.76383731E-01  4.20763294E-01  \r\n",
      "   2.69194023E-01  2.44221724E-01  \r\n",
      "   4.42198677E-01  2.70598324E-01  \r\n",
      "   3.45566563E-01  2.84435538E-01  \r\n",
      "   2.70550257E-01  2.47907442E-01  \r\n",
      "   3.81645592E-01  3.36414677E-01  \r\n",
      "   3.39137567E-01  3.63777691E-01  \r\n",
      "   3.09287864E-01  4.29483297E-01  \r\n",
      "   3.23417573E-01  4.01822556E-01  \r\n",
      "   5.26935059E-01  3.13494948E-01  \r\n",
      "   2.64787335E-01  2.31303281E-01  \r\n",
      "   4.20643867E-01  2.84629321E-01  \r\n",
      "   3.13134670E-01  3.30908498E-01  \r\n",
      "   2.98123445E-01  3.02906045E-01  \r\n",
      "   4.32025154E-01  3.58888404E-01  \r\n",
      "   2.66027526E-01  3.59500162E-01  \r\n",
      "   3.39630196E-01  4.07672065E-01  \r\n",
      "   1.74118580E-01  2.91727021E-01  \r\n",
      "   3.88839520E-01  2.94189326E-01  \r\n",
      "   2.81309277E-01  3.02944548E-01  \r\n",
      "   1.81360485E-01  3.23353421E-01  \r\n",
      "   5.22785861E-01  4.28154275E-01  \r\n",
      "   4.90592941E-01  2.95281401E-01  \r\n",
      "   3.28699565E-01  3.69066102E-01  \r\n",
      "   2.79856415E-01  2.67487067E-01  \r\n",
      "   2.58883053E-01  3.36661227E-01  \r\n",
      "   2.64961515E-01  3.03649091E-01  \r\n",
      "   3.05785016E-01  3.53010333E-01  \r\n",
      "   2.96897274E-01  2.75480925E-01  \r\n",
      "   3.47161034E-01  3.11490141E-01  \r\n"
     ]
    }
   ],
   "source": [
    "!cat data/sho_energy.dat"
   ]
  },
  {
   "cell_type": "code",
   "execution_count": null,
   "metadata": {
    "collapsed": false
   },
   "outputs": [],
   "source": [
    "# %load \"data/sho_average.py\"\n",
    "'''\n",
    "sho_average.py\n",
    "Compute the average energy of the simple harmonic osscilator from an input\n",
    "file\n",
    "'''\n",
    "\n",
    "import math\n",
    "\n",
    "# -----------------------------------------------------------------------------\n",
    "def sho_energy(T):\n",
    "    '''Return the energy of a simple harmonic osscilator at temperature T.'''\n",
    "    # \\hbar \\omega / k_B = 1\n",
    "    return 0.5/math.tanh(0.5/T)\n",
    "\n",
    "\n",
    "# -----------------------------------------------------------------------------\n",
    "def main():\n",
    "    # open the file for reading\n",
    "    data_file = open('sho_energy.dat', 'r')\n",
    "\n",
    "    # get the column labels\n",
    "    data_labels = data_file.readline()\n",
    "\n",
    "    # split it at the spaces\n",
    "    labels = data_labels.split()\n",
    "\n",
    "    # remove the comment character\n",
    "    labels.remove('#')\n",
    "\n",
    "    # create an empty dictionary that will hold the data\n",
    "    data = {}\n",
    "\n",
    "    # initialize it with empty lists\n",
    "    for label in labels:\n",
    "        data[label] = []\n",
    "\n",
    "    # go through each line of the file\n",
    "    for line in data_file.readlines():\n",
    "        # get a list of columns\n",
    "        values = line.split()\n",
    "\n",
    "        # go through each value, convert to float and add to our list\n",
    "        for n,value in enumerate(values):\n",
    "            data[labels[n]].append(float(value))\n",
    "\n",
    "    # close the file\n",
    "    data_file.close()\n",
    "\n",
    "    # now that we have all the data, we can compute the averages\n",
    "    data_average = {}\n",
    "    for label in labels:\n",
    "        data_average[label] = 0.0\n",
    "\n",
    "        for value in data[label]:\n",
    "            data_average[label] += value\n",
    "\n",
    "        data_average[label] /= len(data[label])\n",
    "\n",
    "    print('Total Energy = %6.3f K' % (data_average['Kinetic'] + data_average['Potential']))\n",
    "    print('Exact Energy = %6.3f K' % sho_energy(0.5))\n",
    "\n",
    "# -----------------------------------------------------------------------------\n",
    "if __name__ == '__main__':\n",
    "    main()\n"
   ]
  },
  {
   "cell_type": "markdown",
   "metadata": {},
   "source": [
    "## NumPy\n",
    "\n",
    "NumPy is the fundamental package needed for scientific computing with Python. It contains among other things:\n",
    "- a powerful N-dimensional array object \n",
    "- sophisticated and optimized array (broadcasting) functions\n",
    "- tools for integrating C/C++ and Fortran code \n",
    "- useful linear algebra, Fourier transform, and random number capabilities\n",
    "\n",
    "We can import all this functionality using the `import` command.  It is customary to use the shortform `np`"
   ]
  },
  {
   "cell_type": "code",
   "execution_count": 2,
   "metadata": {
    "collapsed": false
   },
   "outputs": [],
   "source": [
    "import numpy as np"
   ]
  },
  {
   "cell_type": "code",
   "execution_count": 3,
   "metadata": {
    "collapsed": false
   },
   "outputs": [
    {
     "name": "stdout",
     "output_type": "stream",
     "text": [
      "Total Energy = 0.667 K\n",
      "Exact Energy = 0.657 K\n"
     ]
    }
   ],
   "source": [
    "# Using Numpy!\n",
    "data = np.genfromtxt('data/sho_energy.dat',names=True, comments='#')\n",
    "print('Total Energy = %5.3f K' % (np.average(data['Kinetic']+data['Potential'])))\n",
    "print('Exact Energy = %5.3f K' % (0.5/np.tanh(1.0)))"
   ]
  },
  {
   "cell_type": "code",
   "execution_count": 4,
   "metadata": {
    "collapsed": false
   },
   "outputs": [
    {
     "data": {
      "text/plain": [
       "array([(0.622407909, 0.377134851), (0.429547101, 0.242379252),\n",
       "       (0.237001671, 0.267495403), (0.301818649, 0.258392255),\n",
       "       (0.409565316, 0.315222495), (0.214317707, 0.451218376),\n",
       "       (0.418641845, 0.289516631), (0.366230261, 0.280669596),\n",
       "       (0.239985912, 0.349197015), (0.408868551, 0.273554341),\n",
       "       (0.429891894, 0.228270437), (0.176880098, 0.374807008),\n",
       "       (0.450146777, 0.260430892), (0.294294733, 0.382058897),\n",
       "       (0.45216108, 0.244881829), (0.344609451, 0.331618376),\n",
       "       (0.401977123, 0.286437236), (0.19587527, 0.309855155),\n",
       "       (0.407812408, 0.367230198), (0.281732855, 0.338656673),\n",
       "       (0.349238393, 0.234915354), (0.075897045, 0.347864555),\n",
       "       (0.235324623, 0.241883096), (0.414538771, 0.414814837),\n",
       "       (0.35618618, 0.282852947), (0.308263779, 0.261148485),\n",
       "       (0.351531602, 0.384750836), (0.413973099, 0.353702293),\n",
       "       (0.392675219, 0.293938978), (0.377202537, 0.425175485),\n",
       "       (0.0391846384, 0.284571148), (0.313953529, 0.254153321),\n",
       "       (0.228571815, 0.292566869), (0.274552363, 0.289681106),\n",
       "       (0.364345023, 0.322662317), (0.389081119, 0.338496063),\n",
       "       (0.377922421, 0.309245215), (0.517570876, 0.325877265),\n",
       "       (0.342106263, 0.41093033), (0.255002349, 0.298024797),\n",
       "       (0.273946972, 0.360943726), (0.473668443, 0.282561209),\n",
       "       (0.215570473, 0.287773625), (0.291227918, 0.29703866),\n",
       "       (0.492027933, 0.231306192), (0.451321203, 0.322497257),\n",
       "       (0.380368393, 0.318374448), (0.28304098, 0.394547678),\n",
       "       (0.191338598, 0.324232481), (0.383124905, 0.348084719),\n",
       "       (0.703530693, 0.292183381), (0.288021063, 0.259222498),\n",
       "       (0.401169774, 0.328670954), (0.348408046, 0.246565661),\n",
       "       (0.236968115, 0.454009582), (0.347970254, 0.305955359),\n",
       "       (0.249724515, 0.31955803), (0.334760811, 0.406845566),\n",
       "       (0.324031817, 0.307531962), (0.365594753, 0.389643864),\n",
       "       (0.388699997, 0.436493534), (0.329836468, 0.258774211),\n",
       "       (0.32340086, 0.378085173), (0.463049001, 0.307513186),\n",
       "       (0.444633551, 0.366748225), (0.339814276, 0.240358766),\n",
       "       (0.314019128, 0.429008452), (0.389176739, 0.335800721),\n",
       "       (0.48134134, 0.339699264), (0.315593205, 0.365387024),\n",
       "       (0.476383731, 0.420763294), (0.269194023, 0.244221724),\n",
       "       (0.442198677, 0.270598324), (0.345566563, 0.284435538),\n",
       "       (0.270550257, 0.247907442), (0.381645592, 0.336414677),\n",
       "       (0.339137567, 0.363777691), (0.309287864, 0.429483297),\n",
       "       (0.323417573, 0.401822556), (0.526935059, 0.313494948),\n",
       "       (0.264787335, 0.231303281), (0.420643867, 0.284629321),\n",
       "       (0.31313467, 0.330908498), (0.298123445, 0.302906045),\n",
       "       (0.432025154, 0.358888404), (0.266027526, 0.359500162),\n",
       "       (0.339630196, 0.407672065), (0.17411858, 0.291727021),\n",
       "       (0.38883952, 0.294189326), (0.281309277, 0.302944548),\n",
       "       (0.181360485, 0.323353421), (0.522785861, 0.428154275),\n",
       "       (0.490592941, 0.295281401), (0.328699565, 0.369066102),\n",
       "       (0.279856415, 0.267487067), (0.258883053, 0.336661227),\n",
       "       (0.264961515, 0.303649091), (0.305785016, 0.353010333),\n",
       "       (0.296897274, 0.275480925), (0.347161034, 0.311490141)], \n",
       "      dtype=[('Kinetic', '<f8'), ('Potential', '<f8')])"
      ]
     },
     "execution_count": 4,
     "metadata": {},
     "output_type": "execute_result"
    }
   ],
   "source": [
    "data"
   ]
  },
  {
   "cell_type": "code",
   "execution_count": 7,
   "metadata": {
    "collapsed": false
   },
   "outputs": [
    {
     "name": "stdout",
     "output_type": "stream",
     "text": [
      "Kinetic\n",
      "Potential\n"
     ]
    }
   ],
   "source": [
    "for name in data.dtype.names:\n",
    "    print(name)"
   ]
  },
  {
   "cell_type": "markdown",
   "metadata": {},
   "source": [
    "NumPy contains array-optimized versions of all the standard library math functions."
   ]
  },
  {
   "cell_type": "code",
   "execution_count": 8,
   "metadata": {
    "collapsed": false
   },
   "outputs": [
    {
     "name": "stdout",
     "output_type": "stream",
     "text": [
      "1.11085552616\n",
      "(1-3j)\n"
     ]
    }
   ],
   "source": [
    "print(np.sqrt(1.234))\n",
    "\n",
    "# can deal with complex numbers\n",
    "print(np.conjugate(1+3j))"
   ]
  },
  {
   "cell_type": "markdown",
   "metadata": {},
   "source": [
    "The most important part of NumPy for us is the array datatype.  We can create arrays using:\n",
    "- python lists\n",
    "- special functions `zeros`, `ones`, `arange`, `linspace`, etc.\n",
    "- directy from files"
   ]
  },
  {
   "cell_type": "markdown",
   "metadata": {},
   "source": [
    "### Creation from lists"
   ]
  },
  {
   "cell_type": "code",
   "execution_count": 11,
   "metadata": {
    "collapsed": false
   },
   "outputs": [
    {
     "name": "stdout",
     "output_type": "stream",
     "text": [
      "[ 0  1  2  3  4  5  6  7  8  9 10 11 12 13 14 15 16 17 18 19 20 21 22 23 24\n",
      " 25 26 27 28 29 30 31 32 33 34 35 36 37 38 39 40 41 42 43 44 45 46 47 48 49\n",
      " 50 51 52 53 54 55 56 57 58 59 60 61 62 63 64 65 66 67 68 69 70 71 72 73 74\n",
      " 75 76 77 78 79 80 81 82 83 84 85 86 87 88 89 90 91 92 93 94 95 96 97 98 99]\n"
     ]
    }
   ],
   "source": [
    "a = np.array([0,1,2,3,4])\n",
    "a\n",
    "b = np.array([i for i in range(100)])\n",
    "print(b)"
   ]
  },
  {
   "cell_type": "code",
   "execution_count": 12,
   "metadata": {
    "collapsed": false
   },
   "outputs": [
    {
     "data": {
      "text/plain": [
       "array([ 0.,  1.,  2.])"
      ]
     },
     "execution_count": 12,
     "metadata": {},
     "output_type": "execute_result"
    }
   ],
   "source": [
    "# It will try to dynamically guess\n",
    "# the type unless we specify with ‘dtype’\n",
    "a = np.array([0,1,2],dtype=float)\n",
    "a"
   ]
  },
  {
   "cell_type": "markdown",
   "metadata": {},
   "source": [
    "<div class=\"span alert alert-danger\">\n",
    "Numpy arrays are **statically typed**.  This allows them to be extremely fast with highly optimized array operations.  However, we cannot use them as heterogenous object collections.\n",
    "</div>"
   ]
  },
  {
   "cell_type": "code",
   "execution_count": 13,
   "metadata": {
    "collapsed": false
   },
   "outputs": [
    {
     "ename": "ValueError",
     "evalue": "could not convert string to float: 'hello'",
     "output_type": "error",
     "traceback": [
      "\u001b[0;31m---------------------------------------------------------------------------\u001b[0m",
      "\u001b[0;31mValueError\u001b[0m                                Traceback (most recent call last)",
      "\u001b[0;32m<ipython-input-13-e0a44f677ee5>\u001b[0m in \u001b[0;36m<module>\u001b[0;34m()\u001b[0m\n\u001b[0;32m----> 1\u001b[0;31m \u001b[0ma\u001b[0m\u001b[0;34m[\u001b[0m\u001b[0;36m0\u001b[0m\u001b[0;34m]\u001b[0m \u001b[0;34m=\u001b[0m \u001b[0;34m'hello'\u001b[0m\u001b[0;34m\u001b[0m\u001b[0m\n\u001b[0m",
      "\u001b[0;31mValueError\u001b[0m: could not convert string to float: 'hello'"
     ]
    }
   ],
   "source": [
    "a[0] = 'hello'"
   ]
  },
  {
   "cell_type": "code",
   "execution_count": 14,
   "metadata": {
    "collapsed": false
   },
   "outputs": [
    {
     "data": {
      "text/plain": [
       "dtype('float64')"
      ]
     },
     "execution_count": 14,
     "metadata": {},
     "output_type": "execute_result"
    }
   ],
   "source": [
    "# use dtype to see the type of an array\n",
    "a.dtype"
   ]
  },
  {
   "cell_type": "markdown",
   "metadata": {},
   "source": [
    "### Using array creation functions"
   ]
  },
  {
   "cell_type": "code",
   "execution_count": 15,
   "metadata": {
    "collapsed": false
   },
   "outputs": [
    {
     "data": {
      "text/plain": [
       "array([ 0. ,  0.5,  1. ,  1.5,  2. ,  2.5,  3. ,  3.5,  4. ,  4.5,  5. ,\n",
       "        5.5,  6. ,  6.5,  7. ,  7.5,  8. ,  8.5,  9. ,  9.5])"
      ]
     },
     "execution_count": 15,
     "metadata": {},
     "output_type": "execute_result"
    }
   ],
   "source": [
    "# `arange` is like `range` except it can produce lists of floats\n",
    "a = np.arange(0,10,0.5)\n",
    "a"
   ]
  },
  {
   "cell_type": "code",
   "execution_count": 16,
   "metadata": {
    "collapsed": false
   },
   "outputs": [
    {
     "data": {
      "text/plain": [
       "array([ 0.        ,  0.70710678,  1.        ,  1.22474487,  1.41421356,\n",
       "        1.58113883,  1.73205081,  1.87082869,  2.        ,  2.12132034,\n",
       "        2.23606798,  2.34520788,  2.44948974,  2.54950976,  2.64575131,\n",
       "        2.73861279,  2.82842712,  2.91547595,  3.        ,  3.082207  ])"
      ]
     },
     "execution_count": 16,
     "metadata": {},
     "output_type": "execute_result"
    }
   ],
   "source": [
    "np.sqrt(a)"
   ]
  },
  {
   "cell_type": "code",
   "execution_count": 17,
   "metadata": {
    "collapsed": false
   },
   "outputs": [
    {
     "name": "stdout",
     "output_type": "stream",
     "text": [
      "[ 0.  0.  0.  0.  0.  0.  0.  0.  0.  0.]\n",
      "[ 1.  1.  1.  1.  1.  1.  1.  1.  1.  1.]\n",
      "[ 0.  0.  0.  0.  0.  0.  0.  0.  0.  0.]\n"
     ]
    }
   ],
   "source": [
    "# zeros and ones work as expected\n",
    "a0 = np.zeros(10)\n",
    "a1 = np.ones(10)\n",
    "\n",
    "a2 = np.zeros_like(a1)\n",
    "\n",
    "print(a0)\n",
    "print(a1)\n",
    "print(a2)"
   ]
  },
  {
   "cell_type": "code",
   "execution_count": 18,
   "metadata": {
    "collapsed": false
   },
   "outputs": [
    {
     "data": {
      "text/plain": [
       "array([ 0.        ,  0.11111111,  0.22222222,  0.33333333,  0.44444444,\n",
       "        0.55555556,  0.66666667,  0.77777778,  0.88888889,  1.        ])"
      ]
     },
     "execution_count": 18,
     "metadata": {},
     "output_type": "execute_result"
    }
   ],
   "source": [
    "# linspace allows us to divide a region in to N linear pieces\n",
    "a = np.linspace(0,1,10)\n",
    "a"
   ]
  },
  {
   "cell_type": "code",
   "execution_count": 19,
   "metadata": {
    "collapsed": false
   },
   "outputs": [
    {
     "data": {
      "text/plain": [
       "array([  1.00000000e+00,   3.03773178e+00,   9.22781435e+00,\n",
       "         2.80316249e+01,   8.51525577e+01,   2.58670631e+02,\n",
       "         7.85771994e+02,   2.38696456e+03,   7.25095809e+03,\n",
       "         2.20264658e+04])"
      ]
     },
     "execution_count": 19,
     "metadata": {},
     "output_type": "execute_result"
    }
   ],
   "source": [
    "# `logspace` can do the same for exponential functions\n",
    "l = np.logspace(0, 10, 10, base=np.e)\n",
    "l"
   ]
  },
  {
   "cell_type": "markdown",
   "metadata": {},
   "source": [
    "## We can also make arrays filled with random numbers"
   ]
  },
  {
   "cell_type": "code",
   "execution_count": 21,
   "metadata": {
    "collapsed": false
   },
   "outputs": [
    {
     "data": {
      "text/plain": [
       "array([ 0.73934775,  0.46542108,  0.69588297,  0.7185467 ,  0.86461199,\n",
       "        0.22761383,  0.25242562,  0.38028761,  0.91662061,  0.87294093,\n",
       "        0.23054526,  0.2554207 ,  0.4558353 ,  0.47419194,  0.97372686,\n",
       "        0.55929384,  0.22198441,  0.58392934,  0.61406328,  0.28354764,\n",
       "        0.02299033,  0.41981317,  0.33063449,  0.92685623,  0.29973477,\n",
       "        0.17337547,  0.94741664,  0.40567867,  0.72804284,  0.13366162,\n",
       "        0.19841648,  0.87527464,  0.55214491,  0.60978674,  0.64338985,\n",
       "        0.61792799,  0.34642697,  0.58207713,  0.92593782,  0.45681484,\n",
       "        0.10524623,  0.9888848 ,  0.02948178,  0.37580938,  0.5540696 ,\n",
       "        0.80869315,  0.37451803,  0.21388257,  0.482871  ,  0.00264605,\n",
       "        0.65436084,  0.89201641,  0.71953958,  0.30222324,  0.07297904,\n",
       "        0.73724499,  0.72076489,  0.2909134 ,  0.37675201,  0.88949551,\n",
       "        0.57268237,  0.86873958,  0.19320659,  0.57207939,  0.79761829,\n",
       "        0.85950627,  0.01886307,  0.59940825,  0.15888996,  0.59224911,\n",
       "        0.46915913,  0.48933689,  0.9104692 ,  0.47185873,  0.05327852,\n",
       "        0.92831518,  0.41212231,  0.07332661,  0.14431356,  0.96256416,\n",
       "        0.5476313 ,  0.03720108,  0.442027  ,  0.65640048,  0.2608275 ,\n",
       "        0.43871771,  0.42057442,  0.33810183,  0.28392402,  0.62840225,\n",
       "        0.10055225,  0.31126413,  0.48019053,  0.23731284,  0.96240747,\n",
       "        0.38169051,  0.42419976,  0.94524277,  0.32086414,  0.11083551])"
      ]
     },
     "execution_count": 21,
     "metadata": {},
     "output_type": "execute_result"
    }
   ],
   "source": [
    "r = np.random.random(100)\n",
    "r"
   ]
  },
  {
   "cell_type": "markdown",
   "metadata": {},
   "source": [
    "<div class=\"span alert alert-danger\">\n",
    "Note that when using linspace, the endpoints are included!!!\n",
    "</div>\n",
    "\n",
    "The numpy routines are **much** faster than the built in python methods"
   ]
  },
  {
   "cell_type": "code",
   "execution_count": 22,
   "metadata": {
    "collapsed": false
   },
   "outputs": [
    {
     "name": "stdout",
     "output_type": "stream",
     "text": [
      "1000 loops, best of 3: 377 µs per loop\n"
     ]
    }
   ],
   "source": [
    "# making an array of squares\n",
    "%timeit [i**2 for i in range(1000)]"
   ]
  },
  {
   "cell_type": "code",
   "execution_count": 23,
   "metadata": {
    "collapsed": false
   },
   "outputs": [
    {
     "name": "stdout",
     "output_type": "stream",
     "text": [
      "The slowest run took 45.14 times longer than the fastest. This could mean that an intermediate result is being cached.\n",
      "100000 loops, best of 3: 2.39 µs per loop\n"
     ]
    }
   ],
   "source": [
    "%timeit np.arange(1000)**2"
   ]
  },
  {
   "cell_type": "markdown",
   "metadata": {},
   "source": [
    "### Indexing\n",
    "\n",
    "Works exactly the same as for python lists"
   ]
  },
  {
   "cell_type": "code",
   "execution_count": 25,
   "metadata": {
    "collapsed": false
   },
   "outputs": [
    {
     "name": "stdout",
     "output_type": "stream",
     "text": [
      "[  0   1   8  27  64 125 216 343 512 729]\n",
      "1\n",
      "[0 1 8]\n",
      "[729 512]\n"
     ]
    }
   ],
   "source": [
    "a = np.arange(10)**3\n",
    "print(a)\n",
    "print(a[1])\n",
    "print(a[:3])\n",
    "print(a[-1:-3:-1])"
   ]
  },
  {
   "cell_type": "markdown",
   "metadata": {},
   "source": [
    "## Getting help\n",
    "\n",
    "In addition to the regular help command, numpy has interactive help"
   ]
  },
  {
   "cell_type": "code",
   "execution_count": 26,
   "metadata": {
    "collapsed": false
   },
   "outputs": [
    {
     "name": "stdout",
     "output_type": "stream",
     "text": [
      "Search results for 'create array'\n",
      "---------------------------------\n",
      "numpy.array\n",
      "    Create an array.\n",
      "numpy.memmap\n",
      "    Create a memory-map to an array stored in a *binary* file on disk.\n",
      "numpy.diagflat\n",
      "    Create a two-dimensional array with the flattened input as a diagonal.\n",
      "numpy.fromiter\n",
      "    Create a new 1-dimensional array from an iterable object.\n",
      "numpy.partition\n",
      "    Return a partitioned copy of an array.\n",
      "numpy.ma.diagflat\n",
      "    Create a two-dimensional array with the flattened input as a diagonal.\n",
      "numpy.ctypeslib.as_array\n",
      "    Create a numpy array from a ctypes array or a ctypes POINTER.\n",
      "numpy.ma.make_mask\n",
      "    Create a boolean mask from an array.\n",
      "numpy.ctypeslib.as_ctypes\n",
      "    Create and return a ctypes object from a numpy array.  Actually\n",
      "numpy.ma.mrecords.fromarrays\n",
      "    Creates a mrecarray from a (flat) list of masked arrays.\n",
      "numpy.ma.mvoid.__new__\n",
      "    Create a new masked array from scratch.\n",
      "numpy.lib.format.open_memmap\n",
      "    Open a .npy file as a memory-mapped array.\n",
      "numpy.ma.MaskedArray.__new__\n",
      "    Create a new masked array from scratch.\n",
      "numpy.lib.arrayterator.Arrayterator\n",
      "    Buffered iterator for big arrays.\n",
      "numpy.ma.mrecords.fromtextfile\n",
      "    Creates a mrecarray from data stored in the file `filename`.\n",
      "numpy.asarray\n",
      "    Convert the input to an array.\n",
      "numpy.ndarray\n",
      "    ndarray(shape, dtype=float, buffer=None, offset=0,\n",
      "numpy.recarray\n",
      "    Construct an ndarray that allows field access using attributes.\n",
      "numpy.chararray\n",
      "    chararray(shape, itemsize=1, unicode=False, buffer=None, offset=0,\n",
      "numpy.pad\n",
      "    Pads an array.\n",
      "numpy.asanyarray\n",
      "    Convert the input to an ndarray, but pass ndarray subclasses through.\n",
      "numpy.copy\n",
      "    Return an array copy of the given object.\n",
      "numpy.diag\n",
      "    Extract a diagonal or construct a diagonal array.\n",
      "numpy.load\n",
      "    Load arrays or pickled objects from ``.npy``, ``.npz`` or pickled files.\n",
      "numpy.sort\n",
      "    Return a sorted copy of an array.\n",
      "numpy.array_equiv\n",
      "    Returns True if input arrays are shape consistent and all elements equal.\n",
      "numpy.dtype\n",
      "    Create a data type object.\n",
      "numpy.choose\n",
      "    Construct an array from an index array and a set of arrays to choose from.\n",
      "numpy.nditer\n",
      "    Efficient multi-dimensional iterator object to iterate over arrays.\n",
      "numpy.swapaxes\n",
      "    Interchange two axes of an array.\n",
      "numpy.ma.mrecords.MaskedRecords.__new__\n",
      "    Create a new masked array from scratch.\n",
      "numpy.full_like\n",
      "    Return a full array with the same shape and type as a given array.\n",
      "numpy.ones_like\n",
      "    Return an array of ones with the same shape and type as a given array.\n",
      "numpy.empty_like\n",
      "    Return a new array with the same shape and type as a given array.\n",
      "numpy.zeros_like\n",
      "    Return an array of zeros with the same shape and type as a given array.\n",
      "numpy.asarray_chkfinite\n",
      "    Convert the input to an array, checking for NaNs or Infs.\n",
      "numpy.diag_indices\n",
      "    Return the indices to access the main diagonal of an array.\n",
      "numpy.ma.choose\n",
      "    Use an index array to construct a new array from a set of choices.\n",
      "numpy.chararray.tolist\n",
      "    a.tolist()\n",
      "numpy.matlib.rand\n",
      "    Return a matrix of random values with given shape.\n",
      "numpy.savez_compressed\n",
      "    Save several arrays into a single file in compressed ``.npz`` format.\n",
      "numpy.ma.empty_like\n",
      "    Return a new array with the same shape and type as a given array.\n",
      "numpy.ma.make_mask_none\n",
      "    Return a boolean mask of the given shape, filled with False.\n",
      "numpy.ma.mrecords.fromrecords\n",
      "    Creates a MaskedRecords from a list of records.\n",
      "numpy.around\n",
      "    Evenly round to the given number of decimals.\n",
      "numpy.source\n",
      "    Print or write to a file the source code for a Numpy object.\n",
      "numpy.diagonal\n",
      "    Return specified diagonals.\n",
      "numpy.histogram2d\n",
      "    Compute the bi-dimensional histogram of two data samples.\n",
      "numpy.fft.ifft\n",
      "    Compute the one-dimensional inverse discrete Fourier Transform.\n",
      "numpy.fft.ifftn\n",
      "    Compute the N-dimensional inverse discrete Fourier Transform.\n",
      "numpy.busdaycalendar\n",
      "    A business day calendar object that efficiently stores information"
     ]
    }
   ],
   "source": [
    "np.lookfor('create array')"
   ]
  },
  {
   "cell_type": "code",
   "execution_count": 27,
   "metadata": {
    "collapsed": false
   },
   "outputs": [
    {
     "name": "stdout",
     "output_type": "stream",
     "text": [
      "Help on function diagflat in module numpy.lib.twodim_base:\n",
      "\n",
      "diagflat(v, k=0)\n",
      "    Create a two-dimensional array with the flattened input as a diagonal.\n",
      "    \n",
      "    Parameters\n",
      "    ----------\n",
      "    v : array_like\n",
      "        Input data, which is flattened and set as the `k`-th\n",
      "        diagonal of the output.\n",
      "    k : int, optional\n",
      "        Diagonal to set; 0, the default, corresponds to the \"main\" diagonal,\n",
      "        a positive (negative) `k` giving the number of the diagonal above\n",
      "        (below) the main.\n",
      "    \n",
      "    Returns\n",
      "    -------\n",
      "    out : ndarray\n",
      "        The 2-D output array.\n",
      "    \n",
      "    See Also\n",
      "    --------\n",
      "    diag : MATLAB work-alike for 1-D and 2-D arrays.\n",
      "    diagonal : Return specified diagonals.\n",
      "    trace : Sum along diagonals.\n",
      "    \n",
      "    Examples\n",
      "    --------\n",
      "    >>> np.diagflat([[1,2], [3,4]])\n",
      "    array([[1, 0, 0, 0],\n",
      "           [0, 2, 0, 0],\n",
      "           [0, 0, 3, 0],\n",
      "           [0, 0, 0, 4]])\n",
      "    \n",
      "    >>> np.diagflat([1,2], 1)\n",
      "    array([[0, 1, 0],\n",
      "           [0, 0, 2],\n",
      "           [0, 0, 0]])\n",
      "\n"
     ]
    }
   ],
   "source": [
    "help(np.diagflat)"
   ]
  },
  {
   "cell_type": "markdown",
   "metadata": {},
   "source": [
    "### Array operations\n",
    "\n",
    "<div class=\"span alert alert-danger\">\n",
    "These work on an element-by-element basis, and operate mathematically, unlike python lists\n",
    "</div>"
   ]
  },
  {
   "cell_type": "code",
   "execution_count": 30,
   "metadata": {
    "collapsed": false
   },
   "outputs": [
    {
     "name": "stdout",
     "output_type": "stream",
     "text": [
      "[ 0.          0.52359878  1.04719755  1.57079633  2.0943951   2.61799388\n",
      "  3.14159265  3.66519143  4.1887902   4.71238898  5.23598776  5.75958653]\n",
      "[ 1.  1.  1.  1.  1.  1.  1.  1.  1.  1.  1.  1.]\n"
     ]
    }
   ],
   "source": [
    "a1 = np.arange(0.0,2.0*np.pi,np.pi/6)\n",
    "a2 = np.ones_like(a1)\n",
    "print(a1)\n",
    "print(a2)"
   ]
  },
  {
   "cell_type": "code",
   "execution_count": 31,
   "metadata": {
    "collapsed": false
   },
   "outputs": [
    {
     "data": {
      "text/plain": [
       "array([ 1.        ,  1.52359878,  2.04719755,  2.57079633,  3.0943951 ,\n",
       "        3.61799388,  4.14159265,  4.66519143,  5.1887902 ,  5.71238898,\n",
       "        6.23598776,  6.75958653])"
      ]
     },
     "execution_count": 31,
     "metadata": {},
     "output_type": "execute_result"
    }
   ],
   "source": [
    "a1 + a2"
   ]
  },
  {
   "cell_type": "code",
   "execution_count": 32,
   "metadata": {
    "collapsed": false
   },
   "outputs": [
    {
     "data": {
      "text/plain": [
       "array([  2.        ,   3.04719755,   4.0943951 ,   5.14159265,\n",
       "         6.1887902 ,   7.23598776,   8.28318531,   9.33038286,\n",
       "        10.37758041,  11.42477796,  12.47197551,  13.51917306])"
      ]
     },
     "execution_count": 32,
     "metadata": {},
     "output_type": "execute_result"
    }
   ],
   "source": [
    "2*(a1+a2)"
   ]
  },
  {
   "cell_type": "code",
   "execution_count": 33,
   "metadata": {
    "collapsed": false
   },
   "outputs": [
    {
     "data": {
      "text/plain": [
       "array([   1.        ,    3.53681094,    8.57984141,   16.99037687,\n",
       "         29.62970278,   47.35910462,   71.03986784,  101.53327791,\n",
       "        139.70062029,  186.40318044,  242.50224383,  308.85909592])"
      ]
     },
     "execution_count": 33,
     "metadata": {},
     "output_type": "execute_result"
    }
   ],
   "source": [
    "(a1+a2)**3"
   ]
  },
  {
   "cell_type": "code",
   "execution_count": 34,
   "metadata": {
    "collapsed": false
   },
   "outputs": [
    {
     "data": {
      "text/plain": [
       "array([ 0.        ,  0.42107515,  0.71647181,  0.94421571,  1.12959244,\n",
       "        1.28591969,  1.42108041,  1.54012887,  1.64650057,  1.74263732,\n",
       "        1.83033699,  1.91096172])"
      ]
     },
     "execution_count": 34,
     "metadata": {},
     "output_type": "execute_result"
    }
   ],
   "source": [
    "np.log(a1+a2)"
   ]
  },
  {
   "cell_type": "markdown",
   "metadata": {},
   "source": [
    "### Multi-dimensional arrays\n",
    "\n",
    "We can create them with nested lists"
   ]
  },
  {
   "cell_type": "code",
   "execution_count": 35,
   "metadata": {
    "collapsed": false
   },
   "outputs": [
    {
     "data": {
      "text/plain": [
       "array([[1, 2, 3, 4],\n",
       "       [5, 6, 7, 8]])"
      ]
     },
     "execution_count": 35,
     "metadata": {},
     "output_type": "execute_result"
    }
   ],
   "source": [
    "M = np.array([[1,2,3,4],[5,6,7,8]])\n",
    "M"
   ]
  },
  {
   "cell_type": "code",
   "execution_count": 36,
   "metadata": {
    "collapsed": false
   },
   "outputs": [
    {
     "data": {
      "text/plain": [
       "(2, 4)"
      ]
     },
     "execution_count": 36,
     "metadata": {},
     "output_type": "execute_result"
    }
   ],
   "source": [
    "# `shape` gives us information about an array\n",
    "M.shape"
   ]
  },
  {
   "cell_type": "code",
   "execution_count": 37,
   "metadata": {
    "collapsed": false
   },
   "outputs": [
    {
     "data": {
      "text/plain": [
       "8"
      ]
     },
     "execution_count": 37,
     "metadata": {},
     "output_type": "execute_result"
    }
   ],
   "source": [
    "# while `size` gives us the total number of elements\n",
    "M.size"
   ]
  },
  {
   "cell_type": "code",
   "execution_count": 38,
   "metadata": {
    "collapsed": false
   },
   "outputs": [
    {
     "data": {
      "text/plain": [
       "8"
      ]
     },
     "execution_count": 38,
     "metadata": {},
     "output_type": "execute_result"
    }
   ],
   "source": [
    "# index using a simple list of indices\n",
    "M[1,3]"
   ]
  },
  {
   "cell_type": "code",
   "execution_count": 40,
   "metadata": {
    "collapsed": false
   },
   "outputs": [
    {
     "data": {
      "text/plain": [
       "array([[1, 2, 3, 4],\n",
       "       [5, 6, 7, 8]])"
      ]
     },
     "execution_count": 40,
     "metadata": {},
     "output_type": "execute_result"
    }
   ],
   "source": [
    "M.flatten().reshape(2,4)"
   ]
  },
  {
   "cell_type": "markdown",
   "metadata": {},
   "source": [
    "We can pass our array creation functions the size of a desired multi-dimensional array"
   ]
  },
  {
   "cell_type": "code",
   "execution_count": 41,
   "metadata": {
    "collapsed": false
   },
   "outputs": [
    {
     "data": {
      "text/plain": [
       "array([[ 1.,  1.,  1.],\n",
       "       [ 1.,  1.,  1.],\n",
       "       [ 1.,  1.,  1.]])"
      ]
     },
     "execution_count": 41,
     "metadata": {},
     "output_type": "execute_result"
    }
   ],
   "source": [
    "M1 = np.ones([3,3])\n",
    "M1"
   ]
  },
  {
   "cell_type": "code",
   "execution_count": 48,
   "metadata": {
    "collapsed": false
   },
   "outputs": [
    {
     "name": "stdout",
     "output_type": "stream",
     "text": [
      "[[ 1.  0.  0.]\n",
      " [ 0.  1.  0.]\n",
      " [ 0.  0.  1.]]\n"
     ]
    }
   ],
   "source": [
    "Id = np.identity(3)\n",
    "print(Id)"
   ]
  },
  {
   "cell_type": "code",
   "execution_count": 49,
   "metadata": {
    "collapsed": false
   },
   "outputs": [
    {
     "data": {
      "text/plain": [
       "array([ 1.,  1.,  1.])"
      ]
     },
     "execution_count": 49,
     "metadata": {},
     "output_type": "execute_result"
    }
   ],
   "source": [
    "np.diag(M1)"
   ]
  },
  {
   "cell_type": "code",
   "execution_count": 52,
   "metadata": {
    "collapsed": false
   },
   "outputs": [
    {
     "data": {
      "text/plain": [
       "array([[[ 0.,  0.,  0.],\n",
       "        [ 0.,  0.,  0.],\n",
       "        [ 0.,  0.,  0.]],\n",
       "\n",
       "       [[ 0.,  0.,  0.],\n",
       "        [ 0.,  0.,  0.],\n",
       "        [ 0.,  0.,  0.]],\n",
       "\n",
       "       [[ 0.,  0.,  0.],\n",
       "        [ 0.,  0.,  0.],\n",
       "        [ 0.,  0.,  0.]]])"
      ]
     },
     "execution_count": 52,
     "metadata": {},
     "output_type": "execute_result"
    }
   ],
   "source": [
    "# can go beyond matrices\n",
    "M0 = np.zeros([3,3,3])\n",
    "M0"
   ]
  },
  {
   "cell_type": "code",
   "execution_count": 54,
   "metadata": {
    "collapsed": false
   },
   "outputs": [
    {
     "data": {
      "text/plain": [
       "array([[1, 0, 0, 0],\n",
       "       [0, 1, 0, 0],\n",
       "       [0, 0, 1, 0],\n",
       "       [0, 0, 0, 1]])"
      ]
     },
     "execution_count": 54,
     "metadata": {},
     "output_type": "execute_result"
    }
   ],
   "source": [
    "# there are some speical matrix creaters\n",
    "II = np.identity(4, dtype=int)\n",
    "II"
   ]
  },
  {
   "cell_type": "markdown",
   "metadata": {
    "collapsed": true
   },
   "source": [
    "<div class=\"span alert alert-success\">\n",
    "<h2> Team Programming Challenge </h2>\n",
    "<ol>\n",
    "<li>Find indices of non-zero elements from [1,2,0,0,4,0].</li>\n",
    "<li>Create an array of uniformly distributed random numbers between 1 and 3 and explore how the average depends on the length of the array.\n",
    "<li> Show that a 10x10 identity matrix is idempotent. </li>\n",
    "<li> Explore the meshgrid method and use it to evaluate the matrix $Z = X^2 + Y^2\n",
    "$ on a 10x10 grid between -1,1.\n",
    "</ol>\n",
    "</div>\n"
   ]
  },
  {
   "cell_type": "code",
   "execution_count": 57,
   "metadata": {
    "collapsed": false
   },
   "outputs": [
    {
     "data": {
      "application/javascript": [
       "/* Put everything inside the global mpl namespace */\n",
       "window.mpl = {};\n",
       "\n",
       "mpl.get_websocket_type = function() {\n",
       "    if (typeof(WebSocket) !== 'undefined') {\n",
       "        return WebSocket;\n",
       "    } else if (typeof(MozWebSocket) !== 'undefined') {\n",
       "        return MozWebSocket;\n",
       "    } else {\n",
       "        alert('Your browser does not have WebSocket support.' +\n",
       "              'Please try Chrome, Safari or Firefox ≥ 6. ' +\n",
       "              'Firefox 4 and 5 are also supported but you ' +\n",
       "              'have to enable WebSockets in about:config.');\n",
       "    };\n",
       "}\n",
       "\n",
       "mpl.figure = function(figure_id, websocket, ondownload, parent_element) {\n",
       "    this.id = figure_id;\n",
       "\n",
       "    this.ws = websocket;\n",
       "\n",
       "    this.supports_binary = (this.ws.binaryType != undefined);\n",
       "\n",
       "    if (!this.supports_binary) {\n",
       "        var warnings = document.getElementById(\"mpl-warnings\");\n",
       "        if (warnings) {\n",
       "            warnings.style.display = 'block';\n",
       "            warnings.textContent = (\n",
       "                \"This browser does not support binary websocket messages. \" +\n",
       "                    \"Performance may be slow.\");\n",
       "        }\n",
       "    }\n",
       "\n",
       "    this.imageObj = new Image();\n",
       "\n",
       "    this.context = undefined;\n",
       "    this.message = undefined;\n",
       "    this.canvas = undefined;\n",
       "    this.rubberband_canvas = undefined;\n",
       "    this.rubberband_context = undefined;\n",
       "    this.format_dropdown = undefined;\n",
       "\n",
       "    this.image_mode = 'full';\n",
       "\n",
       "    this.root = $('<div/>');\n",
       "    this._root_extra_style(this.root)\n",
       "    this.root.attr('style', 'display: inline-block');\n",
       "\n",
       "    $(parent_element).append(this.root);\n",
       "\n",
       "    this._init_header(this);\n",
       "    this._init_canvas(this);\n",
       "    this._init_toolbar(this);\n",
       "\n",
       "    var fig = this;\n",
       "\n",
       "    this.waiting = false;\n",
       "\n",
       "    this.ws.onopen =  function () {\n",
       "            fig.send_message(\"supports_binary\", {value: fig.supports_binary});\n",
       "            fig.send_message(\"send_image_mode\", {});\n",
       "            fig.send_message(\"refresh\", {});\n",
       "        }\n",
       "\n",
       "    this.imageObj.onload = function() {\n",
       "            if (fig.image_mode == 'full') {\n",
       "                // Full images could contain transparency (where diff images\n",
       "                // almost always do), so we need to clear the canvas so that\n",
       "                // there is no ghosting.\n",
       "                fig.context.clearRect(0, 0, fig.canvas.width, fig.canvas.height);\n",
       "            }\n",
       "            fig.context.drawImage(fig.imageObj, 0, 0);\n",
       "        };\n",
       "\n",
       "    this.imageObj.onunload = function() {\n",
       "        this.ws.close();\n",
       "    }\n",
       "\n",
       "    this.ws.onmessage = this._make_on_message_function(this);\n",
       "\n",
       "    this.ondownload = ondownload;\n",
       "}\n",
       "\n",
       "mpl.figure.prototype._init_header = function() {\n",
       "    var titlebar = $(\n",
       "        '<div class=\"ui-dialog-titlebar ui-widget-header ui-corner-all ' +\n",
       "        'ui-helper-clearfix\"/>');\n",
       "    var titletext = $(\n",
       "        '<div class=\"ui-dialog-title\" style=\"width: 100%; ' +\n",
       "        'text-align: center; padding: 3px;\"/>');\n",
       "    titlebar.append(titletext)\n",
       "    this.root.append(titlebar);\n",
       "    this.header = titletext[0];\n",
       "}\n",
       "\n",
       "\n",
       "\n",
       "mpl.figure.prototype._canvas_extra_style = function(canvas_div) {\n",
       "\n",
       "}\n",
       "\n",
       "\n",
       "mpl.figure.prototype._root_extra_style = function(canvas_div) {\n",
       "\n",
       "}\n",
       "\n",
       "mpl.figure.prototype._init_canvas = function() {\n",
       "    var fig = this;\n",
       "\n",
       "    var canvas_div = $('<div/>');\n",
       "\n",
       "    canvas_div.attr('style', 'position: relative; clear: both; outline: 0');\n",
       "\n",
       "    function canvas_keyboard_event(event) {\n",
       "        return fig.key_event(event, event['data']);\n",
       "    }\n",
       "\n",
       "    canvas_div.keydown('key_press', canvas_keyboard_event);\n",
       "    canvas_div.keyup('key_release', canvas_keyboard_event);\n",
       "    this.canvas_div = canvas_div\n",
       "    this._canvas_extra_style(canvas_div)\n",
       "    this.root.append(canvas_div);\n",
       "\n",
       "    var canvas = $('<canvas/>');\n",
       "    canvas.addClass('mpl-canvas');\n",
       "    canvas.attr('style', \"left: 0; top: 0; z-index: 0; outline: 0\")\n",
       "\n",
       "    this.canvas = canvas[0];\n",
       "    this.context = canvas[0].getContext(\"2d\");\n",
       "\n",
       "    var rubberband = $('<canvas/>');\n",
       "    rubberband.attr('style', \"position: absolute; left: 0; top: 0; z-index: 1;\")\n",
       "\n",
       "    var pass_mouse_events = true;\n",
       "\n",
       "    canvas_div.resizable({\n",
       "        start: function(event, ui) {\n",
       "            pass_mouse_events = false;\n",
       "        },\n",
       "        resize: function(event, ui) {\n",
       "            fig.request_resize(ui.size.width, ui.size.height);\n",
       "        },\n",
       "        stop: function(event, ui) {\n",
       "            pass_mouse_events = true;\n",
       "            fig.request_resize(ui.size.width, ui.size.height);\n",
       "        },\n",
       "    });\n",
       "\n",
       "    function mouse_event_fn(event) {\n",
       "        if (pass_mouse_events)\n",
       "            return fig.mouse_event(event, event['data']);\n",
       "    }\n",
       "\n",
       "    rubberband.mousedown('button_press', mouse_event_fn);\n",
       "    rubberband.mouseup('button_release', mouse_event_fn);\n",
       "    // Throttle sequential mouse events to 1 every 20ms.\n",
       "    rubberband.mousemove('motion_notify', mouse_event_fn);\n",
       "\n",
       "    rubberband.mouseenter('figure_enter', mouse_event_fn);\n",
       "    rubberband.mouseleave('figure_leave', mouse_event_fn);\n",
       "\n",
       "    canvas_div.on(\"wheel\", function (event) {\n",
       "        event = event.originalEvent;\n",
       "        event['data'] = 'scroll'\n",
       "        if (event.deltaY < 0) {\n",
       "            event.step = 1;\n",
       "        } else {\n",
       "            event.step = -1;\n",
       "        }\n",
       "        mouse_event_fn(event);\n",
       "    });\n",
       "\n",
       "    canvas_div.append(canvas);\n",
       "    canvas_div.append(rubberband);\n",
       "\n",
       "    this.rubberband = rubberband;\n",
       "    this.rubberband_canvas = rubberband[0];\n",
       "    this.rubberband_context = rubberband[0].getContext(\"2d\");\n",
       "    this.rubberband_context.strokeStyle = \"#000000\";\n",
       "\n",
       "    this._resize_canvas = function(width, height) {\n",
       "        // Keep the size of the canvas, canvas container, and rubber band\n",
       "        // canvas in synch.\n",
       "        canvas_div.css('width', width)\n",
       "        canvas_div.css('height', height)\n",
       "\n",
       "        canvas.attr('width', width);\n",
       "        canvas.attr('height', height);\n",
       "\n",
       "        rubberband.attr('width', width);\n",
       "        rubberband.attr('height', height);\n",
       "    }\n",
       "\n",
       "    // Set the figure to an initial 600x600px, this will subsequently be updated\n",
       "    // upon first draw.\n",
       "    this._resize_canvas(600, 600);\n",
       "\n",
       "    // Disable right mouse context menu.\n",
       "    $(this.rubberband_canvas).bind(\"contextmenu\",function(e){\n",
       "        return false;\n",
       "    });\n",
       "\n",
       "    function set_focus () {\n",
       "        canvas.focus();\n",
       "        canvas_div.focus();\n",
       "    }\n",
       "\n",
       "    window.setTimeout(set_focus, 100);\n",
       "}\n",
       "\n",
       "mpl.figure.prototype._init_toolbar = function() {\n",
       "    var fig = this;\n",
       "\n",
       "    var nav_element = $('<div/>')\n",
       "    nav_element.attr('style', 'width: 100%');\n",
       "    this.root.append(nav_element);\n",
       "\n",
       "    // Define a callback function for later on.\n",
       "    function toolbar_event(event) {\n",
       "        return fig.toolbar_button_onclick(event['data']);\n",
       "    }\n",
       "    function toolbar_mouse_event(event) {\n",
       "        return fig.toolbar_button_onmouseover(event['data']);\n",
       "    }\n",
       "\n",
       "    for(var toolbar_ind in mpl.toolbar_items) {\n",
       "        var name = mpl.toolbar_items[toolbar_ind][0];\n",
       "        var tooltip = mpl.toolbar_items[toolbar_ind][1];\n",
       "        var image = mpl.toolbar_items[toolbar_ind][2];\n",
       "        var method_name = mpl.toolbar_items[toolbar_ind][3];\n",
       "\n",
       "        if (!name) {\n",
       "            // put a spacer in here.\n",
       "            continue;\n",
       "        }\n",
       "        var button = $('<button/>');\n",
       "        button.addClass('ui-button ui-widget ui-state-default ui-corner-all ' +\n",
       "                        'ui-button-icon-only');\n",
       "        button.attr('role', 'button');\n",
       "        button.attr('aria-disabled', 'false');\n",
       "        button.click(method_name, toolbar_event);\n",
       "        button.mouseover(tooltip, toolbar_mouse_event);\n",
       "\n",
       "        var icon_img = $('<span/>');\n",
       "        icon_img.addClass('ui-button-icon-primary ui-icon');\n",
       "        icon_img.addClass(image);\n",
       "        icon_img.addClass('ui-corner-all');\n",
       "\n",
       "        var tooltip_span = $('<span/>');\n",
       "        tooltip_span.addClass('ui-button-text');\n",
       "        tooltip_span.html(tooltip);\n",
       "\n",
       "        button.append(icon_img);\n",
       "        button.append(tooltip_span);\n",
       "\n",
       "        nav_element.append(button);\n",
       "    }\n",
       "\n",
       "    var fmt_picker_span = $('<span/>');\n",
       "\n",
       "    var fmt_picker = $('<select/>');\n",
       "    fmt_picker.addClass('mpl-toolbar-option ui-widget ui-widget-content');\n",
       "    fmt_picker_span.append(fmt_picker);\n",
       "    nav_element.append(fmt_picker_span);\n",
       "    this.format_dropdown = fmt_picker[0];\n",
       "\n",
       "    for (var ind in mpl.extensions) {\n",
       "        var fmt = mpl.extensions[ind];\n",
       "        var option = $(\n",
       "            '<option/>', {selected: fmt === mpl.default_extension}).html(fmt);\n",
       "        fmt_picker.append(option)\n",
       "    }\n",
       "\n",
       "    // Add hover states to the ui-buttons\n",
       "    $( \".ui-button\" ).hover(\n",
       "        function() { $(this).addClass(\"ui-state-hover\");},\n",
       "        function() { $(this).removeClass(\"ui-state-hover\");}\n",
       "    );\n",
       "\n",
       "    var status_bar = $('<span class=\"mpl-message\"/>');\n",
       "    nav_element.append(status_bar);\n",
       "    this.message = status_bar[0];\n",
       "}\n",
       "\n",
       "mpl.figure.prototype.request_resize = function(x_pixels, y_pixels) {\n",
       "    // Request matplotlib to resize the figure. Matplotlib will then trigger a resize in the client,\n",
       "    // which will in turn request a refresh of the image.\n",
       "    this.send_message('resize', {'width': x_pixels, 'height': y_pixels});\n",
       "}\n",
       "\n",
       "mpl.figure.prototype.send_message = function(type, properties) {\n",
       "    properties['type'] = type;\n",
       "    properties['figure_id'] = this.id;\n",
       "    this.ws.send(JSON.stringify(properties));\n",
       "}\n",
       "\n",
       "mpl.figure.prototype.send_draw_message = function() {\n",
       "    if (!this.waiting) {\n",
       "        this.waiting = true;\n",
       "        this.ws.send(JSON.stringify({type: \"draw\", figure_id: this.id}));\n",
       "    }\n",
       "}\n",
       "\n",
       "\n",
       "mpl.figure.prototype.handle_save = function(fig, msg) {\n",
       "    var format_dropdown = fig.format_dropdown;\n",
       "    var format = format_dropdown.options[format_dropdown.selectedIndex].value;\n",
       "    fig.ondownload(fig, format);\n",
       "}\n",
       "\n",
       "\n",
       "mpl.figure.prototype.handle_resize = function(fig, msg) {\n",
       "    var size = msg['size'];\n",
       "    if (size[0] != fig.canvas.width || size[1] != fig.canvas.height) {\n",
       "        fig._resize_canvas(size[0], size[1]);\n",
       "        fig.send_message(\"refresh\", {});\n",
       "    };\n",
       "}\n",
       "\n",
       "mpl.figure.prototype.handle_rubberband = function(fig, msg) {\n",
       "    var x0 = msg['x0'];\n",
       "    var y0 = fig.canvas.height - msg['y0'];\n",
       "    var x1 = msg['x1'];\n",
       "    var y1 = fig.canvas.height - msg['y1'];\n",
       "    x0 = Math.floor(x0) + 0.5;\n",
       "    y0 = Math.floor(y0) + 0.5;\n",
       "    x1 = Math.floor(x1) + 0.5;\n",
       "    y1 = Math.floor(y1) + 0.5;\n",
       "    var min_x = Math.min(x0, x1);\n",
       "    var min_y = Math.min(y0, y1);\n",
       "    var width = Math.abs(x1 - x0);\n",
       "    var height = Math.abs(y1 - y0);\n",
       "\n",
       "    fig.rubberband_context.clearRect(\n",
       "        0, 0, fig.canvas.width, fig.canvas.height);\n",
       "\n",
       "    fig.rubberband_context.strokeRect(min_x, min_y, width, height);\n",
       "}\n",
       "\n",
       "mpl.figure.prototype.handle_figure_label = function(fig, msg) {\n",
       "    // Updates the figure title.\n",
       "    fig.header.textContent = msg['label'];\n",
       "}\n",
       "\n",
       "mpl.figure.prototype.handle_cursor = function(fig, msg) {\n",
       "    var cursor = msg['cursor'];\n",
       "    switch(cursor)\n",
       "    {\n",
       "    case 0:\n",
       "        cursor = 'pointer';\n",
       "        break;\n",
       "    case 1:\n",
       "        cursor = 'default';\n",
       "        break;\n",
       "    case 2:\n",
       "        cursor = 'crosshair';\n",
       "        break;\n",
       "    case 3:\n",
       "        cursor = 'move';\n",
       "        break;\n",
       "    }\n",
       "    fig.rubberband_canvas.style.cursor = cursor;\n",
       "}\n",
       "\n",
       "mpl.figure.prototype.handle_message = function(fig, msg) {\n",
       "    fig.message.textContent = msg['message'];\n",
       "}\n",
       "\n",
       "mpl.figure.prototype.handle_draw = function(fig, msg) {\n",
       "    // Request the server to send over a new figure.\n",
       "    fig.send_draw_message();\n",
       "}\n",
       "\n",
       "mpl.figure.prototype.handle_image_mode = function(fig, msg) {\n",
       "    fig.image_mode = msg['mode'];\n",
       "}\n",
       "\n",
       "mpl.figure.prototype.updated_canvas_event = function() {\n",
       "    // Called whenever the canvas gets updated.\n",
       "    this.send_message(\"ack\", {});\n",
       "}\n",
       "\n",
       "// A function to construct a web socket function for onmessage handling.\n",
       "// Called in the figure constructor.\n",
       "mpl.figure.prototype._make_on_message_function = function(fig) {\n",
       "    return function socket_on_message(evt) {\n",
       "        if (evt.data instanceof Blob) {\n",
       "            /* FIXME: We get \"Resource interpreted as Image but\n",
       "             * transferred with MIME type text/plain:\" errors on\n",
       "             * Chrome.  But how to set the MIME type?  It doesn't seem\n",
       "             * to be part of the websocket stream */\n",
       "            evt.data.type = \"image/png\";\n",
       "\n",
       "            /* Free the memory for the previous frames */\n",
       "            if (fig.imageObj.src) {\n",
       "                (window.URL || window.webkitURL).revokeObjectURL(\n",
       "                    fig.imageObj.src);\n",
       "            }\n",
       "\n",
       "            fig.imageObj.src = (window.URL || window.webkitURL).createObjectURL(\n",
       "                evt.data);\n",
       "            fig.updated_canvas_event();\n",
       "            fig.waiting = false;\n",
       "            return;\n",
       "        }\n",
       "        else if (typeof evt.data === 'string' && evt.data.slice(0, 21) == \"data:image/png;base64\") {\n",
       "            fig.imageObj.src = evt.data;\n",
       "            fig.updated_canvas_event();\n",
       "            fig.waiting = false;\n",
       "            return;\n",
       "        }\n",
       "\n",
       "        var msg = JSON.parse(evt.data);\n",
       "        var msg_type = msg['type'];\n",
       "\n",
       "        // Call the  \"handle_{type}\" callback, which takes\n",
       "        // the figure and JSON message as its only arguments.\n",
       "        try {\n",
       "            var callback = fig[\"handle_\" + msg_type];\n",
       "        } catch (e) {\n",
       "            console.log(\"No handler for the '\" + msg_type + \"' message type: \", msg);\n",
       "            return;\n",
       "        }\n",
       "\n",
       "        if (callback) {\n",
       "            try {\n",
       "                // console.log(\"Handling '\" + msg_type + \"' message: \", msg);\n",
       "                callback(fig, msg);\n",
       "            } catch (e) {\n",
       "                console.log(\"Exception inside the 'handler_\" + msg_type + \"' callback:\", e, e.stack, msg);\n",
       "            }\n",
       "        }\n",
       "    };\n",
       "}\n",
       "\n",
       "// from http://stackoverflow.com/questions/1114465/getting-mouse-location-in-canvas\n",
       "mpl.findpos = function(e) {\n",
       "    //this section is from http://www.quirksmode.org/js/events_properties.html\n",
       "    var targ;\n",
       "    if (!e)\n",
       "        e = window.event;\n",
       "    if (e.target)\n",
       "        targ = e.target;\n",
       "    else if (e.srcElement)\n",
       "        targ = e.srcElement;\n",
       "    if (targ.nodeType == 3) // defeat Safari bug\n",
       "        targ = targ.parentNode;\n",
       "\n",
       "    // jQuery normalizes the pageX and pageY\n",
       "    // pageX,Y are the mouse positions relative to the document\n",
       "    // offset() returns the position of the element relative to the document\n",
       "    var x = e.pageX - $(targ).offset().left;\n",
       "    var y = e.pageY - $(targ).offset().top;\n",
       "\n",
       "    return {\"x\": x, \"y\": y};\n",
       "};\n",
       "\n",
       "/*\n",
       " * return a copy of an object with only non-object keys\n",
       " * we need this to avoid circular references\n",
       " * http://stackoverflow.com/a/24161582/3208463\n",
       " */\n",
       "function simpleKeys (original) {\n",
       "  return Object.keys(original).reduce(function (obj, key) {\n",
       "    if (typeof original[key] !== 'object')\n",
       "        obj[key] = original[key]\n",
       "    return obj;\n",
       "  }, {});\n",
       "}\n",
       "\n",
       "mpl.figure.prototype.mouse_event = function(event, name) {\n",
       "    var canvas_pos = mpl.findpos(event)\n",
       "\n",
       "    if (name === 'button_press')\n",
       "    {\n",
       "        this.canvas.focus();\n",
       "        this.canvas_div.focus();\n",
       "    }\n",
       "\n",
       "    var x = canvas_pos.x;\n",
       "    var y = canvas_pos.y;\n",
       "\n",
       "    this.send_message(name, {x: x, y: y, button: event.button,\n",
       "                             step: event.step,\n",
       "                             guiEvent: simpleKeys(event)});\n",
       "\n",
       "    /* This prevents the web browser from automatically changing to\n",
       "     * the text insertion cursor when the button is pressed.  We want\n",
       "     * to control all of the cursor setting manually through the\n",
       "     * 'cursor' event from matplotlib */\n",
       "    event.preventDefault();\n",
       "    return false;\n",
       "}\n",
       "\n",
       "mpl.figure.prototype._key_event_extra = function(event, name) {\n",
       "    // Handle any extra behaviour associated with a key event\n",
       "}\n",
       "\n",
       "mpl.figure.prototype.key_event = function(event, name) {\n",
       "\n",
       "    // Prevent repeat events\n",
       "    if (name == 'key_press')\n",
       "    {\n",
       "        if (event.which === this._key)\n",
       "            return;\n",
       "        else\n",
       "            this._key = event.which;\n",
       "    }\n",
       "    if (name == 'key_release')\n",
       "        this._key = null;\n",
       "\n",
       "    var value = '';\n",
       "    if (event.ctrlKey && event.which != 17)\n",
       "        value += \"ctrl+\";\n",
       "    if (event.altKey && event.which != 18)\n",
       "        value += \"alt+\";\n",
       "    if (event.shiftKey && event.which != 16)\n",
       "        value += \"shift+\";\n",
       "\n",
       "    value += 'k';\n",
       "    value += event.which.toString();\n",
       "\n",
       "    this._key_event_extra(event, name);\n",
       "\n",
       "    this.send_message(name, {key: value,\n",
       "                             guiEvent: simpleKeys(event)});\n",
       "    return false;\n",
       "}\n",
       "\n",
       "mpl.figure.prototype.toolbar_button_onclick = function(name) {\n",
       "    if (name == 'download') {\n",
       "        this.handle_save(this, null);\n",
       "    } else {\n",
       "        this.send_message(\"toolbar_button\", {name: name});\n",
       "    }\n",
       "};\n",
       "\n",
       "mpl.figure.prototype.toolbar_button_onmouseover = function(tooltip) {\n",
       "    this.message.textContent = tooltip;\n",
       "};\n",
       "mpl.toolbar_items = [[\"Home\", \"Reset original view\", \"fa fa-home icon-home\", \"home\"], [\"Back\", \"Back to  previous view\", \"fa fa-arrow-left icon-arrow-left\", \"back\"], [\"Forward\", \"Forward to next view\", \"fa fa-arrow-right icon-arrow-right\", \"forward\"], [\"\", \"\", \"\", \"\"], [\"Pan\", \"Pan axes with left mouse, zoom with right\", \"fa fa-arrows icon-move\", \"pan\"], [\"Zoom\", \"Zoom to rectangle\", \"fa fa-square-o icon-check-empty\", \"zoom\"], [\"\", \"\", \"\", \"\"], [\"Download\", \"Download plot\", \"fa fa-floppy-o icon-save\", \"download\"]];\n",
       "\n",
       "mpl.extensions = [\"eps\", \"pdf\", \"png\", \"ps\", \"raw\", \"svg\"];\n",
       "\n",
       "mpl.default_extension = \"pdf\";var comm_websocket_adapter = function(comm) {\n",
       "    // Create a \"websocket\"-like object which calls the given IPython comm\n",
       "    // object with the appropriate methods. Currently this is a non binary\n",
       "    // socket, so there is still some room for performance tuning.\n",
       "    var ws = {};\n",
       "\n",
       "    ws.close = function() {\n",
       "        comm.close()\n",
       "    };\n",
       "    ws.send = function(m) {\n",
       "        //console.log('sending', m);\n",
       "        comm.send(m);\n",
       "    };\n",
       "    // Register the callback with on_msg.\n",
       "    comm.on_msg(function(msg) {\n",
       "        //console.log('receiving', msg['content']['data'], msg);\n",
       "        // Pass the mpl event to the overriden (by mpl) onmessage function.\n",
       "        ws.onmessage(msg['content']['data'])\n",
       "    });\n",
       "    return ws;\n",
       "}\n",
       "\n",
       "mpl.mpl_figure_comm = function(comm, msg) {\n",
       "    // This is the function which gets called when the mpl process\n",
       "    // starts-up an IPython Comm through the \"matplotlib\" channel.\n",
       "\n",
       "    var id = msg.content.data.id;\n",
       "    // Get hold of the div created by the display call when the Comm\n",
       "    // socket was opened in Python.\n",
       "    var element = $(\"#\" + id);\n",
       "    var ws_proxy = comm_websocket_adapter(comm)\n",
       "\n",
       "    function ondownload(figure, format) {\n",
       "        window.open(figure.imageObj.src);\n",
       "    }\n",
       "\n",
       "    var fig = new mpl.figure(id, ws_proxy,\n",
       "                           ondownload,\n",
       "                           element.get(0));\n",
       "\n",
       "    // Call onopen now - mpl needs it, as it is assuming we've passed it a real\n",
       "    // web socket which is closed, not our websocket->open comm proxy.\n",
       "    ws_proxy.onopen();\n",
       "\n",
       "    fig.parent_element = element.get(0);\n",
       "    fig.cell_info = mpl.find_output_cell(\"<div id='\" + id + \"'></div>\");\n",
       "    if (!fig.cell_info) {\n",
       "        console.error(\"Failed to find cell for figure\", id, fig);\n",
       "        return;\n",
       "    }\n",
       "\n",
       "    var output_index = fig.cell_info[2]\n",
       "    var cell = fig.cell_info[0];\n",
       "\n",
       "};\n",
       "\n",
       "mpl.figure.prototype.handle_close = function(fig, msg) {\n",
       "    fig.root.unbind('remove')\n",
       "\n",
       "    // Update the output cell to use the data from the current canvas.\n",
       "    fig.push_to_output();\n",
       "    var dataURL = fig.canvas.toDataURL();\n",
       "    // Re-enable the keyboard manager in IPython - without this line, in FF,\n",
       "    // the notebook keyboard shortcuts fail.\n",
       "    IPython.keyboard_manager.enable()\n",
       "    $(fig.parent_element).html('<img src=\"' + dataURL + '\">');\n",
       "    fig.close_ws(fig, msg);\n",
       "}\n",
       "\n",
       "mpl.figure.prototype.close_ws = function(fig, msg){\n",
       "    fig.send_message('closing', msg);\n",
       "    // fig.ws.close()\n",
       "}\n",
       "\n",
       "mpl.figure.prototype.push_to_output = function(remove_interactive) {\n",
       "    // Turn the data on the canvas into data in the output cell.\n",
       "    var dataURL = this.canvas.toDataURL();\n",
       "    this.cell_info[1]['text/html'] = '<img src=\"' + dataURL + '\">';\n",
       "}\n",
       "\n",
       "mpl.figure.prototype.updated_canvas_event = function() {\n",
       "    // Tell IPython that the notebook contents must change.\n",
       "    IPython.notebook.set_dirty(true);\n",
       "    this.send_message(\"ack\", {});\n",
       "    var fig = this;\n",
       "    // Wait a second, then push the new image to the DOM so\n",
       "    // that it is saved nicely (might be nice to debounce this).\n",
       "    setTimeout(function () { fig.push_to_output() }, 1000);\n",
       "}\n",
       "\n",
       "mpl.figure.prototype._init_toolbar = function() {\n",
       "    var fig = this;\n",
       "\n",
       "    var nav_element = $('<div/>')\n",
       "    nav_element.attr('style', 'width: 100%');\n",
       "    this.root.append(nav_element);\n",
       "\n",
       "    // Define a callback function for later on.\n",
       "    function toolbar_event(event) {\n",
       "        return fig.toolbar_button_onclick(event['data']);\n",
       "    }\n",
       "    function toolbar_mouse_event(event) {\n",
       "        return fig.toolbar_button_onmouseover(event['data']);\n",
       "    }\n",
       "\n",
       "    for(var toolbar_ind in mpl.toolbar_items){\n",
       "        var name = mpl.toolbar_items[toolbar_ind][0];\n",
       "        var tooltip = mpl.toolbar_items[toolbar_ind][1];\n",
       "        var image = mpl.toolbar_items[toolbar_ind][2];\n",
       "        var method_name = mpl.toolbar_items[toolbar_ind][3];\n",
       "\n",
       "        if (!name) { continue; };\n",
       "\n",
       "        var button = $('<button class=\"btn btn-default\" href=\"#\" title=\"' + name + '\"><i class=\"fa ' + image + ' fa-lg\"></i></button>');\n",
       "        button.click(method_name, toolbar_event);\n",
       "        button.mouseover(tooltip, toolbar_mouse_event);\n",
       "        nav_element.append(button);\n",
       "    }\n",
       "\n",
       "    // Add the status bar.\n",
       "    var status_bar = $('<span class=\"mpl-message\" style=\"text-align:right; float: right;\"/>');\n",
       "    nav_element.append(status_bar);\n",
       "    this.message = status_bar[0];\n",
       "\n",
       "    // Add the close button to the window.\n",
       "    var buttongrp = $('<div class=\"btn-group inline pull-right\"></div>');\n",
       "    var button = $('<button class=\"btn btn-mini btn-primary\" href=\"#\" title=\"Stop Interaction\"><i class=\"fa fa-power-off icon-remove icon-large\"></i></button>');\n",
       "    button.click(function (evt) { fig.handle_close(fig, {}); } );\n",
       "    button.mouseover('Stop Interaction', toolbar_mouse_event);\n",
       "    buttongrp.append(button);\n",
       "    var titlebar = this.root.find($('.ui-dialog-titlebar'));\n",
       "    titlebar.prepend(buttongrp);\n",
       "}\n",
       "\n",
       "mpl.figure.prototype._root_extra_style = function(el){\n",
       "    var fig = this\n",
       "    el.on(\"remove\", function(){\n",
       "\tfig.close_ws(fig, {});\n",
       "    });\n",
       "}\n",
       "\n",
       "mpl.figure.prototype._canvas_extra_style = function(el){\n",
       "    // this is important to make the div 'focusable\n",
       "    el.attr('tabindex', 0)\n",
       "    // reach out to IPython and tell the keyboard manager to turn it's self\n",
       "    // off when our div gets focus\n",
       "\n",
       "    // location in version 3\n",
       "    if (IPython.notebook.keyboard_manager) {\n",
       "        IPython.notebook.keyboard_manager.register_events(el);\n",
       "    }\n",
       "    else {\n",
       "        // location in version 2\n",
       "        IPython.keyboard_manager.register_events(el);\n",
       "    }\n",
       "\n",
       "}\n",
       "\n",
       "mpl.figure.prototype._key_event_extra = function(event, name) {\n",
       "    var manager = IPython.notebook.keyboard_manager;\n",
       "    if (!manager)\n",
       "        manager = IPython.keyboard_manager;\n",
       "\n",
       "    // Check for shift+enter\n",
       "    if (event.shiftKey && event.which == 13) {\n",
       "        this.canvas_div.blur();\n",
       "        event.shiftKey = false;\n",
       "        // Send a \"J\" for go to next cell\n",
       "        event.which = 74;\n",
       "        event.keyCode = 74;\n",
       "        manager.command_mode();\n",
       "        manager.handle_keydown(event);\n",
       "    }\n",
       "}\n",
       "\n",
       "mpl.figure.prototype.handle_save = function(fig, msg) {\n",
       "    fig.ondownload(fig, null);\n",
       "}\n",
       "\n",
       "\n",
       "mpl.find_output_cell = function(html_output) {\n",
       "    // Return the cell and output element which can be found *uniquely* in the notebook.\n",
       "    // Note - this is a bit hacky, but it is done because the \"notebook_saving.Notebook\"\n",
       "    // IPython event is triggered only after the cells have been serialised, which for\n",
       "    // our purposes (turning an active figure into a static one), is too late.\n",
       "    var cells = IPython.notebook.get_cells();\n",
       "    var ncells = cells.length;\n",
       "    for (var i=0; i<ncells; i++) {\n",
       "        var cell = cells[i];\n",
       "        if (cell.cell_type === 'code'){\n",
       "            for (var j=0; j<cell.output_area.outputs.length; j++) {\n",
       "                var data = cell.output_area.outputs[j];\n",
       "                if (data.data) {\n",
       "                    // IPython >= 3 moved mimebundle to data attribute of output\n",
       "                    data = data.data;\n",
       "                }\n",
       "                if (data['text/html'] == html_output) {\n",
       "                    return [cell, data, j];\n",
       "                }\n",
       "            }\n",
       "        }\n",
       "    }\n",
       "}\n",
       "\n",
       "// Register the function which deals with the matplotlib target/channel.\n",
       "// The kernel may be null if the page has been refreshed.\n",
       "if (IPython.notebook.kernel != null) {\n",
       "    IPython.notebook.kernel.comm_manager.register_target('matplotlib', mpl.mpl_figure_comm);\n",
       "}\n"
      ],
      "text/plain": [
       "<IPython.core.display.Javascript object>"
      ]
     },
     "metadata": {},
     "output_type": "display_data"
    },
    {
     "data": {
      "text/html": [
       "<img src=\"data:image/png;base64,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\">"
      ],
      "text/plain": [
       "<IPython.core.display.HTML object>"
      ]
     },
     "metadata": {},
     "output_type": "display_data"
    },
    {
     "data": {
      "text/plain": [
       "<matplotlib.collections.PolyCollection at 0x10a3592e8>"
      ]
     },
     "execution_count": 57,
     "metadata": {},
     "output_type": "execute_result"
    }
   ],
   "source": [
    "import matplotlib.pyplot as plt\n",
    "%matplotlib notebook\n",
    "X,Y = np.meshgrid(np.linspace(-1,1,1000),np.linspace(-1,1,1000))\n",
    "plt.pcolor(X**2+Y**2)"
   ]
  },
  {
   "cell_type": "code",
   "execution_count": null,
   "metadata": {
    "collapsed": true
   },
   "outputs": [],
   "source": []
  }
 ],
 "metadata": {
  "kernelspec": {
   "display_name": "Python 3",
   "language": "python",
   "name": "python3"
  },
  "language_info": {
   "codemirror_mode": {
    "name": "ipython",
    "version": 3
   },
   "file_extension": ".py",
   "mimetype": "text/x-python",
   "name": "python",
   "nbconvert_exporter": "python",
   "pygments_lexer": "ipython3",
   "version": "3.5.2"
  }
 },
 "nbformat": 4,
 "nbformat_minor": 0
}
