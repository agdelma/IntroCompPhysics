{
 "cells": [
  {
   "cell_type": "markdown",
   "metadata": {},
   "source": [
    "# Physics 256\n",
    "## Lecture 06 - Functions & Modules"
   ]
  },
  {
   "cell_type": "markdown",
   "metadata": {},
   "source": [
    "<img src=\"http://upload.wikimedia.org/wikipedia/commons/thumb/7/75/Jigsaw.svg/600px-Jigsaw.svg.png\" width=300px>"
   ]
  },
  {
   "cell_type": "markdown",
   "metadata": {},
   "source": [
    "## Last Time\n",
    "\n",
    "- List comprehensions\n",
    "- Programming challenge\n",
    "\n",
    "## Today\n",
    "- Functions\n",
    "- Modules\n"
   ]
  },
  {
   "cell_type": "markdown",
   "metadata": {},
   "source": [
    "<div class=\"row\">\n",
    "<div class=\"span alert alert-info\">\n",
    "<h2> Team programming challenge </h2>\n",
    "<h3> Leap Years</h3>\n",
    "Write a function that can determine if a given year is a leap year. Use it to find all leap years since you were born.\n",
    "<p/>\n",
    "A  leap year is divisible by four, but not by one hundred, unless it is divisible by four hundred.\n",
    "</div>\n",
    "</div>"
   ]
  },
  {
   "cell_type": "code",
   "execution_count": null,
   "metadata": {
    "collapsed": false
   },
   "outputs": [],
   "source": [
    "%load data/leapyear.py"
   ]
  },
  {
   "cell_type": "markdown",
   "metadata": {},
   "source": [
    "## Modules\n",
    "\n",
    "Don't reinvent the wheel! If you run into a programming problem, chances are, someone has already solved at least some part of it.  Modules are repositories of software and constants that we can `import` and use in our programs."
   ]
  },
  {
   "cell_type": "code",
   "execution_count": 1,
   "metadata": {
    "collapsed": false
   },
   "outputs": [],
   "source": [
    "# we import a module into our code using the `import` keyword\n",
    "import math"
   ]
  },
  {
   "cell_type": "code",
   "execution_count": 2,
   "metadata": {
    "collapsed": false
   },
   "outputs": [
    {
     "data": {
      "text/plain": [
       "['__doc__',\n",
       " '__file__',\n",
       " '__loader__',\n",
       " '__name__',\n",
       " '__package__',\n",
       " '__spec__',\n",
       " 'acos',\n",
       " 'acosh',\n",
       " 'asin',\n",
       " 'asinh',\n",
       " 'atan',\n",
       " 'atan2',\n",
       " 'atanh',\n",
       " 'ceil',\n",
       " 'copysign',\n",
       " 'cos',\n",
       " 'cosh',\n",
       " 'degrees',\n",
       " 'e',\n",
       " 'erf',\n",
       " 'erfc',\n",
       " 'exp',\n",
       " 'expm1',\n",
       " 'fabs',\n",
       " 'factorial',\n",
       " 'floor',\n",
       " 'fmod',\n",
       " 'frexp',\n",
       " 'fsum',\n",
       " 'gamma',\n",
       " 'gcd',\n",
       " 'hypot',\n",
       " 'inf',\n",
       " 'isclose',\n",
       " 'isfinite',\n",
       " 'isinf',\n",
       " 'isnan',\n",
       " 'ldexp',\n",
       " 'lgamma',\n",
       " 'log',\n",
       " 'log10',\n",
       " 'log1p',\n",
       " 'log2',\n",
       " 'modf',\n",
       " 'nan',\n",
       " 'pi',\n",
       " 'pow',\n",
       " 'radians',\n",
       " 'sin',\n",
       " 'sinh',\n",
       " 'sqrt',\n",
       " 'tan',\n",
       " 'tanh',\n",
       " 'trunc']"
      ]
     },
     "execution_count": 2,
     "metadata": {},
     "output_type": "execute_result"
    }
   ],
   "source": [
    "# use `dir` to get a list of methods contained in the module\n",
    "dir(math)"
   ]
  },
  {
   "cell_type": "code",
   "execution_count": 3,
   "metadata": {
    "collapsed": false
   },
   "outputs": [
    {
     "data": {
      "text/plain": [
       "1.1597413504743201"
      ]
     },
     "execution_count": 3,
     "metadata": {},
     "output_type": "execute_result"
    }
   ],
   "source": [
    "# use a method using a `.`\n",
    "math.sqrt(1.345)"
   ]
  },
  {
   "cell_type": "code",
   "execution_count": 4,
   "metadata": {
    "collapsed": false
   },
   "outputs": [
    {
     "name": "stdout",
     "output_type": "stream",
     "text": [
      "3.1415926535897931\n"
     ]
    }
   ],
   "source": [
    "# modules can also contain fundamental constants\n",
    "print('%.16f' % math.pi)"
   ]
  },
  {
   "cell_type": "code",
   "execution_count": 6,
   "metadata": {
    "collapsed": false
   },
   "outputs": [
    {
     "name": "stdout",
     "output_type": "stream",
     "text": [
      "sqrt(x)\n",
      "\n",
      "Return the square root of x.\n"
     ]
    }
   ],
   "source": [
    "print(math.sqrt.__doc__)"
   ]
  },
  {
   "cell_type": "code",
   "execution_count": 7,
   "metadata": {
    "collapsed": false
   },
   "outputs": [
    {
     "name": "stdout",
     "output_type": "stream",
     "text": [
      "math\n"
     ]
    }
   ],
   "source": [
    "# notice the contents of math preceeded and followed by two underscores\n",
    "print(math.__name__)"
   ]
  },
  {
   "cell_type": "markdown",
   "metadata": {},
   "source": [
    "All modules know what their name is.  More on this soon."
   ]
  },
  {
   "cell_type": "markdown",
   "metadata": {},
   "source": [
    "### Working with times and dates"
   ]
  },
  {
   "cell_type": "code",
   "execution_count": 8,
   "metadata": {
    "collapsed": false
   },
   "outputs": [
    {
     "name": "stdout",
     "output_type": "stream",
     "text": [
      "Wed, 14 Sep 2016   15:37:04 +0000\n"
     ]
    }
   ],
   "source": [
    "import time\n",
    "print(time.strftime(\"%a, %d %b %Y   %H:%M:%S +0000\",time.gmtime()))"
   ]
  },
  {
   "cell_type": "markdown",
   "metadata": {},
   "source": [
    "The module name acts as a namespace. This can become cumbersome, for very long module names and we can get around it by importing everything into the standard namespace."
   ]
  },
  {
   "cell_type": "code",
   "execution_count": 9,
   "metadata": {
    "collapsed": false
   },
   "outputs": [
    {
     "name": "stdout",
     "output_type": "stream",
     "text": [
      "09/14/2016 15:38:35\n"
     ]
    }
   ],
   "source": [
    "from time import *\n",
    "print(strftime(\"%m/%d/%Y %H:%M:%S\",gmtime()))"
   ]
  },
  {
   "cell_type": "markdown",
   "metadata": {},
   "source": [
    "<div class=\"span alert alert-danger\">\n",
    "This is usually considered poor programming practice.  Any thoughts on why?\n",
    "</div>"
   ]
  },
  {
   "cell_type": "code",
   "execution_count": 10,
   "metadata": {
    "collapsed": false
   },
   "outputs": [
    {
     "name": "stdout",
     "output_type": "stream",
     "text": [
      "-1.2246467991473532e-16\n"
     ]
    }
   ],
   "source": [
    "# We can deal with the long module name issue by making a short name using the `as` keyword\n",
    "import math as m\n",
    "print(m.tan(m.pi))"
   ]
  },
  {
   "cell_type": "code",
   "execution_count": 11,
   "metadata": {
    "collapsed": false
   },
   "outputs": [
    {
     "name": "stdout",
     "output_type": "stream",
     "text": [
      "1.0\n"
     ]
    }
   ],
   "source": [
    "# we can also just import the parts we need\n",
    "from math import pi,sin,cos\n",
    "print(sin(pi/3)**2 + cos(pi/3)**2)"
   ]
  },
  {
   "cell_type": "markdown",
   "metadata": {},
   "source": [
    "### Writing modules\n",
    "\n",
    "Any code or collection of methods we write can be included in a module by writing them in a text editor (i.e. not in the iPython notebook or interpreter) and saving them with a unqiue filename `mymodule.py`.  We can treat these as complete python programs that can be run, or we can import them from other scripts to maximize effeciency and build collections of useful libraries.\n",
    "\n",
    "Modules and scripts can both named `mymodule.py` and both can contain variables, functions/methods and classes.\n",
    "\n",
    "** What's the difference?**\n",
    "\n",
    "* When imported, a module's `__name__` attribute is set to the module's file name, without *.py*.\n",
    "* When executed as a script, the `__name__` attribute is set to `__main__`.\n",
    "* Except for special cases, you shouldn't put any major executable code at the top-level. \n",
    "* Put code in functions, classes, methods, and guard it with if `__name__ == \"__main__\"`."
   ]
  },
  {
   "cell_type": "code",
   "execution_count": null,
   "metadata": {
    "collapsed": false
   },
   "outputs": [],
   "source": [
    "# %load data/mymodule.py\n",
    "'''\n",
    "A python module to exhibit the use of the __main__ name.\n",
    "'''\n",
    "\n",
    "def foo():\n",
    "    ''' A test function. '''\n",
    "    return 1\n",
    "\n",
    "# Main Function\n",
    "def main():\n",
    "    # put all your main program driver code here\n",
    "    print(foo())\n",
    "    \n",
    "# main is called once when the script is executed.    \n",
    "if __name__ == '__main__':\n",
    "    main()\n"
   ]
  },
  {
   "cell_type": "code",
   "execution_count": 1,
   "metadata": {
    "collapsed": false
   },
   "outputs": [
    {
     "data": {
      "text/plain": [
       "1"
      ]
     },
     "execution_count": 1,
     "metadata": {},
     "output_type": "execute_result"
    }
   ],
   "source": [
    "# then from another script (or from the Jupyter notebook) \n",
    "# we can import the functions defined in this script\n",
    "\n",
    "# we need to tell python where the script lives, via the sys module\n",
    "import sys\n",
    "sys.path.insert(0, \"data\")\n",
    "\n",
    "import mymodule\n",
    "mymodule.foo()"
   ]
  },
  {
   "cell_type": "markdown",
   "metadata": {},
   "source": [
    "## Computing $\\pi$\n",
    "\n",
    "Let's put these ideas into practice by writing a module containing functions that compute the value of $\\pi$ in various ways."
   ]
  },
  {
   "cell_type": "markdown",
   "metadata": {},
   "source": [
    "### Gottfried Wilhelm Leibniz 1646-1716\n",
    "<img src=\"http://upload.wikimedia.org/wikipedia/commons/6/6a/Gottfried_Wilhelm_von_Leibniz.jpg\" width=200px>\n",
    "\n",
    "\\begin{equation}\n",
    "\\pi = 4 \\sum_{n=1}^\\infty \\frac{(-1)^{n+1}}{2n-1}\n",
    "\\end{equation}\n",
    "\n",
    "### Abraham Sharp 1653-1742\n",
    "<img src=\"http://upload.wikimedia.org/wikipedia/commons/4/43/Sharp_Abraham.jpg\" width=200px>\n",
    "\\begin{equation}\n",
    "\\pi = \\sum_{n=0}^\\infty \\frac{2(-1)^{n}3^{1/2-n}}{2n+1}\n",
    "\\end{equation}\n",
    "\n",
    "### Monte Carlo Calculation using `random.random()`\n",
    "<img src=\"http://upload.wikimedia.org/wikipedia/commons/thumb/c/ce/Circle_Area.svg/265px-Circle_Area.svg.png\"\\ width=200px>\n",
    "<img src=\"http://upload.wikimedia.org/wikipedia/commons/8/84/Pi_30K.gif\" width=200px>\n",
    "\n",
    "\n",
    "\\begin{align}\n",
    "A_\\bigcirc &= \\pi \\\\\n",
    "A_\\Box &= 1\n",
    "\\end{align}"
   ]
  },
  {
   "cell_type": "code",
   "execution_count": null,
   "metadata": {
    "collapsed": true
   },
   "outputs": [],
   "source": []
  }
 ],
 "metadata": {
  "kernelspec": {
   "display_name": "Python 3",
   "language": "python",
   "name": "python3"
  },
  "language_info": {
   "codemirror_mode": {
    "name": "ipython",
    "version": 3
   },
   "file_extension": ".py",
   "mimetype": "text/x-python",
   "name": "python",
   "nbconvert_exporter": "python",
   "pygments_lexer": "ipython3",
   "version": "3.5.2"
  }
 },
 "nbformat": 4,
 "nbformat_minor": 0
}
