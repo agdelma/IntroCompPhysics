{
 "cells": [
  {
   "cell_type": "markdown",
   "metadata": {},
   "source": [
    "# Physics 256\n",
    "## Lecture 06 - Functions & Modules"
   ]
  },
  {
   "cell_type": "markdown",
   "metadata": {},
   "source": [
    "<img src=\"http://upload.wikimedia.org/wikipedia/commons/thumb/7/75/Jigsaw.svg/600px-Jigsaw.svg.png\" width=300px>"
   ]
  },
  {
   "cell_type": "code",
   "execution_count": null,
   "metadata": {},
   "outputs": [],
   "source": [
    "import style\n",
    "style._set_css_style('../include/bootstrap.css')"
   ]
  },
  {
   "cell_type": "markdown",
   "metadata": {},
   "source": [
    "## Last Time\n",
    "\n",
    "### [Notebook Link: 05_Functions.ipynb](./05_Functions.ipynb)\n",
    "\n",
    "- List comprehensions\n",
    "- Programming challenge\n",
    "\n",
    "## Today\n",
    "- Functions\n",
    "- Modules\n",
    "\n",
    "<!--\n",
    "<div class=\"row\">\n",
    "<div class=\"span alert alert-success\">\n",
    "<h2> Team programming challenge </h2>\n",
    "<h3> Leap Years</h3>\n",
    "Write a function that can determine if a given year is a leap year. Use it to find all leap years since you were born.\n",
    "<p/>\n",
    "A  leap year is divisible by four, but not by one hundred, unless it is divisible by four hundred.\n",
    "</div>\n",
    "</div>\n",
    "%load data/leapyear.py\n",
    "-->"
   ]
  },
  {
   "cell_type": "markdown",
   "metadata": {},
   "source": [
    "## Modules\n",
    "\n",
    "Don't reinvent the wheel! If you run into a programming problem, chances are, someone has already solved at least some part of it.  Modules are repositories of software and constants that we can `import` and use in our programs."
   ]
  },
  {
   "cell_type": "code",
   "execution_count": null,
   "metadata": {
    "collapsed": false
   },
   "outputs": [],
   "source": [
    "# we import a module into our code using the `import` keyword\n",
    "import math"
   ]
  },
  {
   "cell_type": "code",
   "execution_count": null,
   "metadata": {
    "collapsed": false
   },
   "outputs": [],
   "source": [
    "# use `dir` to get a list of methods contained in the module\n",
    "dir(math)"
   ]
  },
  {
   "cell_type": "code",
   "execution_count": null,
   "metadata": {
    "collapsed": false
   },
   "outputs": [],
   "source": [
    "# use a method using a `.`\n",
    "math.sqrt(1.345)"
   ]
  },
  {
   "cell_type": "code",
   "execution_count": null,
   "metadata": {
    "collapsed": false
   },
   "outputs": [],
   "source": [
    "# modules can also contain fundamental constants\n",
    "π = math.pi\n",
    "print(f'{π:.16f}')"
   ]
  },
  {
   "cell_type": "code",
   "execution_count": null,
   "metadata": {
    "collapsed": false
   },
   "outputs": [],
   "source": [
    "print(math.sqrt.__doc__)"
   ]
  },
  {
   "cell_type": "code",
   "execution_count": null,
   "metadata": {
    "collapsed": false
   },
   "outputs": [],
   "source": [
    "# notice the contents of math preceeded and followed by two underscores\n",
    "print(math.__name__)"
   ]
  },
  {
   "cell_type": "markdown",
   "metadata": {},
   "source": [
    "All modules know what their name is.  More on this soon."
   ]
  },
  {
   "cell_type": "markdown",
   "metadata": {},
   "source": [
    "### Working with times and dates"
   ]
  },
  {
   "cell_type": "code",
   "execution_count": null,
   "metadata": {
    "collapsed": false
   },
   "outputs": [],
   "source": [
    "import time\n",
    "print(time.strftime(\"%a, %d %b %Y   %H:%M:%S +0000\",time.gmtime()))"
   ]
  },
  {
   "cell_type": "markdown",
   "metadata": {},
   "source": [
    "The module name acts as a namespace. This can become cumbersome, for very long module names and we can get around it by importing everything into the standard namespace."
   ]
  },
  {
   "cell_type": "code",
   "execution_count": null,
   "metadata": {
    "collapsed": false
   },
   "outputs": [],
   "source": [
    "from time import *\n",
    "print(strftime(\"%m/%d/%Y %H:%M:%S\",gmtime()))"
   ]
  },
  {
   "cell_type": "markdown",
   "metadata": {},
   "source": [
    "<div class=\"span alert alert-danger\">\n",
    "This is usually considered poor programming practice.  Any thoughts on why?\n",
    "</div>"
   ]
  },
  {
   "cell_type": "code",
   "execution_count": null,
   "metadata": {
    "collapsed": false
   },
   "outputs": [],
   "source": [
    "# We can deal with the long module name issue by making a short name using the `as` keyword\n",
    "import math as m\n",
    "print(m.tan(m.pi))"
   ]
  },
  {
   "cell_type": "code",
   "execution_count": null,
   "metadata": {
    "collapsed": false
   },
   "outputs": [],
   "source": [
    "# we can also just import the parts we need\n",
    "from math import sin,cos\n",
    "from math import pi as π\n",
    "\n",
    "print(sin(π/3)**2 + cos(π/3)**2)"
   ]
  },
  {
   "cell_type": "markdown",
   "metadata": {},
   "source": [
    "### Writing modules\n",
    "\n",
    "Any code or collection of methods we write can be included in a module by writing them in a text editor (i.e. not in the Jupyter notebook or interpreter) and saving them with a unqiue filename `mymodule.py`.  We can treat these as complete python programs that can be run, or we can import them from other scripts to maximize effeciency and build collections of useful libraries.\n",
    "\n",
    "Modules and scripts can both be named `mymodule.py` and both can contain variables, functions/methods and classes.\n",
    "\n",
    "** What's the difference?**\n",
    "\n",
    "* When imported, a module's `__name__` attribute is set to the module's file name, without *.py*.\n",
    "* When executed as a script, the `__name__` attribute is set to `__main__`.\n",
    "* Except for special cases, you shouldn't put any major executable code at the top-level. \n",
    "* Put code in functions, classes, methods, and guard it with if `__name__ == \"__main__\"`."
   ]
  },
  {
   "cell_type": "code",
   "execution_count": null,
   "metadata": {
    "collapsed": false
   },
   "outputs": [],
   "source": [
    "%load ../include/mymodule.py"
   ]
  },
  {
   "cell_type": "code",
   "execution_count": null,
   "metadata": {
    "collapsed": false
   },
   "outputs": [],
   "source": [
    "# then from another script (or from the Jupyter notebook) \n",
    "# we can import the functions defined in this script\n",
    "\n",
    "# we need to tell python where the script lives, via the sys module\n",
    "import sys\n",
    "sys.path.insert(0, \"../include\")\n",
    "\n",
    "mymodule.foo()"
   ]
  },
  {
   "cell_type": "markdown",
   "metadata": {},
   "source": [
    "## Computing $\\pi$\n",
    "\n",
    "Let's put these ideas into practice by writing a module containing functions that compute the value of $\\pi$ in various ways."
   ]
  },
  {
   "cell_type": "markdown",
   "metadata": {},
   "source": [
    "### Gottfried Wilhelm Leibniz 1646-1716\n",
    "<img src=\"http://upload.wikimedia.org/wikipedia/commons/6/6a/Gottfried_Wilhelm_von_Leibniz.jpg\" width=200px>\n",
    "\n",
    "\\begin{equation}\n",
    "\\pi = 4 \\sum_{n=1}^\\infty \\frac{(-1)^{n+1}}{2n-1}\n",
    "\\end{equation}\n",
    "\n",
    "### Abraham Sharp 1653-1742\n",
    "<img src=\"http://upload.wikimedia.org/wikipedia/commons/4/43/Sharp_Abraham.jpg\" width=200px>\n",
    "\\begin{equation}\n",
    "\\pi = \\sum_{n=0}^\\infty \\frac{2(-1)^{n}3^{1/2-n}}{2n+1}\n",
    "\\end{equation}\n",
    "\n",
    "### Monte Carlo Calculation using `random.random()`\n",
    "<img src=\"http://upload.wikimedia.org/wikipedia/commons/thumb/c/ce/Circle_Area.svg/265px-Circle_Area.svg.png\"\\ width=200px>\n",
    "<img src=\"http://upload.wikimedia.org/wikipedia/commons/8/84/Pi_30K.gif\" width=200px>\n",
    "\n",
    "\n",
    "\\begin{align}\n",
    "A_\\bigcirc &= \\pi \\\\\n",
    "A_\\Box &= 1\n",
    "\\end{align}"
   ]
  },
  {
   "cell_type": "code",
   "execution_count": null,
   "metadata": {
    "collapsed": true
   },
   "outputs": [],
   "source": []
  }
 ],
 "metadata": {
  "kernelspec": {
   "display_name": "Python 3",
   "language": "python",
   "name": "python3"
  },
  "language_info": {
   "codemirror_mode": {
    "name": "ipython",
    "version": 3
   },
   "file_extension": ".py",
   "mimetype": "text/x-python",
   "name": "python",
   "nbconvert_exporter": "python",
   "pygments_lexer": "ipython3",
   "version": "3.7.3"
  }
 },
 "nbformat": 4,
 "nbformat_minor": 2
}
