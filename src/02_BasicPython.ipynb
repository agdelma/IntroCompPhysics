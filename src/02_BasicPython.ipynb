{
 "cells": [
  {
   "cell_type": "markdown",
   "metadata": {},
   "source": [
    "# Physics 256\n",
    "## Lecture 02 - Introduction to Python"
   ]
  },
  {
   "cell_type": "code",
   "execution_count": 1,
   "metadata": {
    "collapsed": false
   },
   "outputs": [
    {
     "data": {
      "text/html": [
       "<img src=\"http://upload.wikimedia.org/wikipedia/commons/1/16/Allison_Randal.jpg\"/>"
      ],
      "text/plain": [
       "<IPython.core.display.Image object>"
      ]
     },
     "execution_count": 1,
     "metadata": {},
     "output_type": "execute_result"
    }
   ],
   "source": [
    "from IPython.display import Image\n",
    "Image(url=\"http://upload.wikimedia.org/wikipedia/commons/1/16/Allison_Randal.jpg\")"
   ]
  },
  {
   "cell_type": "markdown",
   "metadata": {},
   "source": [
    "*Free software is a fundamentally superior model for development.*\n",
    "\n",
    "-- Allison Randal, Hewlett Packard"
   ]
  },
  {
   "cell_type": "markdown",
   "metadata": {},
   "source": [
    "## Last Time\n",
    "\n",
    "We talked about the various benefits of python.\n",
    "\n",
    "- automatic garbage collection\n",
    "- dynamic typing\n",
    "- interpreted and interactive\n",
    "- object-orientated\n",
    "- *batteries included*\n",
    "- free (as in beer and speech)\n",
    "- portable (works on any architecture or OS)\n",
    "- **easy to learn**\n",
    "- modular\n",
    "- advanced constructs \n",
    "\n",
    "## Today\n",
    "\n",
    "We will dive into the details and start writing some code.\n",
    "\n",
    "## Interacting With Python\n",
    "\n",
    "Depending on how you decided to install python, there are various ways of interacting with it:\n",
    "\n",
    "1. Using the interpreter\n",
    "2. Writing a script and running from the command line\n",
    "3. Within the Anaconda IDE\n",
    "4. Using the Jupyter Notebook\n",
    "\n",
    "We begin with the ubiquoutous *Hello World* program"
   ]
  },
  {
   "cell_type": "code",
   "execution_count": null,
   "metadata": {
    "collapsed": false
   },
   "outputs": [],
   "source": [
    "print('Hello World')"
   ]
  },
  {
   "cell_type": "markdown",
   "metadata": {},
   "source": [
    "If you are using the interpreter, some things to remember:\n",
    "\n",
    "1. Exit using `exit()` or `ctrl-d`\n",
    "2. Recall previous commands using the up arrow\n",
    "3. Try experimenting with tab-completion"
   ]
  },
  {
   "cell_type": "markdown",
   "metadata": {},
   "source": [
    "### Python as an interactive calculator"
   ]
  },
  {
   "cell_type": "code",
   "execution_count": null,
   "metadata": {
    "collapsed": false
   },
   "outputs": [],
   "source": [
    "# adding two values\n",
    "1+1"
   ]
  },
  {
   "cell_type": "markdown",
   "metadata": {},
   "source": [
    "## Variables and Types\n",
    "\n",
    "The names of variables in Python can contain alphanumerical characters a-z, A-Z, 0-9 and some special characters such as _. All Normal variable names must start with a letter.\n",
    "\n",
    "It is conventional to start all variable names with a lower case letter.\n",
    "\n",
    "In addition, there are a number of Python keywords that cannot be used as variable names. These keywords are:\n",
    "\n",
    "    and, as, assert, break, class, continue, def, del, elif, else, except, \n",
    "    exec, finally, for, from, global, if, import, in, is, lambda, not, or,\n",
    "    pass, print, raise, return, try, while, with, yield\n",
    "\n",
    "<!-- alert-warning with alert-success, alert-info or alert-danger -->\n",
    "<div class=\"alert alert-danger\">\n",
    "Be aware that the word `lambda`, which might naturally appear in a physics related program, is actually a keyword and cannot be used for a variable name.\n",
    "</div>\n"
   ]
  },
  {
   "cell_type": "markdown",
   "metadata": {},
   "source": [
    "### Assignment\n",
    "\n",
    "The assignment operator in Python is `=`. As we discussed in Lecture 01, python is a dynamically typed language, so we do not need to specify the type of a variable when we create one."
   ]
  },
  {
   "cell_type": "code",
   "execution_count": null,
   "metadata": {
    "collapsed": false
   },
   "outputs": [],
   "source": [
    "# setting a variable\n",
    "a = 1\n",
    "a"
   ]
  },
  {
   "cell_type": "code",
   "execution_count": null,
   "metadata": {
    "collapsed": false
   },
   "outputs": [],
   "source": [
    "# checking the type of a variable\n",
    "type(a)"
   ]
  },
  {
   "cell_type": "code",
   "execution_count": null,
   "metadata": {
    "collapsed": false
   },
   "outputs": [],
   "source": [
    "# We can reasign both the type and value\n",
    "a = 1.7E-6\n",
    "print(a)\n",
    "print(type(a))"
   ]
  },
  {
   "cell_type": "code",
   "execution_count": null,
   "metadata": {
    "collapsed": false
   },
   "outputs": [],
   "source": [
    "# determining the type\n",
    "b = 1.2 + 3.1\n",
    "print(b)\n",
    "print(type(b))"
   ]
  },
  {
   "cell_type": "code",
   "execution_count": null,
   "metadata": {
    "collapsed": false
   },
   "outputs": [],
   "source": [
    "# python allows self-assignment through increment/modify operators\n",
    "x = 1\n",
    "x += 2\n",
    "x"
   ]
  },
  {
   "cell_type": "code",
   "execution_count": null,
   "metadata": {
    "collapsed": false
   },
   "outputs": [],
   "source": [
    "# this works for all allowed operations\n",
    "x -= 1\n",
    "x *= 2\n",
    "x /= 2\n",
    "x **= 2\n",
    "x %= 3\n",
    "x //= 2\n",
    "x "
   ]
  },
  {
   "cell_type": "code",
   "execution_count": null,
   "metadata": {
    "collapsed": false
   },
   "outputs": [],
   "source": [
    "# Can assign multiple variables at the same time\n",
    "x,y,z = 1,2,3\n",
    "print(x + y + z)"
   ]
  },
  {
   "cell_type": "markdown",
   "metadata": {},
   "source": [
    "### Complex Numbers\n",
    "\n",
    "Use `j` or `J` for the imaginary part\n",
    "Create with `real + imagj` or `complex(real,imag)`"
   ]
  },
  {
   "cell_type": "code",
   "execution_count": null,
   "metadata": {
    "collapsed": false
   },
   "outputs": [],
   "source": [
    "c = 2 + 1.5j\n",
    "c"
   ]
  },
  {
   "cell_type": "code",
   "execution_count": null,
   "metadata": {
    "collapsed": false
   },
   "outputs": [],
   "source": [
    "# once they have been defined, we can manipulate and perform all operations\n",
    "d = 1j * complex(0,1)\n",
    "print(d)\n",
    "print((1+2j)/(1+1J))"
   ]
  },
  {
   "cell_type": "code",
   "execution_count": null,
   "metadata": {
    "collapsed": false
   },
   "outputs": [],
   "source": [
    "# We can extract the real and imaginary parts\n",
    "a = 1.5 + 0.5j\n",
    "print('Real[a] = ', a.real)\n",
    "print('Imag[a] = ', a.imag)"
   ]
  },
  {
   "cell_type": "code",
   "execution_count": null,
   "metadata": {
    "collapsed": false
   },
   "outputs": [],
   "source": [
    "# Use `abs` to compute the modulus\n",
    "a = 1.5 + 0.5j\n",
    "print('|a| = ', abs(a))"
   ]
  },
  {
   "cell_type": "markdown",
   "metadata": {},
   "source": [
    "<div class=\"span alert alert-info\">\n",
    "Question: What is the output of:\n",
    "<code>\n",
    "    a = complex(3,3)\n",
    "    b = a + 1j\n",
    "    print(abs(b))\n",
    "</code>\n",
    "<ol class=\"a\">\n",
    "<li> 4.24264\n",
    "<li> 25.0\n",
    "<li> 5.0\n",
    "<li> 18\n",
    "</ol>\n",
    "</div>"
   ]
  },
  {
   "cell_type": "code",
   "execution_count": null,
   "metadata": {
    "collapsed": false
   },
   "outputs": [],
   "source": [
    "a = complex(3,3)\n",
    "b = a + 1j\n",
    "print(abs(b))"
   ]
  },
  {
   "cell_type": "markdown",
   "metadata": {},
   "source": [
    "### Comparing Numbers\n",
    "When comparing two floats we should compare the difference against a small number."
   ]
  },
  {
   "cell_type": "code",
   "execution_count": null,
   "metadata": {
    "collapsed": false
   },
   "outputs": [],
   "source": [
    "a = (3.0*1.0)/5.0\n",
    "b = 3.0*(1.0/5.0)"
   ]
  },
  {
   "cell_type": "code",
   "execution_count": null,
   "metadata": {
    "collapsed": false
   },
   "outputs": [],
   "source": [
    "a == b"
   ]
  },
  {
   "cell_type": "code",
   "execution_count": null,
   "metadata": {
    "collapsed": false
   },
   "outputs": [],
   "source": [
    "import sys\n",
    "sys.float_info"
   ]
  },
  {
   "cell_type": "code",
   "execution_count": null,
   "metadata": {
    "collapsed": false
   },
   "outputs": [],
   "source": [
    "eps = sys.float_info.epsilon\n",
    "truthiness = abs(a-b) < eps\n",
    "print(truthiness)"
   ]
  },
  {
   "cell_type": "markdown",
   "metadata": {},
   "source": [
    "### Special numbers\n",
    "\n",
    "Unlike some other progmmaing languages, the python standard library does not have special symbols for “Not a Number”"
   ]
  },
  {
   "cell_type": "code",
   "execution_count": null,
   "metadata": {
    "collapsed": false
   },
   "outputs": [],
   "source": [
    "0/0"
   ]
  },
  {
   "cell_type": "code",
   "execution_count": null,
   "metadata": {
    "collapsed": false
   },
   "outputs": [],
   "source": [
    "# or infinity\n",
    "1/0"
   ]
  },
  {
   "cell_type": "markdown",
   "metadata": {},
   "source": [
    "### Integer division\n",
    "\n",
    "<div class=\"span alert alert-danger\">\n",
    "In python 2.x division by an integer always defaults to floor division. \n",
    "</div>\n",
    "\n",
    "This can be fixed by issuing:\n",
    "\n",
    "`from __future__ import division`\n",
    "\n",
    "but is not needed in python 3.x."
   ]
  },
  {
   "cell_type": "code",
   "execution_count": null,
   "metadata": {
    "collapsed": false
   },
   "outputs": [],
   "source": [
    "3/10"
   ]
  },
  {
   "cell_type": "code",
   "execution_count": null,
   "metadata": {
    "collapsed": false
   },
   "outputs": [],
   "source": [
    "10/3"
   ]
  },
  {
   "cell_type": "markdown",
   "metadata": {},
   "source": [
    "Integer division is obtained using the `//` command"
   ]
  },
  {
   "cell_type": "code",
   "execution_count": null,
   "metadata": {
    "collapsed": false
   },
   "outputs": [],
   "source": [
    "3//10"
   ]
  },
  {
   "cell_type": "code",
   "execution_count": null,
   "metadata": {
    "collapsed": false
   },
   "outputs": [],
   "source": [
    "10//3"
   ]
  },
  {
   "cell_type": "markdown",
   "metadata": {},
   "source": [
    "The integer remainder can be extracted with the modulus operator `%`"
   ]
  },
  {
   "cell_type": "code",
   "execution_count": null,
   "metadata": {
    "collapsed": false
   },
   "outputs": [],
   "source": [
    "10 % 3"
   ]
  },
  {
   "cell_type": "markdown",
   "metadata": {},
   "source": [
    "## Strings"
   ]
  },
  {
   "cell_type": "code",
   "execution_count": null,
   "metadata": {
    "collapsed": false
   },
   "outputs": [],
   "source": [
    "# we can use single quotes \n",
    "s = 'Hello World'\n",
    "print(s)"
   ]
  },
  {
   "cell_type": "code",
   "execution_count": null,
   "metadata": {
    "collapsed": false
   },
   "outputs": [],
   "source": [
    "# but double quotes also work\n",
    "s = \"Hello World\"\n",
    "print(s)"
   ]
  },
  {
   "cell_type": "code",
   "execution_count": null,
   "metadata": {
    "collapsed": false
   },
   "outputs": [],
   "source": [
    "# but don't mix them\n",
    "s = 'Goodbye World\"\n",
    "print(s)"
   ]
  },
  {
   "cell_type": "markdown",
   "metadata": {},
   "source": [
    "### String Operations"
   ]
  },
  {
   "cell_type": "code",
   "execution_count": null,
   "metadata": {
    "collapsed": false
   },
   "outputs": [],
   "source": [
    "# concatenating two strings \n",
    "s = 'Hello' + 'World'\n",
    "s"
   ]
  },
  {
   "cell_type": "code",
   "execution_count": null,
   "metadata": {
    "collapsed": false
   },
   "outputs": [],
   "source": [
    "# repeating a string\n",
    "s = 'Hello '\n",
    "s*4"
   ]
  },
  {
   "cell_type": "code",
   "execution_count": null,
   "metadata": {
    "collapsed": false
   },
   "outputs": [],
   "source": [
    "# string length\n",
    "s = '12345'\n",
    "len(s)"
   ]
  },
  {
   "cell_type": "markdown",
   "metadata": {},
   "source": [
    "### Formatting strings\n",
    "\n",
    "The `%` operator allows you to supply a format string which follows the c programming conventions.\n",
    "\n",
    "There is also a new-fangled string formatting method using .format().  Use whichever one you like best.  See: https://pyformat.info/ for comparisons."
   ]
  },
  {
   "cell_type": "code",
   "execution_count": null,
   "metadata": {
    "collapsed": false
   },
   "outputs": [],
   "source": [
    "s = 'some numbers:'\n",
    "x = 1.346\n",
    "y = 2\n",
    "s = '%s %4.2f, %d' % (s,x,y)\n",
    "print(s)"
   ]
  },
  {
   "cell_type": "code",
   "execution_count": null,
   "metadata": {
    "collapsed": false
   },
   "outputs": [],
   "source": [
    "print('%8.4E' % (x*x))"
   ]
  },
  {
   "cell_type": "markdown",
   "metadata": {},
   "source": [
    "### String methods"
   ]
  },
  {
   "cell_type": "code",
   "execution_count": null,
   "metadata": {
    "collapsed": false
   },
   "outputs": [],
   "source": [
    "s = 'hello world'\n",
    "\n",
    "# split a string at a space\n",
    "s.split()"
   ]
  },
  {
   "cell_type": "code",
   "execution_count": null,
   "metadata": {
    "collapsed": false
   },
   "outputs": [],
   "source": [
    "# join string with character '_'\n",
    "'_'.join(s.split())"
   ]
  },
  {
   "cell_type": "code",
   "execution_count": null,
   "metadata": {
    "collapsed": false
   },
   "outputs": [],
   "source": [
    "# replace word\n",
    "s.replace('world','Burlington')"
   ]
  },
  {
   "cell_type": "code",
   "execution_count": null,
   "metadata": {
    "collapsed": false
   },
   "outputs": [],
   "source": [
    "# strip whitespace\n",
    "s = '\\t        hello        \\n'\n",
    "print s\n",
    "print s.strip()\n",
    "print s"
   ]
  },
  {
   "cell_type": "markdown",
   "metadata": {},
   "source": [
    "<div class=\"span alert alert-danger\">\n",
    "String methods preserve the content of the original string\n",
    "</div>\n"
   ]
  },
  {
   "cell_type": "code",
   "execution_count": null,
   "metadata": {
    "collapsed": false
   },
   "outputs": [],
   "source": [
    "# triple quotes can be used for multi-line strings\n",
    "a = '''hello\n",
    "world'''\n",
    "print(a)"
   ]
  },
  {
   "cell_type": "code",
   "execution_count": null,
   "metadata": {
    "collapsed": false
   },
   "outputs": [],
   "source": [
    "# for long strings we can use '\\' to indicate continuation\n",
    "a = 'hello \\\n",
    "world'\n",
    "print(a)"
   ]
  },
  {
   "cell_type": "code",
   "execution_count": null,
   "metadata": {
    "collapsed": false
   },
   "outputs": [],
   "source": [
    "# escape sequences\n",
    "a = 'newline \\n character'\n",
    "print(a)"
   ]
  },
  {
   "cell_type": "code",
   "execution_count": null,
   "metadata": {
    "collapsed": false
   },
   "outputs": [],
   "source": [
    "# use raw strings by pre-pending a 'r' to prevent any special processing\n",
    "a = r'\\n: newline character'\n",
    "print(a)"
   ]
  },
  {
   "cell_type": "code",
   "execution_count": null,
   "metadata": {
    "collapsed": false
   },
   "outputs": [],
   "source": [
    "# what do you do if you string has a single or double quote in it?\n",
    "\n",
    "# method 1, use a double quoted string\n",
    "a = \"What's your name?\"\n",
    "print(a)\n",
    "\n",
    "# method 2, use an escape sequcne\n",
    "b = 'What\\'s your name?'\n",
    "print(b)"
   ]
  },
  {
   "cell_type": "markdown",
   "metadata": {},
   "source": [
    "<div class=\"span alert alert-danger\">\n",
    "Strings are immutable: once we have created one, we can't change any elements\n",
    "</div>"
   ]
  },
  {
   "cell_type": "code",
   "execution_count": null,
   "metadata": {
    "collapsed": false
   },
   "outputs": [],
   "source": [
    "a = '12345'\n",
    "a[0] = 2"
   ]
  },
  {
   "cell_type": "markdown",
   "metadata": {},
   "source": [
    "## Getting Help"
   ]
  },
  {
   "cell_type": "code",
   "execution_count": null,
   "metadata": {
    "collapsed": false
   },
   "outputs": [],
   "source": [
    "# for general help\n",
    "help()"
   ]
  },
  {
   "cell_type": "code",
   "execution_count": null,
   "metadata": {
    "collapsed": false
   },
   "outputs": [],
   "source": [
    "# for help with a type\n",
    "help(str)"
   ]
  },
  {
   "cell_type": "code",
   "execution_count": null,
   "metadata": {
    "collapsed": false
   },
   "outputs": [],
   "source": [
    "# for help with a method\n",
    "help(str.replace)"
   ]
  },
  {
   "cell_type": "markdown",
   "metadata": {
    "collapsed": true
   },
   "source": [
    "Also, check out helpful tab completion."
   ]
  },
  {
   "cell_type": "code",
   "execution_count": null,
   "metadata": {
    "collapsed": false
   },
   "outputs": [],
   "source": [
    "s = 'hello'\n",
    "s."
   ]
  }
 ],
 "metadata": {
  "kernelspec": {
   "display_name": "Python 3",
   "language": "python",
   "name": "python3"
  },
  "language_info": {
   "codemirror_mode": {
    "name": "ipython",
    "version": 3
   },
   "file_extension": ".py",
   "mimetype": "text/x-python",
   "name": "python",
   "nbconvert_exporter": "python",
   "pygments_lexer": "ipython3",
   "version": "3.4.5"
  }
 },
 "nbformat": 4,
 "nbformat_minor": 0
}
