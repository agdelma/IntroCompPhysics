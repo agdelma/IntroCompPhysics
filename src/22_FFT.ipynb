{
 "cells": [
  {
   "cell_type": "markdown",
   "metadata": {},
   "source": [
    "# Physics 256\n",
    "## Fast Fourier Transform\n",
    "\n",
    "<img src=\"https://groups.csail.mit.edu/netmit/sFFT/images/sFFT5.png\" width=600px>"
   ]
  },
  {
   "cell_type": "code",
   "execution_count": null,
   "metadata": {},
   "outputs": [],
   "source": [
    "import style\n",
    "style._set_css_style('../include/bootstrap.css')"
   ]
  },
  {
   "cell_type": "markdown",
   "metadata": {},
   "source": [
    "## Last Time\n",
    "\n",
    "### [Notebook Link: 21 Spectral Analysis](./21_SpectralAnalysis.ipynb)\n",
    "\n",
    "- Spectral analysis\n",
    "- Discrete Fourier transform\n",
    "- Nyquist frequency\n",
    "\n",
    "\n",
    "## Today\n",
    "\n",
    "- Fast Fourier transform"
   ]
  },
  {
   "cell_type": "markdown",
   "metadata": {},
   "source": [
    "## Setting up the Notebook"
   ]
  },
  {
   "cell_type": "code",
   "execution_count": null,
   "metadata": {
    "collapsed": false,
    "jupyter": {
     "outputs_hidden": false
    }
   },
   "outputs": [],
   "source": [
    "import matplotlib.pyplot as plt\n",
    "import numpy as np\n",
    "%matplotlib inline\n",
    "plt.style.use('../include/notebook.mplstyle');\n",
    "%config InlineBackend.figure_format = 'svg'\n",
    "colors = plt.rcParams['axes.prop_cycle'].by_key()['color']"
   ]
  },
  {
   "cell_type": "markdown",
   "metadata": {},
   "source": [
    "## Discrete Fourier Transform\n",
    "\n",
    "For a discrete time series $\\vec{y}$ measured at times $t_j = j \\Delta t$, the discrete Fourier transform is given by:\n",
    "\n",
    "\\begin{equation}\n",
    "\\hat{y}_k  = \\sum_{j=0}^{N-1} y_j \\mathrm{e}^{-i 2\\pi k j /N} .\n",
    "\\end{equation}\n",
    "\n",
    "for $k=0,\\ldots,N-1$.  The minimum non-zero frequency is $\\omega_{\\rm min} = 2\\pi/(N\\Delta t)$ while the maximum frequency is given by: $\\omega_{\\rm Ny} = \\pi/\\Delta t$.\n",
    "\n",
    "Last time we considered a *brute force* implementation of $\\hat{y}_k$ that is formally of order $\\mathrm{O}(N^2)$.  We have to perform $N$ summations, each containint $N$ terms.  Historically, when computational abilities were more limited, this scaling prevented a **big** problem and better algorithms were needed."
   ]
  },
  {
   "cell_type": "code",
   "execution_count": null,
   "metadata": {},
   "outputs": [],
   "source": [
    "from scipy.constants import pi as π\n",
    "def fourier_transform(t,y):\n",
    "    '''Return the discrete Fourier transform of y.'''\n",
    "    N = y.size\n",
    "    Δt = t[1]-t[0]\n",
    "    ŷ = np.zeros([N],dtype=complex)\n",
    "    \n",
    "    for k in range(N):\n",
    "        ŷ[k] = np.sum(y*np.exp(-complex(0,1)*2*π*np.arange(N)*k/N))\n",
    "        \n",
    "    ω = 2*π*np.arange(N)/(N*Δt)\n",
    "    \n",
    "    return ω,ŷ"
   ]
  },
  {
   "cell_type": "markdown",
   "metadata": {},
   "source": [
    "## Fast Fourier Transform\n",
    "\n",
    "In 1965, Cooley and Tukey introduced an algorithm, now known as the *fast fourier transform* (FFT) which is of order: $\\mathrm{O}(N\\log_2N)$ *provided* that $N=2^n;\\; n\\in\\mathbb{Z}$.  Deriving the algorithm is quite complicated, but all languages provide **black box** routines to return the FFT.  It can be evaluated in Python via `np.fft.fft`: https://docs.scipy.org/doc/numpy/reference/routines.fft.html\n",
    "\n",
    "A nice video which includes a step-by-step derivation is below"
   ]
  },
  {
   "cell_type": "code",
   "execution_count": null,
   "metadata": {},
   "outputs": [],
   "source": [
    "from IPython.display import YouTubeVideo\n",
    "YouTubeVideo('htCj9exbGo0')"
   ]
  },
  {
   "cell_type": "code",
   "execution_count": null,
   "metadata": {},
   "outputs": [],
   "source": [
    "def fast_fourier_transform(t,y):\n",
    "    '''Return the fast Fourier transform of y.'''\n",
    "    ŷ = np.fft.fft(y)\n",
    "    ω = 2*π*np.fft.fftfreq(t.size,t[1]-t[0])\n",
    "    return ω,ŷ"
   ]
  },
  {
   "cell_type": "code",
   "execution_count": null,
   "metadata": {
    "collapsed": false,
    "jupyter": {
     "outputs_hidden": false
    }
   },
   "outputs": [],
   "source": [
    "# the time series\n",
    "Δt = 0.1\n",
    "t = np.arange(0.0,50.0,Δt)\n",
    "ωₒ = 2.0*π*(0.2)\n",
    "ϕ = 0.5*π\n",
    "y = np.sin(ωₒ*t + ϕ) + np.sin(2*ωₒ*t)\n",
    "\n",
    "# Plot the time series\n",
    "fig,ax = plt.subplots(1,2, figsize=(8,4))\n",
    "fig.subplots_adjust(wspace=0.4)\n",
    "\n",
    "ax[0].plot(t,y)\n",
    "ax[0].set_xlabel('Time [s]')\n",
    "ax[0].set_ylabel('Amplitude [arb.]')\n",
    "\n",
    "# # Get the discrete FT\n",
    "ω,ŷ = fast_fourier_transform(t,y)\n",
    "\n",
    "# Plot the real and imaginary parts of the DFT\n",
    "ax[1].plot(ω,ŷ.real,label='real.', color=colors[0])\n",
    "ax[1].plot(ω,ŷ.imag,linestyle='--',label='imag.', color=colors[-2])\n",
    "\n",
    "ax[1].set_xlabel('Frequency [rad/s]')\n",
    "ax[1].set_ylabel('Transform [arb.]')\n",
    "#ax[1].set_xlim(0,np.max(ω))\n",
    "ax[1].legend(loc='lower right')"
   ]
  },
  {
   "cell_type": "markdown",
   "metadata": {},
   "source": [
    "<div class=\"span alert alert-danger\">\n",
    "np.fft.fft wraps frequencies above the Nyquist frequency to $\\omega < 0$.\n",
    "</div>"
   ]
  },
  {
   "cell_type": "markdown",
   "metadata": {},
   "source": [
    "### Let's confirm the speedup factor"
   ]
  },
  {
   "cell_type": "code",
   "execution_count": null,
   "metadata": {
    "collapsed": false,
    "jupyter": {
     "outputs_hidden": false
    }
   },
   "outputs": [],
   "source": [
    "import timeit\n",
    "N = np.array([2**n for n in range(6,15)])\n",
    "dft,fft = [],[]\n",
    "for cN in N:\n",
    "    t = np.linspace(0,20,cN)\n",
    "    y = np.sin(t)\n",
    "    \n",
    "    dft.append(timeit.timeit('fourier_transform(t,y)', number=1, globals=globals()))\n",
    "    fft.append(timeit.timeit('fast_fourier_transform(t,y)', number=1, globals=globals()))\n",
    "    \n",
    "dft = np.array(dft)\n",
    "fft = np.array(fft)"
   ]
  },
  {
   "cell_type": "markdown",
   "metadata": {},
   "source": [
    "### Try to fit the cuves"
   ]
  },
  {
   "cell_type": "code",
   "execution_count": null,
   "metadata": {},
   "outputs": [],
   "source": [
    "from scipy.optimize import curve_fit\n",
    "\n",
    "def N2(x,*a):\n",
    "    '''N^2'''\n",
    "    return a[0] + a[1]*x**2\n",
    "\n",
    "def NlogN(x,*a):\n",
    "    '''power function.'''\n",
    "    return a[0] + a[1]*x*np.log2(x)\n",
    "\n",
    "# perform the fits\n",
    "a1,a1_cov = curve_fit(N2,N,dft,p0=(1,1))\n",
    "a2,a2_cov = curve_fit(NlogN,N,fft,p0=(1,1))"
   ]
  },
  {
   "cell_type": "markdown",
   "metadata": {},
   "source": [
    "### Plot the results"
   ]
  },
  {
   "cell_type": "code",
   "execution_count": null,
   "metadata": {
    "collapsed": false,
    "jupyter": {
     "outputs_hidden": false
    }
   },
   "outputs": [],
   "source": [
    "# plot the timing results\n",
    "plt.loglog(N,dft,'o', markersize=6, mec='None', mfc=colors[0], label='DFT')\n",
    "plt.loglog(N,fft,'o', markersize=6, mec='None', mfc=colors[-2], label='FFT')\n",
    "\n",
    "# Plot the fits\n",
    "plt.loglog(N,N2(N,*a1),'-', color=colors[0], zorder=0, linewidth=1.5, label=r'$N^2$')\n",
    "plt.loglog(N,NlogN(N,*a2),'-', color=colors[-2], zorder=0, linewidth=1.5, label=r'$N\\log_2N$')\n",
    "\n",
    "plt.xlim(50,20000)\n",
    "plt.legend(loc='upper left')\n",
    "plt.xlabel('N')\n",
    "plt.ylabel('Execution Time [s]')"
   ]
  },
  {
   "cell_type": "markdown",
   "metadata": {},
   "source": [
    "<div class=\"span alert alert-success\">\n",
    "<h2> Group Programming challenge </h2>\n",
    "Revisit the driven dissipative non-linear pendulum and plot the power spectrum for $F_D = 0.5,1.2$.  What does this tell you about the onset/origin of chaos?\n",
    "</div>"
   ]
  },
  {
   "cell_type": "code",
   "execution_count": null,
   "metadata": {},
   "outputs": [],
   "source": [
    "from scipy.constants import g\n",
    "from scipy.constants import pi as π\n",
    "def euler(t,FD,ℓ,θₒ,ωₒ,γ,ΩD):\n",
    "    ''' Semi-implicit Euler Method for the non-linear, dissipative, driven pendulum.'''\n",
    "    \n",
    "    Δt = t[1]-t[0]\n",
    "    ω,θ = np.zeros_like(t),np.zeros_like(t)\n",
    "    θ[0],ω[0] = θₒ,ωₒ\n",
    "    \n",
    "    # perform the numerical integration\n",
    "    for n in range(t.size-1):\n",
    "        ω[n+1] = ω[n] + (-(g/ℓ)*np.sin(θ[n]) - γ*ω[n] + FD*np.sin(ΩD*t[n]))*Δt\n",
    "        θ[n+1] = θ[n] + ω[n+1]*Δt\n",
    "        \n",
    "        # keep theta in [-pi,pi)\n",
    "        if θ[n+1] < -π: θ[n+1] += 2.0*π\n",
    "        if θ[n+1] >= π: θ[n+1] -= 2.0*π \n",
    "\n",
    "    return θ"
   ]
  },
  {
   "cell_type": "markdown",
   "metadata": {},
   "source": [
    "### Setup initial conditions"
   ]
  },
  {
   "cell_type": "code",
   "execution_count": null,
   "metadata": {},
   "outputs": [],
   "source": [
    "params = ℓ,θ0,ω0,γ,ΩD = g, 0.2, 0.0, 0.5, 2.0/3.0\n",
    "FD = [0.5,1.2]\n",
    "Δt = 0.01\n",
    "\n",
    "# We determine the maximum time such that N = 2*n\n",
    "pass\n",
    "\n",
    "# setup the time array\n",
    "t = np.arange(0.0,N*Δt,Δt)"
   ]
  },
  {
   "cell_type": "markdown",
   "metadata": {
    "jupyter": {
     "outputs_hidden": true
    }
   },
   "source": [
    "### Perform a spectral analysis of θ(t) for the different values of driving force defined above"
   ]
  },
  {
   "cell_type": "code",
   "execution_count": null,
   "metadata": {},
   "outputs": [],
   "source": [
    "pass"
   ]
  },
  {
   "cell_type": "code",
   "execution_count": null,
   "metadata": {},
   "outputs": [],
   "source": []
  }
 ],
 "metadata": {
  "kernelspec": {
   "display_name": "Python 3",
   "language": "python",
   "name": "python3"
  },
  "language_info": {
   "codemirror_mode": {
    "name": "ipython",
    "version": 3
   },
   "file_extension": ".py",
   "mimetype": "text/x-python",
   "name": "python",
   "nbconvert_exporter": "python",
   "pygments_lexer": "ipython3",
   "version": "3.7.4"
  }
 },
 "nbformat": 4,
 "nbformat_minor": 4
}
