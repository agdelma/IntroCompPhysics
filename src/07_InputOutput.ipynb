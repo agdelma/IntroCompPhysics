{
 "cells": [
  {
   "cell_type": "markdown",
   "metadata": {},
   "source": [
    "# Physics 256\n",
    "## Lecture 07 - Modules, filesystem & I/O"
   ]
  },
  {
   "cell_type": "markdown",
   "metadata": {},
   "source": [
    "<img src=\"http://upload.wikimedia.org/wikipedia/commons/d/d4/Pi_pie2.jpg\" width=300px>"
   ]
  },
  {
   "cell_type": "markdown",
   "metadata": {},
   "source": [
    "## Last Time\n",
    "\n",
    "- functions\n",
    "- introduction to modules\n",
    "\n",
    "## Today\n",
    "- more modules\n",
    "- working with the filesystem\n",
    "- input and output\n"
   ]
  },
  {
   "cell_type": "markdown",
   "metadata": {},
   "source": [
    "\\begin{equation}\n",
    "\\sin(\\theta) = \\frac{y}{\\sqrt{x^2+y^2}}\n",
    "\\end{equation}"
   ]
  },
  {
   "cell_type": "markdown",
   "metadata": {},
   "source": [
    "### Writing modules\n",
    "\n",
    "Any code or collection of methods we write can be included in a module by writing them in a text editor (i.e. not in the iPython notebook or interpreter) and saving them with a unqiue filename `mymodule.py`.  We can treat these as complete python programs that can be run, or we can import them from other scripts to maximize effeciency and build collections of useful libraries.\n",
    "\n",
    "Modules and scripts can both named `mymodule.py` and both can contain variables, functions/methods and classes.\n",
    "\n",
    "** What's the difference?**\n",
    "\n",
    "* When imported, a module's `__name__` attribute is set to the module's file name, without *.py*.\n",
    "* When executed as a script, the `__name__` attribute is set to `__main__`.\n",
    "* Except for special cases, you shouldn't put any major executable code at the top-level. \n",
    "* Put code in functions, classes, methods, and guard it with if `__name__ == \"__main__\"`."
   ]
  },
  {
   "cell_type": "code",
   "execution_count": null,
   "metadata": {
    "collapsed": false
   },
   "outputs": [],
   "source": [
    "# %load data/mymodule.py\n",
    "'''\n",
    "A python module to exhibit the use of the __main__ name.\n",
    "'''\n",
    "\n",
    "def foo():\n",
    "    ''' A test function. '''\n",
    "    return 1\n",
    "\n",
    "# Main Function\n",
    "def main():\n",
    "    # put all your main program driver code here\n",
    "    print(foo())\n",
    "    \n",
    "# main is called once when the script is executed.    \n",
    "if __name__ == '__main__':\n",
    "    main()\n"
   ]
  },
  {
   "cell_type": "code",
   "execution_count": 3,
   "metadata": {
    "collapsed": false
   },
   "outputs": [
    {
     "data": {
      "text/plain": [
       "1"
      ]
     },
     "execution_count": 3,
     "metadata": {},
     "output_type": "execute_result"
    }
   ],
   "source": [
    "# then from another script (or from the iPython notebook) \n",
    "# we can import the functions defined in this script\n",
    "\n",
    "# we need to tell python where the script lives, via the sys module\n",
    "import sys\n",
    "sys.path.append('data')\n",
    "\n",
    "import mymodule\n",
    "\n",
    "mymodule.foo()"
   ]
  },
  {
   "cell_type": "markdown",
   "metadata": {},
   "source": [
    "## Computing $\\pi$\n",
    "\n",
    "Let's put these ideas into practice by writing a module containing functions that compute the value of $\\pi$ in various ways."
   ]
  },
  {
   "cell_type": "markdown",
   "metadata": {},
   "source": [
    "### Gottfried Wilhelm Leibniz 1646-1716\n",
    "<img src=\"http://upload.wikimedia.org/wikipedia/commons/6/6a/Gottfried_Wilhelm_von_Leibniz.jpg\" width=200px>\n",
    "\n",
    "\\begin{equation}\n",
    "\\pi = 4 \\sum_{n=1}^\\infty \\frac{(-1)^{n+1}}{2n-1}\n",
    "\\end{equation}\n",
    "\n",
    "### Abraham Sharp 1653-1742\n",
    "<img src=\"http://upload.wikimedia.org/wikipedia/commons/4/43/Sharp_Abraham.jpg\" width=200px>\n",
    "\\begin{equation}\n",
    "\\pi = \\sum_{n=0}^\\infty \\frac{2(-1)^{n}3^{1/2-n}}{2n+1}\n",
    "\\end{equation}\n",
    "\n",
    "### Monte Carlo Calculation using `random.random()`\n",
    "<img src=\"http://upload.wikimedia.org/wikipedia/commons/thumb/c/ce/Circle_Area.svg/265px-Circle_Area.svg.png\" width=\"200px\">\n",
    "<img src=\"http://upload.wikimedia.org/wikipedia/commons/8/84/Pi_30K.gif\" width=\"200px\">\n"
   ]
  },
  {
   "cell_type": "code",
   "execution_count": null,
   "metadata": {
    "collapsed": false
   },
   "outputs": [],
   "source": [
    "# %load data/pi.py\n",
    "'''\n",
    "File: pi.py\n",
    "Functions that can be used to approximate pi.\n",
    "'''\n",
    "\n",
    "def leibniz(N):\n",
    "    '''Compute pi via an accelerated Leibniz summation.'''\n",
    "    lpi = 0.0\n",
    "    for n in range(1,N):\n",
    "        if n % 2:\n",
    "            sign = 1\n",
    "        else:\n",
    "            sign = -1\n",
    "        lpi += 1.0*sign/(2*n-1)\n",
    "    return 4.0*lpi\n",
    "\n",
    "def sharp(N):\n",
    "    '''Compute pi via the Sharp summation.'''\n",
    "    spi = 0.0\n",
    "    for n in range(N):\n",
    "        if n % 2:\n",
    "            sign = -1\n",
    "        else:\n",
    "            sign = 1\n",
    "        num = 2*sign*3**(0.5-n)\n",
    "        denom = 2*n+1\n",
    "        spi += num/denom\n",
    "    return spi\n",
    "\n",
    "def monte_carlo(N):\n",
    "    '''Compute pi via Monte Carlo.'''\n",
    "\n",
    "    import random,math\n",
    "    inCircle = 0\n",
    "\n",
    "    for n in range(N):\n",
    "        x = -0.5 + random.random()\n",
    "        y = -0.5 + random.random()\n",
    "        r = math.sqrt(x**2 + y**2)\n",
    "\n",
    "        if r <= 0.5:\n",
    "            inCircle += 1\n",
    "\n",
    "    mcpi = 4.0*inCircle / (1.0*N)\n",
    "    return mcpi\n",
    "\n",
    "# The order of our pi approximations\n",
    "N = 5*10**6\n",
    "\n",
    "# output to the terminal\n",
    "print('Leibniz     π = %16.14f' % leibniz(N))\n",
    "print('Sharp       π = %16.14f' % sharp(N))\n",
    "print('Monte Carlo π = %16.14f' % monte_carlo(N))\n",
    "\n"
   ]
  },
  {
   "cell_type": "code",
   "execution_count": 5,
   "metadata": {
    "collapsed": false
   },
   "outputs": [
    {
     "name": "stdout",
     "output_type": "stream",
     "text": [
      "Leibniz     π = 3.14159285358982\n",
      "Sharp       π = 3.14159265358979\n",
      "Monte Carlo π = 3.14073040000000\n",
      "CPU times: user 9.18 s, sys: 20.2 ms, total: 9.2 s\n",
      "Wall time: 9.23 s\n"
     ]
    }
   ],
   "source": [
    "%time %run data/pi.py"
   ]
  },
  {
   "cell_type": "code",
   "execution_count": 6,
   "metadata": {
    "collapsed": false
   },
   "outputs": [
    {
     "name": "stdout",
     "output_type": "stream",
     "text": [
      "Leibniz     π = 3.14159285358982\n",
      "Sharp       π = 3.14159265358979\n",
      "Monte Carlo π = 3.14081200000000\n",
      "CPU times: user 9.08 s, sys: 19.3 ms, total: 9.1 s\n",
      "Wall time: 9.12 s\n"
     ]
    }
   ],
   "source": [
    "%time import pi"
   ]
  },
  {
   "cell_type": "code",
   "execution_count": 7,
   "metadata": {
    "collapsed": false
   },
   "outputs": [
    {
     "name": "stdout",
     "output_type": "stream",
     "text": [
      "CPU times: user 2.42 ms, sys: 1.98 ms, total: 4.4 ms\n",
      "Wall time: 3.2 ms\n"
     ]
    },
    {
     "data": {
      "text/plain": [
       "<module 'pi' from 'data/pi.py'>"
      ]
     },
     "execution_count": 7,
     "metadata": {},
     "output_type": "execute_result"
    }
   ],
   "source": [
    "import imp\n",
    "%time imp.reload(pi)"
   ]
  },
  {
   "cell_type": "code",
   "execution_count": 8,
   "metadata": {
    "collapsed": false
   },
   "outputs": [
    {
     "name": "stdout",
     "output_type": "stream",
     "text": [
      "pi\n"
     ]
    }
   ],
   "source": [
    "print(pi.__name__)"
   ]
  },
  {
   "cell_type": "markdown",
   "metadata": {},
   "source": [
    "Let's compare the accuracy of our various methods"
   ]
  },
  {
   "cell_type": "code",
   "execution_count": 9,
   "metadata": {
    "collapsed": false
   },
   "outputs": [
    {
     "name": "stdout",
     "output_type": "stream",
     "text": [
      "               N      Leibniz  π        Sharp  π   Monte Carlo π\n",
      "            1000      3.14259365      3.14159265      3.20800000\n",
      "           10000      3.14169266      3.14159265      3.16000000\n",
      "          100000      3.14160265      3.14159265      3.13796000\n",
      "         1000000      3.14159365      3.14159265      3.14435600\n"
     ]
    }
   ],
   "source": [
    "N = [10**n for n in range(3,7)]\n",
    "\n",
    "# Get the Leibniz, Sharp and Monte Carlo approximations to pi\n",
    "π = [(pi.leibniz(cN),pi.sharp(cN),pi.monte_carlo(cN)) for cN in N]\n",
    "\n",
    "# Output the results to the terminal\n",
    "print('%16s%16s%16s%16s' % ('N','Leibniz  π','Sharp  π','Monte Carlo π'))\n",
    "for i,cN in enumerate(N):\n",
    "    print('%16d%16.8f%16.8f%16.8f' % (cN,π[i][0],π[i][1],π[i][2]))"
   ]
  },
  {
   "cell_type": "markdown",
   "metadata": {},
   "source": [
    "## Accessing the Filesytem\n",
    "\n",
    "It can be very useful to use python to work with the filesystem.  This is most conveniently done with the use of two standard library modules:"
   ]
  },
  {
   "cell_type": "code",
   "execution_count": 2,
   "metadata": {
    "collapsed": true
   },
   "outputs": [],
   "source": [
    "import os\n",
    "import shutil"
   ]
  },
  {
   "cell_type": "markdown",
   "metadata": {},
   "source": [
    "### List all files in a directory"
   ]
  },
  {
   "cell_type": "code",
   "execution_count": 12,
   "metadata": {
    "collapsed": false
   },
   "outputs": [
    {
     "name": "stdout",
     "output_type": "stream",
     "text": [
      "__pycache__\n",
      "function.png\n",
      "in.dat\n",
      "leapyear.py\n",
      "lists.png\n",
      "mymodule.py\n",
      "out.dat\n",
      "pi.py\n",
      "primes.py\n",
      "sho_energy.dat\n"
     ]
    }
   ],
   "source": [
    "list_path = '/Users/agdelma/Documents/Phys256/Lectures/Notebooks/data'\n",
    "for f in os.listdir(list_path):\n",
    "    print(f)"
   ]
  },
  {
   "cell_type": "code",
   "execution_count": 14,
   "metadata": {
    "collapsed": false
   },
   "outputs": [
    {
     "name": "stdout",
     "output_type": "stream",
     "text": [
      "function.png\n",
      "in.dat\n",
      "leapyear.py\n",
      "lists.png\n",
      "mymodule.py\n",
      "out.dat\n",
      "pi.py\n",
      "primes.py\n",
      "sho_energy.dat\n"
     ]
    }
   ],
   "source": [
    "# what if we only want the files (and not directories?)\n",
    "for f in os.listdir(list_path):\n",
    "    if os.path.isfile(os.path.join(list_path,f)):\n",
    "        print(f)"
   ]
  },
  {
   "cell_type": "markdown",
   "metadata": {},
   "source": [
    "### Creating a directory"
   ]
  },
  {
   "cell_type": "code",
   "execution_count": 15,
   "metadata": {
    "collapsed": false
   },
   "outputs": [],
   "source": [
    "example_num = 2\n",
    "dir_name = 'examples' + os.path.sep + 'example%02d' % example_num \n",
    "if not os.path.exists(dir_name):\n",
    "    os.makedirs(dir_name)"
   ]
  },
  {
   "cell_type": "markdown",
   "metadata": {},
   "source": [
    "### Copy (or move) files"
   ]
  },
  {
   "cell_type": "code",
   "execution_count": 16,
   "metadata": {
    "collapsed": true
   },
   "outputs": [],
   "source": [
    "for f in os.listdir(list_path):\n",
    "    extension = os.path.splitext(f)[-1]\n",
    "    if extension == '.py':\n",
    "        dest = dir_name + os.path.sep + f\n",
    "        src = list_path + os.path.sep + f\n",
    "        shutil.copy(src,dest)  "
   ]
  },
  {
   "cell_type": "markdown",
   "metadata": {},
   "source": [
    "### Can even create archive files (see the `shutil` help docs)"
   ]
  },
  {
   "cell_type": "code",
   "execution_count": 17,
   "metadata": {
    "collapsed": false
   },
   "outputs": [
    {
     "data": {
      "text/plain": [
       "'/Users/agdelma/Documents/Phys256/Lectures/Notebooks/example_archive.zip'"
      ]
     },
     "execution_count": 17,
     "metadata": {},
     "output_type": "execute_result"
    }
   ],
   "source": [
    "shutil.make_archive('example_archive', 'zip', '.', 'examples')"
   ]
  },
  {
   "cell_type": "markdown",
   "metadata": {},
   "source": [
    "<div class=\"span alert alert-success\">\n",
    "<h2> Team programming challenge </h2> <br />\n",
    "\n",
    "Write a python script that produces the appropriately named .zip archive for your assignment\n",
    "solutions.\n",
    "\n",
    "You will need to:\n",
    "<ul>\n",
    "<li>specify a source directory where your solutions are located</li>\n",
    "<li>specify the assignment number</li>\n",
    "<li>create the target directories: Lastname_I/A0X/</li>\n",
    "<li>copy the solution files into the target directory</li>\n",
    "<li>create the .zip file</li>\n",
    "<li>perform any required clean up </li>\n",
    "</ul>\n",
    "</div>"
   ]
  },
  {
   "cell_type": "code",
   "execution_count": null,
   "metadata": {
    "collapsed": true
   },
   "outputs": [],
   "source": [
    "# %load data/makezip.py\n",
    "''' Make a zipped directory for Physics 256 Assignments.\n",
    "'''\n",
    "\n",
    "import os, shutil\n",
    "\n",
    "\n",
    "def main():\n",
    "\n",
    "    assign_num = 2\n",
    "    solution_path = 'files'\n",
    "    name = 'DelMaestro_A'\n",
    "\n",
    "    # get the list of all files\n",
    "    assign_files  = [f for f in os.listdir(solution_path) if os.path.isfile(os.path.join(solution_path,f)) ]\n",
    "\n",
    "    # test if the assignment directory exists, if not, make it\n",
    "    assign_dir = name + os.path.sep + 'A%02d' % assign_num\n",
    "    if not os.path.exists(assign_dir):\n",
    "        os.makedirs(assign_dir)\n",
    "\n",
    "    # copy them to the assignment directory\n",
    "    for afile in assign_files:\n",
    "        source = solution_path + os.path.sep + afile\n",
    "        dest = assign_dir + os.path.sep + afile\n",
    "        shutil.copy(source,dest)\n",
    "\n",
    "    # make the archive\n",
    "    shutil.make_archive(name + '_A%02d' % assign_num, 'zip', '.', name)\n",
    "\n",
    "if __name__ == '__main__':\n",
    "    main()\n"
   ]
  },
  {
   "cell_type": "markdown",
   "metadata": {},
   "source": [
    "### Expanding home directory shortcut\n"
   ]
  },
  {
   "cell_type": "code",
   "execution_count": 6,
   "metadata": {
    "collapsed": false
   },
   "outputs": [
    {
     "name": "stdout",
     "output_type": "stream",
     "text": [
      "/Users/agdelma/Documents\n"
     ]
    }
   ],
   "source": [
    "print(os.path.expanduser('~/Documents'))"
   ]
  },
  {
   "cell_type": "markdown",
   "metadata": {},
   "source": [
    "## Input & Output\n",
    "\n",
    "So far, we have mostly been setting the values of variables used in our programs by hand and writing things to the terminal with the `print()` function.  We can use python to easily get data from a user, either form the command line, or from a file, and save our program output to a well-formatted file."
   ]
  },
  {
   "cell_type": "code",
   "execution_count": 7,
   "metadata": {
    "collapsed": false
   },
   "outputs": [
    {
     "name": "stdout",
     "output_type": "stream",
     "text": [
      "Number of elements: 10\n",
      "10\n"
     ]
    }
   ],
   "source": [
    "# asking the user for input\n",
    "N = input(\"Number of elements: \")\n",
    "print(N)"
   ]
  },
  {
   "cell_type": "code",
   "execution_count": 8,
   "metadata": {
    "collapsed": false
   },
   "outputs": [
    {
     "name": "stdout",
     "output_type": "stream",
     "text": [
      "<class 'str'>\n"
     ]
    }
   ],
   "source": [
    "# all input is treating like a string\n",
    "print(type(N))"
   ]
  },
  {
   "cell_type": "code",
   "execution_count": 9,
   "metadata": {
    "collapsed": false
   },
   "outputs": [
    {
     "name": "stdout",
     "output_type": "stream",
     "text": [
      "10\n",
      "10.0\n",
      "enter a float: 123.124\n",
      "<class 'float'>\n"
     ]
    }
   ],
   "source": [
    "# we must manually convert if we need numerical data\n",
    "Ni = int(N)\n",
    "print(Ni)\n",
    "\n",
    "Nf = float(N)\n",
    "print(Nf)\n",
    "\n",
    "N = float(input(\"enter a float: \"))\n",
    "print(type(N))"
   ]
  },
  {
   "cell_type": "markdown",
   "metadata": {},
   "source": [
    "### Working with files\n",
    "We can use the keyword `open` to open a file, but we must specify the mode, either `r` for read, `w` for write `r+` for read/write and `a` for append"
   ]
  },
  {
   "cell_type": "code",
   "execution_count": 10,
   "metadata": {
    "collapsed": false
   },
   "outputs": [
    {
     "name": "stdout",
     "output_type": "stream",
     "text": [
      "1\n",
      "2\n",
      "3\n",
      "4\n",
      "5\n",
      "6\n",
      "7\n",
      "8\n",
      "9\n",
      "10\n"
     ]
    }
   ],
   "source": [
    "!cat 'data/in.dat'"
   ]
  },
  {
   "cell_type": "code",
   "execution_count": 11,
   "metadata": {
    "collapsed": false
   },
   "outputs": [],
   "source": [
    "in_file = open('data/in.dat', 'r')"
   ]
  },
  {
   "cell_type": "code",
   "execution_count": 12,
   "metadata": {
    "collapsed": false
   },
   "outputs": [
    {
     "name": "stdout",
     "output_type": "stream",
     "text": [
      "1\n",
      "2\n",
      "3\n",
      "4\n",
      "5\n",
      "6\n",
      "7\n",
      "8\n",
      "9\n",
      "10\n",
      "\n"
     ]
    }
   ],
   "source": [
    "# reading an entire file\n",
    "print(in_file.read())\n",
    "\n",
    "# we close when we are finished\n",
    "in_file.close()"
   ]
  },
  {
   "cell_type": "code",
   "execution_count": 13,
   "metadata": {
    "collapsed": false
   },
   "outputs": [
    {
     "name": "stdout",
     "output_type": "stream",
     "text": [
      "1\n",
      "2\n",
      "3\n",
      "4\n",
      "5\n",
      "6\n",
      "7\n",
      "8\n",
      "9\n",
      "10\n",
      "\n",
      "True\n"
     ]
    }
   ],
   "source": [
    "# alternatively, we can open a file within a context\n",
    "with open('data/in.dat', 'r') as f:\n",
    "    read_data = f.read()\n",
    "    print(read_data)\n",
    "    \n",
    "# the file is automatically closed when we leave the with context\n",
    "print(f.closed)"
   ]
  },
  {
   "cell_type": "code",
   "execution_count": 14,
   "metadata": {
    "collapsed": false
   },
   "outputs": [
    {
     "name": "stdout",
     "output_type": "stream",
     "text": [
      "['1\\n', '2\\n', '3\\n', '4\\n', '5\\n', '6\\n', '7\\n', '8\\n', '9\\n', '10\\n']\n"
     ]
    }
   ],
   "source": [
    "# we can get a list of all lines\n",
    "with open('data/in.dat', 'r') as in_file:\n",
    "    lines = in_file.readlines()\n",
    "\n",
    "print(lines)"
   ]
  },
  {
   "cell_type": "markdown",
   "metadata": {},
   "source": [
    "<div class=\"span alert alert-danger\">\n",
    "Note that the newline characters are included!\n",
    "</div>"
   ]
  },
  {
   "cell_type": "code",
   "execution_count": 15,
   "metadata": {
    "collapsed": false
   },
   "outputs": [
    {
     "name": "stdout",
     "output_type": "stream",
     "text": [
      "1\n",
      "\n"
     ]
    }
   ],
   "source": [
    "# or just a single line\n",
    "with open('data/in.dat', 'r') as in_file:\n",
    "    line = in_file.readline()\n",
    "print(line)"
   ]
  },
  {
   "cell_type": "code",
   "execution_count": 19,
   "metadata": {
    "collapsed": false
   },
   "outputs": [
    {
     "name": "stdout",
     "output_type": "stream",
     "text": [
      "1 2 3 4 5 6 7 8 9 10 "
     ]
    }
   ],
   "source": [
    "# let's iterate through all the lines in the file\n",
    "in_file = open('data/in.dat', 'r')\n",
    "lines = in_file.readlines()\n",
    "in_file.close()\n",
    "for line in lines:\n",
    "    print (line.rstrip('\\n'), end=' ')"
   ]
  },
  {
   "cell_type": "markdown",
   "metadata": {},
   "source": [
    "### Writing to files"
   ]
  },
  {
   "cell_type": "code",
   "execution_count": 20,
   "metadata": {
    "collapsed": false
   },
   "outputs": [],
   "source": [
    "# specifiying 'w' will create a file if it doesn't exist and replace the content if it does\n",
    "out_file = open('data/out.dat', 'w')"
   ]
  },
  {
   "cell_type": "code",
   "execution_count": 21,
   "metadata": {
    "collapsed": false
   },
   "outputs": [],
   "source": [
    "# we can only write strings to files, so we must convert on input and output\n",
    "for line in lines:\n",
    "    a = int(line)\n",
    "    b = a**2\n",
    "    out_file.write('%d\\n' % b)\n",
    "out_file.close()   "
   ]
  },
  {
   "cell_type": "code",
   "execution_count": 22,
   "metadata": {
    "collapsed": false
   },
   "outputs": [
    {
     "name": "stdout",
     "output_type": "stream",
     "text": [
      "1\n",
      "4\n",
      "9\n",
      "16\n",
      "25\n",
      "36\n",
      "49\n",
      "64\n",
      "81\n",
      "100\n"
     ]
    }
   ],
   "source": [
    "!cat data/out.dat"
   ]
  },
  {
   "cell_type": "markdown",
   "metadata": {},
   "source": [
    "### Output formatting\n",
    "\n",
    "Python supports various ways of formatting i/o. We have already seen the c-style `%` method which is my preferred method. There is a new-fangled way which is more flexible and\n",
    "powerful,see: http://docs.python.org/tutorial/inputoutput.html use whichever you like for assignments.\n",
    "\n",
    "A fully descriptive list of all formatting options can be found at https://docs.python.org/3/library/stdtypes.html#string-formatting"
   ]
  },
  {
   "cell_type": "markdown",
   "metadata": {},
   "source": [
    "<div class=\"span alert alert-success\">\n",
    "<h2> Team programming challenge </h2>\n",
    "<h3> Average energy for the simple harmonic oscillator at finite temperature</h3>\n",
    "</div>\n",
    "\n",
    "I have uploaded a data file on BlackBoard  called `sho_energy.dat`.  The line contains column headings with units in kelvin.\n",
    "\n",
    "The next set of lines contain quantum Monte Carlo measurements for the kinetic and potential energy of the simple harmonic osscilator at $T = 0.5~\\mathrm{K}$ where $\\hbar \\omega/k_{\\mathrm{B}} = 1$.  The exact answer is known to be:\n",
    "\\begin{equation}\n",
    "E(T) = \\frac{\\hbar \\omega}{2} \\coth \\frac{\\hbar \\omega}{2 k_{\\mathrm{B}} T}.\n",
    "\\end{equation}\n",
    "\n",
    "Download the data file to your computer and write a program that loads the file from disk and stores it in a dictionary with labels taken from the column headers.  Compute the average total energy of all lines.  If you have extra time, compare with the exact result."
   ]
  },
  {
   "cell_type": "code",
   "execution_count": 23,
   "metadata": {
    "collapsed": false
   },
   "outputs": [
    {
     "name": "stdout",
     "output_type": "stream",
     "text": [
      "#         Kinetic       Potential \n",
      "   6.22407909E-01  3.77134851E-01  \n",
      "   4.29547101E-01  2.42379252E-01  \n",
      "   2.37001671E-01  2.67495403E-01  \n",
      "   3.01818649E-01  2.58392255E-01  \n",
      "   4.09565316E-01  3.15222495E-01  \n",
      "   2.14317707E-01  4.51218376E-01  \n",
      "   4.18641845E-01  2.89516631E-01  \n",
      "   3.66230261E-01  2.80669596E-01  \n",
      "   2.39985912E-01  3.49197015E-01  \n",
      "   4.08868551E-01  2.73554341E-01  \n",
      "   4.29891894E-01  2.28270437E-01  \n",
      "   1.76880098E-01  3.74807008E-01  \n",
      "   4.50146777E-01  2.60430892E-01  \n",
      "   2.94294733E-01  3.82058897E-01  \n",
      "   4.52161080E-01  2.44881829E-01  \n",
      "   3.44609451E-01  3.31618376E-01  \n",
      "   4.01977123E-01  2.86437236E-01  \n",
      "   1.95875270E-01  3.09855155E-01  \n",
      "   4.07812408E-01  3.67230198E-01  \n",
      "   2.81732855E-01  3.38656673E-01  \n",
      "   3.49238393E-01  2.34915354E-01  \n",
      "   7.58970450E-02  3.47864555E-01  \n",
      "   2.35324623E-01  2.41883096E-01  \n",
      "   4.14538771E-01  4.14814837E-01  \n",
      "   3.56186180E-01  2.82852947E-01  \n",
      "   3.08263779E-01  2.61148485E-01  \n",
      "   3.51531602E-01  3.84750836E-01  \n",
      "   4.13973099E-01  3.53702293E-01  \n",
      "   3.92675219E-01  2.93938978E-01  \n",
      "   3.77202537E-01  4.25175485E-01  \n",
      "   3.91846384E-02  2.84571148E-01  \n",
      "   3.13953529E-01  2.54153321E-01  \n",
      "   2.28571815E-01  2.92566869E-01  \n",
      "   2.74552363E-01  2.89681106E-01  \n",
      "   3.64345023E-01  3.22662317E-01  \n",
      "   3.89081119E-01  3.38496063E-01  \n",
      "   3.77922421E-01  3.09245215E-01  \n",
      "   5.17570876E-01  3.25877265E-01  \n",
      "   3.42106263E-01  4.10930330E-01  \n",
      "   2.55002349E-01  2.98024797E-01  \n",
      "   2.73946972E-01  3.60943726E-01  \n",
      "   4.73668443E-01  2.82561209E-01  \n",
      "   2.15570473E-01  2.87773625E-01  \n",
      "   2.91227918E-01  2.97038660E-01  \n",
      "   4.92027933E-01  2.31306192E-01  \n",
      "   4.51321203E-01  3.22497257E-01  \n",
      "   3.80368393E-01  3.18374448E-01  \n",
      "   2.83040980E-01  3.94547678E-01  \n",
      "   1.91338598E-01  3.24232481E-01  \n",
      "   3.83124905E-01  3.48084719E-01  \n",
      "   7.03530693E-01  2.92183381E-01  \n",
      "   2.88021063E-01  2.59222498E-01  \n",
      "   4.01169774E-01  3.28670954E-01  \n",
      "   3.48408046E-01  2.46565661E-01  \n",
      "   2.36968115E-01  4.54009582E-01  \n",
      "   3.47970254E-01  3.05955359E-01  \n",
      "   2.49724515E-01  3.19558030E-01  \n",
      "   3.34760811E-01  4.06845566E-01  \n",
      "   3.24031817E-01  3.07531962E-01  \n",
      "   3.65594753E-01  3.89643864E-01  \n",
      "   3.88699997E-01  4.36493534E-01  \n",
      "   3.29836468E-01  2.58774211E-01  \n",
      "   3.23400860E-01  3.78085173E-01  \n",
      "   4.63049001E-01  3.07513186E-01  \n",
      "   4.44633551E-01  3.66748225E-01  \n",
      "   3.39814276E-01  2.40358766E-01  \n",
      "   3.14019128E-01  4.29008452E-01  \n",
      "   3.89176739E-01  3.35800721E-01  \n",
      "   4.81341340E-01  3.39699264E-01  \n",
      "   3.15593205E-01  3.65387024E-01  \n",
      "   4.76383731E-01  4.20763294E-01  \n",
      "   2.69194023E-01  2.44221724E-01  \n",
      "   4.42198677E-01  2.70598324E-01  \n",
      "   3.45566563E-01  2.84435538E-01  \n",
      "   2.70550257E-01  2.47907442E-01  \n",
      "   3.81645592E-01  3.36414677E-01  \n",
      "   3.39137567E-01  3.63777691E-01  \n",
      "   3.09287864E-01  4.29483297E-01  \n",
      "   3.23417573E-01  4.01822556E-01  \n",
      "   5.26935059E-01  3.13494948E-01  \n",
      "   2.64787335E-01  2.31303281E-01  \n",
      "   4.20643867E-01  2.84629321E-01  \n",
      "   3.13134670E-01  3.30908498E-01  \n",
      "   2.98123445E-01  3.02906045E-01  \n",
      "   4.32025154E-01  3.58888404E-01  \n",
      "   2.66027526E-01  3.59500162E-01  \n",
      "   3.39630196E-01  4.07672065E-01  \n",
      "   1.74118580E-01  2.91727021E-01  \n",
      "   3.88839520E-01  2.94189326E-01  \n",
      "   2.81309277E-01  3.02944548E-01  \n",
      "   1.81360485E-01  3.23353421E-01  \n",
      "   5.22785861E-01  4.28154275E-01  \n",
      "   4.90592941E-01  2.95281401E-01  \n",
      "   3.28699565E-01  3.69066102E-01  \n",
      "   2.79856415E-01  2.67487067E-01  \n",
      "   2.58883053E-01  3.36661227E-01  \n",
      "   2.64961515E-01  3.03649091E-01  \n",
      "   3.05785016E-01  3.53010333E-01  \n",
      "   2.96897274E-01  2.75480925E-01  \n",
      "   3.47161034E-01  3.11490141E-01  \n"
     ]
    }
   ],
   "source": [
    "!cat data/sho_energy.dat"
   ]
  }
 ],
 "metadata": {
  "kernelspec": {
   "display_name": "Python 3",
   "language": "python",
   "name": "python3"
  },
  "language_info": {
   "codemirror_mode": {
    "name": "ipython",
    "version": 3
   },
   "file_extension": ".py",
   "mimetype": "text/x-python",
   "name": "python",
   "nbconvert_exporter": "python",
   "pygments_lexer": "ipython3",
   "version": "3.5.5"
  }
 },
 "nbformat": 4,
 "nbformat_minor": 2
}
