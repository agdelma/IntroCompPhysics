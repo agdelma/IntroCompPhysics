{
 "cells": [
  {
   "cell_type": "markdown",
   "metadata": {},
   "source": [
    "# Lecture Challenges"
   ]
  },
  {
   "cell_type": "markdown",
   "metadata": {},
   "source": [
    "## 1. Generate a sequence of N Fibonacci numbers\n",
    "The Fibonacci numbers are the numbers in the following integer sequence, called the Fibonacci sequence, and characterized by the fact that every number in it is the sum of the two preceding ones:\n",
    "\n",
    "`0, 1, 1, 2, 3, 5, 8, 13, 21, 34, 55, 89, 144, ...`\n",
    "\n",
    "https://en.wikipedia.org/wiki/Fibonacci_number\n",
    "\n",
    "<img src=\"https://upload.wikimedia.org/wikipedia/commons/d/db/34%2A21-FibonacciBlocks.png\" width=200px>"
   ]
  },
  {
   "cell_type": "markdown",
   "metadata": {},
   "source": [
    "## 2. Write a program to determine if two integers are coprime\n",
    "\n",
    "Two numbers are co-prime if they have no common factors\n",
    "\n",
    "<img src=\"https://upload.wikimedia.org/wikipedia/commons/thumb/2/26/Coprime8.svg/500px-Coprime8.svg.png\" width=200px>\n",
    "\n",
    "## 3. Write a program to explore the Collatz conjecture\n",
    "\n",
    "* https://www.youtube.com/watch?v=5mFpVDpKX70\n",
    "* https://en.wikipedia.org/wiki/Collatz_conjecture#Statement_of_the_problem"
   ]
  },
  {
   "cell_type": "markdown",
   "metadata": {},
   "source": [
    "## 4. Build Pascal's triangle and output the formatted triangle to the terminal\n",
    "Pascal's triangle starts with a single 1 at the top, then each row after that is built from the previous one, where the first and last number on the row are the first and last number of the previous row, and each number in-between is the sum of the two numbers to the left and righ on the previous row. The n<sup>th</sup> row has n numbers on it. It looks like this:\n",
    "\n",
    "<code>\n",
    "    1\n",
    "   1 1\n",
    "  1 2 1\n",
    " 1 3 3 1\n",
    "1 4 6 4 1\n",
    "...\n",
    "</code>"
   ]
  },
  {
   "cell_type": "markdown",
   "metadata": {},
   "source": [
    "## 5. Solve the 8 Queen's Problem\n",
    "How can you place eight chess queens on an 8×8 chessboard so that no two queens threaten each other?\n",
    "\n",
    "eg. \n",
    "<img src=\"https://rosettacode.org/mw/images/b/bd/N_queens_problem.png\" width=200px>"
   ]
  },
  {
   "cell_type": "markdown",
   "metadata": {},
   "source": [
    "For visualization of the board, check out http://matplotlib.org/examples/pylab_examples/matshow.html"
   ]
  },
  {
   "cell_type": "markdown",
   "metadata": {},
   "source": [
    "## 6. English number words\n",
    "\n",
    "On financial documents (like cheques) sometimes it is required to write out numbers in full words, i.e. **175 = one hundred and seventy five**.  Write a program that takes a non-negative integer from the command line and outputs the result in words with propper formatting."
   ]
  },
  {
   "cell_type": "markdown",
   "metadata": {},
   "source": [
    "## 7. The Knapsack Problem\n",
    "<img src=\"http://upload.wikimedia.org/wikipedia/commons/thumb/f/fd/Knapsack.svg/1182px-Knapsack.svg.png\" width=400px>\n",
    "\n",
    "\n",
    "There is a knapsack of capacity $c>0$ and $N$ items.  Each item has a value $v_i > 0$ and a weight $w_i>0$.  Find the slection of items ($\\delta_i = 1$ if selected and $\\delta_i=0$ if not) that fit with the total value maximized:\n",
    "\\begin{align}\n",
    "c &\\ge \\sum_{i=1}^N \\delta_i w_i  \\\\\n",
    "V &= \\max_{\\delta} \\left [ \\sum_{i=1}^N \\delta_i v_i\\right]\n",
    "\\end{align}"
   ]
  },
  {
   "cell_type": "code",
   "execution_count": null,
   "metadata": {
    "collapsed": false
   },
   "outputs": [],
   "source": []
  }
 ],
 "metadata": {
  "kernelspec": {
   "display_name": "Python 3",
   "language": "python",
   "name": "python3"
  },
  "language_info": {
   "codemirror_mode": {
    "name": "ipython",
    "version": 3
   },
   "file_extension": ".py",
   "mimetype": "text/x-python",
   "name": "python",
   "nbconvert_exporter": "python",
   "pygments_lexer": "ipython3",
   "version": "3.4.5"
  }
 },
 "nbformat": 4,
 "nbformat_minor": 0
}
