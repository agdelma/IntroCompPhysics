{
 "cells": [
  {
   "cell_type": "markdown",
   "metadata": {},
   "source": [
    "# Physics 256\n",
    "## Physics of Baseball"
   ]
  },
  {
   "cell_type": "markdown",
   "metadata": {},
   "source": [
    "<img src=\"https://upload.wikimedia.org/wikipedia/commons/0/01/Fenway_from_Legend%27s_Box.jpg\" width=600px>"
   ]
  },
  {
   "cell_type": "code",
   "execution_count": null,
   "metadata": {},
   "outputs": [],
   "source": [
    "import style\n",
    "style._set_css_style('../include/bootstrap.css')"
   ]
  },
  {
   "cell_type": "markdown",
   "metadata": {},
   "source": [
    "## Last Time\n",
    "\n",
    "### [Notebook Link: 14_ProjectileMotion.ipynb](./14_ProjectileMotion.ipynb)\n",
    "\n",
    "\n",
    "- projectile motion for a cannon shell with air resistance\n",
    "- building a simple targetting algorithm\n",
    "\n",
    "## Today\n",
    "\n",
    "- 3D motion of a pitched baseball"
   ]
  },
  {
   "cell_type": "markdown",
   "metadata": {},
   "source": [
    "## Setting up the Notebook"
   ]
  },
  {
   "cell_type": "code",
   "execution_count": null,
   "metadata": {
    "collapsed": false,
    "jupyter": {
     "outputs_hidden": false
    }
   },
   "outputs": [],
   "source": [
    "import matplotlib.pyplot as plt\n",
    "import numpy as np\n",
    "%matplotlib inline\n",
    "plt.style.use('../include/notebook.mplstyle');\n",
    "%config InlineBackend.figure_format = 'svg'"
   ]
  },
  {
   "cell_type": "markdown",
   "metadata": {},
   "source": [
    "## Converting Units"
   ]
  },
  {
   "cell_type": "code",
   "execution_count": null,
   "metadata": {
    "collapsed": false,
    "jupyter": {
     "outputs_hidden": false
    }
   },
   "outputs": [],
   "source": [
    "import scipy.constants as constants\n",
    "def convert(value,unit1,unit2):\n",
    "    '''Convert value in unit1 to unit2'''\n",
    "        \n",
    "    # the converter\n",
    "    conv = {'ft->m':constants.foot,'in->m':constants.inch,'mph->m/s':constants.mph}\n",
    "\n",
    "    # make a copy and perform reverse conversions\n",
    "    cpy_conv = dict(conv)\n",
    "    for key, val in cpy_conv.items():\n",
    "        units = key.split('->')\n",
    "        conv[units[-1]+'->'+units[0]] = 1.0/val\n",
    "        \n",
    "    # perform the conversion\n",
    "    key = '%s->%s'%(unit1,unit2)\n",
    "    if key in conv:\n",
    "        return value*conv[key]\n",
    "    else:\n",
    "        print('Unit conversion %s not possible.' %key)"
   ]
  },
  {
   "cell_type": "markdown",
   "metadata": {},
   "source": [
    "## Drag Coefficient of a Baseball\n",
    "\n",
    "The empirical form (from wind-tunnel and simulation measurements) is given by:\n",
    "\n",
    "\\begin{equation}\n",
    "\\frac{C\\rho A}{m} \\equiv \\frac{B_2}{m} = 0.0039 + \\frac{0.0058}{1+\\exp{[(v-v_d)/\\Delta}]}\n",
    "\\end{equation}\n",
    "\n",
    "where $v_c \\simeq 35~{\\rm m/s}$ and $\\Delta \\simeq 5~{\\rm m/s}$."
   ]
  },
  {
   "cell_type": "code",
   "execution_count": null,
   "metadata": {},
   "outputs": [],
   "source": [
    "def B2om(v):\n",
    "    '''The drag Coefficient of a baseball.\n",
    "       v in m/s\n",
    "    '''\n",
    "    vd = 35.0 # m/s\n",
    "    Δ = 5.0 # m/s\n",
    "    return 0.0039 + 0.0058/(1.0 + np.exp((v-vd)/Δ))"
   ]
  },
  {
   "cell_type": "code",
   "execution_count": null,
   "metadata": {
    "collapsed": false,
    "jupyter": {
     "outputs_hidden": false
    }
   },
   "outputs": [],
   "source": [
    "v = np.linspace(0,200,1000)\n",
    "plt.plot(v,B2om(convert(v,'mph','m/s'))*convert(1.0,'m','ft'))\n",
    "plt.xlabel('Ball Speed [mph]')\n",
    "plt.ylabel('Drag Coefficient [1/ft]')"
   ]
  },
  {
   "cell_type": "markdown",
   "metadata": {},
   "source": [
    "## Equation of Motion for a Spinning Baseball\n",
    "\n",
    "Taking our coordinate system origin at the pitching rubber with $x$ pointing towards home plate, $y$ pointing up and $z$ towards third base, the total force on a spinning ball is given by:\n",
    "\n",
    "\\begin{equation}\n",
    "\\vec{F} = \\vec{F}_{\\rm g} + \\vec{F}_{\\rm drag} + \\vec{F}_{\\rm magnus}.\n",
    "\\end{equation}\n",
    "\n",
    "where the Magnus force is:\n",
    "\n",
    "\\begin{equation}\n",
    "\\vec{F}_{\\rm magnus} = S_0 \\vec{\\omega} \\times \\vec{v}\n",
    "\\end{equation}\n",
    "\n",
    "with the direction of $\\vec{\\omega}$ determined by the right-hand-rule and $S_0$ is related to the solid angular average of the drage coefficient $C$.\n",
    "\n",
    "This can be decomposed into the following 3D equation of motion:\n",
    "\\begin{align}\n",
    "\\frac{d v_x}{dt} &= -\\frac{B_2}{m} v v_x \\\\\n",
    "\\frac{d v_y}{dt} &= -g \\\\\n",
    "\\frac{d v_z}{dt} &= - \\frac{S_0}{m} \\omega v_x\n",
    "\\end{align}\n",
    "\n",
    "which can be iterated using the Euler method to find the trajectory of the ball."
   ]
  },
  {
   "cell_type": "code",
   "execution_count": null,
   "metadata": {
    "collapsed": false,
    "jupyter": {
     "outputs_hidden": false
    }
   },
   "outputs": [],
   "source": [
    "from scipy.constants import g,pi\n",
    "π = pi\n",
    "\n",
    "# the time step\n",
    "Δt = 0.001 # s\n",
    "\n",
    "# the dimensionless angular drag factor\n",
    "S0om = 4.1E-4\n",
    "\n",
    "# the angular velocity\n",
    "ω = 1900 * 2*π / 60 # rad/s\n",
    "\n",
    "# initial conditions (convert everything to SI)\n",
    "vx,vy,vz = convert(100,'mph','m/s'),0.0,0.0\n",
    "r = [[0.0,convert(6.0+10.0/12.0,'ft','m'),0.0]]\n",
    "print(r[-1][0])\n",
    "while r[-1][0] <= convert(60.5,'ft','m'):\n",
    "    v = np.sqrt(vx**2 + vy**2 + vz**2)\n",
    "    vx -= B2om(v)*v*vx*Δt\n",
    "    vy -= g*Δt\n",
    "    vz -= S0om*vx*ω*Δt\n",
    "    r.append([r[-1][0]+vx*Δt,r[-1][1]+vy*Δt,r[-1][2]+vz*Δt])\n",
    "\n",
    "# convert the result to feet\n",
    "r = np.array(r)\n",
    "r = convert(r,'m','ft')\n",
    "\n",
    "# Plot the resulting trajectory\n",
    "fig, ax = plt.subplots(2, sharex=True)\n",
    "fig.subplots_adjust(hspace=0.1)\n",
    "\n",
    "# the x-y plane\n",
    "ax[0].plot(r[:,0],r[:,1])\n",
    "ax[0].set_ylabel('y [ft]')\n",
    "\n",
    "# the y-z plane\n",
    "ax[1].plot(r[:,0],r[:,2])\n",
    "ax[1].set_ylabel('z [ft]')\n",
    "ax[1].set_xlabel('x [ft]')\n",
    "ax[1].set_xlim(0,60.5);"
   ]
  },
  {
   "cell_type": "markdown",
   "metadata": {},
   "source": [
    "### Looking in 3D"
   ]
  },
  {
   "cell_type": "code",
   "execution_count": null,
   "metadata": {},
   "outputs": [],
   "source": [
    "import matplotlib as mpl\n",
    "from mpl_toolkits.mplot3d import Axes3D\n",
    "\n",
    "fig = plt.figure(figsize=(15,6))\n",
    "ax = fig.add_subplot(111, projection='3d')\n",
    "ax.plot(r[:,0], r[:,2], r[:,1], linewidth=3)\n",
    "ax.dist = 12\n",
    "\n",
    "ax.set_xlabel('x [ft]')\n",
    "ax.set_ylabel('z [ft]')\n",
    "ax.set_zlabel('y [ft]')\n",
    "ax.set_zlim3d(0,7)\n",
    "ax.set_xlim3d(0,60.5)\n",
    "\n",
    "ax.xaxis.labelpad=30\n",
    "ax.yaxis.labelpad=30\n",
    "ax.zaxis.labelpad=15\n",
    "\n",
    "#ax.view_init(0, -90)"
   ]
  },
  {
   "cell_type": "markdown",
   "metadata": {},
   "source": [
    "## The Knuckleball"
   ]
  },
  {
   "cell_type": "code",
   "execution_count": null,
   "metadata": {},
   "outputs": [],
   "source": [
    "def Fknuck(θ):\n",
    "    '''The lateral acceleration on a knucleball in m/s^2'''\n",
    "    from scipy.constants import g\n",
    "    Fom = 0.5*g*(np.sin(4.0*θ) - 0.25*np.sin(8.0*θ) + \\\n",
    "                0.08*np.sin(12.0*θ) - 0.025*np.sin(16.0*θ))\n",
    "    return Fom"
   ]
  },
  {
   "cell_type": "code",
   "execution_count": null,
   "metadata": {
    "collapsed": false,
    "jupyter": {
     "outputs_hidden": false
    }
   },
   "outputs": [],
   "source": [
    "θ = np.linspace(0,2*π,1000)\n",
    "plt.plot(θ,Fknuck(θ))\n",
    "plt.xlim(0,2*π);\n",
    "plt.xlabel('θ [rad]')\n",
    "plt.ylabel(r'$F/m\\ [{\\rm m/s^2}]$')"
   ]
  },
  {
   "cell_type": "code",
   "execution_count": null,
   "metadata": {},
   "outputs": [],
   "source": []
  }
 ],
 "metadata": {
  "kernelspec": {
   "display_name": "Python 3",
   "language": "python",
   "name": "python3"
  },
  "language_info": {
   "codemirror_mode": {
    "name": "ipython",
    "version": 3
   },
   "file_extension": ".py",
   "mimetype": "text/x-python",
   "name": "python",
   "nbconvert_exporter": "python",
   "pygments_lexer": "ipython3",
   "version": "3.7.4"
  }
 },
 "nbformat": 4,
 "nbformat_minor": 4
}
