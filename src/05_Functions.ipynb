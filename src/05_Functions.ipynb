{
 "cells": [
  {
   "cell_type": "markdown",
   "metadata": {},
   "source": [
    "# Physics 256\n",
    "## Lecture 05 - Functions"
   ]
  },
  {
   "cell_type": "markdown",
   "metadata": {},
   "source": [
    "<img src=\"http://imgs.xkcd.com/comics/functional.png\" width=300px>\n",
    "http://xkcd.com/1270/"
   ]
  },
  {
   "cell_type": "markdown",
   "metadata": {},
   "source": [
    "## Last Time\n",
    "\n",
    "- Dictionaries\n",
    "- Tuples\n",
    "- Control structures\n",
    "- Repitition\n",
    "\n",
    "## Today\n",
    "- list comprehensions\n",
    "- functions\n",
    "- modules\n"
   ]
  },
  {
   "cell_type": "markdown",
   "metadata": {},
   "source": [
    "## Warm up question\n",
    "\n",
    "<div class=\"row\">\n",
    "<div class=\"span4 alert alert-info\">\n",
    "What is the value of result after the loop terminates?\n",
    "<code>\n",
    "result,item = 0,0\n",
    "while item < 4:\n",
    "    item += 1\n",
    "    result += item\n",
    "    if result > 3: break \n",
    "</code>\n",
    "<ol class='a'>\n",
    "<li> 4 </li>\n",
    "<li>5</li>\n",
    "<li>6</li>\n",
    "<li>7</li>\n",
    "</ol>\n",
    "</div>\n",
    "</div>"
   ]
  },
  {
   "cell_type": "code",
   "execution_count": 4,
   "metadata": {
    "collapsed": false
   },
   "outputs": [
    {
     "name": "stdout",
     "output_type": "stream",
     "text": [
      "6\n"
     ]
    }
   ],
   "source": [
    "result,item = 0,0\n",
    "while item < 4:\n",
    "    item += 1\n",
    "    result += item\n",
    "    if result > 3: break \n",
    "\n",
    "print(result)"
   ]
  },
  {
   "cell_type": "markdown",
   "metadata": {},
   "source": [
    "### For loops\n",
    "\n",
    "Last time we discussed how `for` loops are perfect for iterating through lists"
   ]
  },
  {
   "cell_type": "code",
   "execution_count": 5,
   "metadata": {
    "collapsed": false
   },
   "outputs": [
    {
     "name": "stdout",
     "output_type": "stream",
     "text": [
      "grade:  98\n",
      "grade:  67\n",
      "grade:  88\n",
      "grade:  79\n",
      "grade:  90\n"
     ]
    }
   ],
   "source": [
    "grades = [98,67,88,79,90]\n",
    "for grade in grades:\n",
    "    print('grade: ',grade)"
   ]
  },
  {
   "cell_type": "markdown",
   "metadata": {},
   "source": [
    "Sometimes, we want access to both the list item, and its list index.  This is where `enumerate` comes in:"
   ]
  },
  {
   "cell_type": "code",
   "execution_count": 6,
   "metadata": {
    "collapsed": false
   },
   "outputs": [
    {
     "name": "stdout",
     "output_type": "stream",
     "text": [
      "0\tMal\n",
      "1\tZoe\n",
      "2\tWash\n",
      "3\tInara\n",
      "4\tJayne\n",
      "5\tKaylee\n",
      "6\tSimon\n",
      "7\tRiver\n",
      "8\tBook\n"
     ]
    }
   ],
   "source": [
    "# we can use 'enumerate' for access to both the integer index and value\n",
    "names = ['Mal', 'Zoe', 'Wash', 'Inara', 'Jayne', 'Kaylee', 'Simon', 'River', 'Book']\n",
    "for idx,name in enumerate(names):\n",
    "    print('%d\\t%s' % (idx,name))"
   ]
  },
  {
   "cell_type": "markdown",
   "metadata": {},
   "source": [
    "### List comprehensions\n",
    "\n",
    "python contains a powerful construct called **list comprehensions**, they allow us to easily build and operate on the items in a list"
   ]
  },
  {
   "cell_type": "code",
   "execution_count": 7,
   "metadata": {
    "collapsed": false
   },
   "outputs": [
    {
     "name": "stdout",
     "output_type": "stream",
     "text": [
      "['one', 'two', 'three']\n"
     ]
    }
   ],
   "source": [
    "n = ['   one   ', '   two   ', '   three   ']\n",
    "stripped = [num.strip() for num in n]\n",
    "print(stripped)"
   ]
  },
  {
   "cell_type": "code",
   "execution_count": 8,
   "metadata": {
    "collapsed": false
   },
   "outputs": [
    {
     "name": "stdout",
     "output_type": "stream",
     "text": [
      "['one', 'two', 'three']\n"
     ]
    }
   ],
   "source": [
    "n = ['   one   ', '   two   ', '   three   ']\n",
    "stripped = []\n",
    "for cn in n:\n",
    "    stripped.append(cn.strip())\n",
    "print(stripped)"
   ]
  },
  {
   "cell_type": "code",
   "execution_count": 9,
   "metadata": {
    "collapsed": false
   },
   "outputs": [
    {
     "name": "stdout",
     "output_type": "stream",
     "text": [
      "[1, 3, 5, 7, 9]\n"
     ]
    }
   ],
   "source": [
    "# we can even throw in control\n",
    "odd = [i for i in range(10) if i % 2]\n",
    "print(odd)"
   ]
  },
  {
   "cell_type": "code",
   "execution_count": 10,
   "metadata": {
    "collapsed": false
   },
   "outputs": [
    {
     "name": "stdout",
     "output_type": "stream",
     "text": [
      "[0j, 1j, 2j, (1+0j), (1+1j), (1+2j), (2+0j), (2+1j), (2+2j)]\n"
     ]
    }
   ],
   "source": [
    "# they can be nested at any level\n",
    "cnum = [complex(x,y) for x in range(5) for y in range(5) if abs(complex(x,y)) < 3]\n",
    "print(cnum)"
   ]
  },
  {
   "cell_type": "markdown",
   "metadata": {},
   "source": [
    "<div class=\"span alert alert-success\">\n",
    "<h2> Team programming challenge </h2>\n",
    "<h3> The sieve of Eratosthenes</h3>\n",
    "Compute all the prime numbers up to 50.\n",
    "</div>\n"
   ]
  },
  {
   "cell_type": "code",
   "execution_count": 12,
   "metadata": {
    "collapsed": false
   },
   "outputs": [
    {
     "name": "stdout",
     "output_type": "stream",
     "text": [
      "[1, 2, 3, 5, 7, 11, 13, 17, 19, 23, 29, 31, 37, 41, 43, 47]\n"
     ]
    }
   ],
   "source": [
    "prime=[]\n",
    "n=50\n",
    "for i in range(1,n+1):\n",
    "    y=0\n",
    "    for x in range(2,i):\n",
    "        if i%x==0:\n",
    "            y=1\n",
    "    if y==0:\n",
    "        prime.append(i)\n",
    "print(prime)\n"
   ]
  },
  {
   "cell_type": "code",
   "execution_count": null,
   "metadata": {
    "collapsed": false
   },
   "outputs": [],
   "source": [
    "# %load data/primes.py\n",
    "# generate all the non-primes (easy)\n",
    "non_primes = [j for i in range (2,8) for j in range(i*2,50,i)]\n",
    "\n",
    "# exclude anything but primes\n",
    "primes = [x for x in range(2,50) if x not in non_primes]\n",
    "print(primes)\n",
    "\n",
    "# In a single line:\n",
    "print([x for x in range(2,50) if not [t for t in range(2,x) if not x%t]])\n"
   ]
  },
  {
   "cell_type": "markdown",
   "metadata": {},
   "source": [
    "## Functions\n",
    "\n",
    "As our code becomes more complex, it makes sense to start breaking it up into units, called `functions` or `methods` that take data, perform operations on it, and possibly return one or more values.  They can be easily reused from anywhere in the program and allow for more readable and maintainable code. Constructing programs as a sequence of small logical functional units allows for code that is easier to write and debug."
   ]
  },
  {
   "cell_type": "code",
   "execution_count": 1,
   "metadata": {
    "collapsed": false
   },
   "outputs": [
    {
     "data": {
      "text/html": [
       "<img src=\"https://raw.githubusercontent.com/agdelma/IntroCompPhysics/master/Notebooks/data/function.png\"/>"
      ],
      "text/plain": [
       "<IPython.core.display.Image object>"
      ]
     },
     "execution_count": 1,
     "metadata": {},
     "output_type": "execute_result"
    }
   ],
   "source": [
    "from IPython.display import Image\n",
    "Image(url='https://raw.githubusercontent.com/agdelma/IntroCompPhysics/master/Notebooks/data/function.png')"
   ]
  },
  {
   "cell_type": "code",
   "execution_count": 2,
   "metadata": {
    "collapsed": false
   },
   "outputs": [],
   "source": [
    "# let's define this function\n",
    "def add(a,b):\n",
    "    '''Add two numbers.'''\n",
    "    c = a+b\n",
    "    return c"
   ]
  },
  {
   "cell_type": "code",
   "execution_count": 14,
   "metadata": {
    "collapsed": true
   },
   "outputs": [],
   "source": [
    "def add_one_liner(a,b): return a+b"
   ]
  },
  {
   "cell_type": "code",
   "execution_count": 3,
   "metadata": {
    "collapsed": false
   },
   "outputs": [
    {
     "name": "stdout",
     "output_type": "stream",
     "text": [
      "Help on function add in module __main__:\n",
      "\n",
      "add(a, b)\n",
      "    Add two numbers.\n",
      "\n"
     ]
    }
   ],
   "source": [
    "# The first comment line is used to describe the function when getting help.\n",
    "help(add)"
   ]
  },
  {
   "cell_type": "code",
   "execution_count": 4,
   "metadata": {
    "collapsed": false
   },
   "outputs": [
    {
     "data": {
      "text/plain": [
       "21"
      ]
     },
     "execution_count": 4,
     "metadata": {},
     "output_type": "execute_result"
    }
   ],
   "source": [
    "# let's use it!\n",
    "add(10,11)"
   ]
  },
  {
   "cell_type": "markdown",
   "metadata": {},
   "source": [
    "Since python is dynamically typed, we can use other data types"
   ]
  },
  {
   "cell_type": "code",
   "execution_count": 5,
   "metadata": {
    "collapsed": false
   },
   "outputs": [
    {
     "data": {
      "text/plain": [
       "2.3"
      ]
     },
     "execution_count": 5,
     "metadata": {},
     "output_type": "execute_result"
    }
   ],
   "source": [
    "# floats\n",
    "add(1.0,1.3)"
   ]
  },
  {
   "cell_type": "code",
   "execution_count": 6,
   "metadata": {
    "collapsed": false
   },
   "outputs": [
    {
     "data": {
      "text/plain": [
       "'redsox'"
      ]
     },
     "execution_count": 6,
     "metadata": {},
     "output_type": "execute_result"
    }
   ],
   "source": [
    "# strings\n",
    "add('red','sox')"
   ]
  },
  {
   "cell_type": "code",
   "execution_count": 9,
   "metadata": {
    "collapsed": false
   },
   "outputs": [
    {
     "data": {
      "text/plain": [
       "'red1'"
      ]
     },
     "execution_count": 9,
     "metadata": {},
     "output_type": "execute_result"
    }
   ],
   "source": [
    "# but we can't mix types\n",
    "add('red',1)"
   ]
  },
  {
   "cell_type": "code",
   "execution_count": 10,
   "metadata": {
    "collapsed": false
   },
   "outputs": [
    {
     "data": {
      "text/plain": [
       "20"
      ]
     },
     "execution_count": 10,
     "metadata": {},
     "output_type": "execute_result"
    }
   ],
   "source": [
    "# since everything is a first class object in python, \n",
    "# we can assign our function to a variable\n",
    "func = add\n",
    "func(10,10)"
   ]
  },
  {
   "cell_type": "code",
   "execution_count": 13,
   "metadata": {
    "collapsed": false
   },
   "outputs": [
    {
     "name": "stdout",
     "output_type": "stream",
     "text": [
      "[1, 8, 27, 64, 125, 216, 343, 512, 729]\n"
     ]
    }
   ],
   "source": [
    "# functions with list comprehensions\n",
    "def cube(x): return x**3\n",
    "cubes = [cube(x) for x in range(1,10)]\n",
    "print(cubes)"
   ]
  },
  {
   "cell_type": "code",
   "execution_count": 12,
   "metadata": {
    "collapsed": false
   },
   "outputs": [
    {
     "name": "stdout",
     "output_type": "stream",
     "text": [
      "[1, 3, 5, 7, 9]\n"
     ]
    }
   ],
   "source": [
    "# functions as filters\n",
    "def odd(x): return (x%2)\n",
    "odds = [i for i in range(1,10) if odd(i)]\n",
    "print(odds)"
   ]
  },
  {
   "cell_type": "markdown",
   "metadata": {},
   "source": [
    "### Lambdas\n",
    "\n",
    "Python suports a very powerful construct borrowed from functional programming languages called lambdas.  They allow us to define functions on the fly."
   ]
  },
  {
   "cell_type": "code",
   "execution_count": 15,
   "metadata": {
    "collapsed": false
   },
   "outputs": [
    {
     "data": {
      "text/plain": [
       "[0, 1, 4, 9, 16]"
      ]
     },
     "execution_count": 15,
     "metadata": {},
     "output_type": "execute_result"
    }
   ],
   "source": [
    "# using a function\n",
    "def square(x): \n",
    "    return x**2\n",
    "[square(x) for x in range(5)]"
   ]
  },
  {
   "cell_type": "code",
   "execution_count": 16,
   "metadata": {
    "collapsed": false
   },
   "outputs": [
    {
     "data": {
      "text/plain": [
       "[0, 1, 4, 9, 16]"
      ]
     },
     "execution_count": 16,
     "metadata": {},
     "output_type": "execute_result"
    }
   ],
   "source": [
    "# using a lambda\n",
    "sq = lambda x: x**2\n",
    "[sq(x) for x in range(5)]"
   ]
  },
  {
   "cell_type": "code",
   "execution_count": 20,
   "metadata": {
    "collapsed": false
   },
   "outputs": [
    {
     "data": {
      "text/plain": [
       "[('jane', 'B', 19), ('john', 'A', 22), ('dave', 'B', 23)]"
      ]
     },
     "execution_count": 20,
     "metadata": {},
     "output_type": "execute_result"
    }
   ],
   "source": [
    "# they can be used anywhere that a function is required\n",
    "student_tuples = [('john', 'A', 22), ('jane', 'B', 19),('dave', 'B', 23)]\n",
    "sorted(student_tuples, key=lambda student: student[2])   # sort by age"
   ]
  },
  {
   "cell_type": "markdown",
   "metadata": {},
   "source": [
    "<div class=\"row\">\n",
    "<div class=\"span alert alert-error\">\n",
    "If these looks scary, don't worry.  Anything that you can do with lambda's, you can do with plain old functions.\n",
    "</div>\n",
    "</div>"
   ]
  },
  {
   "cell_type": "markdown",
   "metadata": {},
   "source": [
    "<div class=\"span alert alert-success\">\n",
    "<h2> Team programming challenge </h2>\n",
    "<h3> Leap Years</h3>\n",
    "Write a function that can determine if a given year is a leap year. Use it to find all leap years since you were born.\n",
    "<p/>\n",
    "A  leap year is divisible by four, but not by one hundred, unless it is divisible by four hundred.\n",
    "</div>"
   ]
  },
  {
   "cell_type": "code",
   "execution_count": null,
   "metadata": {
    "collapsed": true
   },
   "outputs": [],
   "source": []
  },
  {
   "cell_type": "code",
   "execution_count": 23,
   "metadata": {
    "collapsed": false
   },
   "outputs": [
    {
     "name": "stdout",
     "output_type": "stream",
     "text": [
      "[1980, 1984, 1988, 1992, 1996, 2000, 2004, 2008, 2012, 2016]\n"
     ]
    }
   ],
   "source": [
    "# %load data/leapyear.py\n",
    "def leap_year(year):\n",
    "    '''Determine if the supplied year is a leap year.'''\n",
    "    if not(year % 400):\n",
    "        return True\n",
    "    elif not(year % 100):\n",
    "        return False\n",
    "    elif not(year % 4):\n",
    "        return True\n",
    "    else:\n",
    "        return False\n",
    "\n",
    "lyears = [year for year in range(1979,2017) if leap_year(year)]\n",
    "print(lyears)\n"
   ]
  },
  {
   "cell_type": "code",
   "execution_count": null,
   "metadata": {
    "collapsed": true
   },
   "outputs": [],
   "source": []
  }
 ],
 "metadata": {
  "kernelspec": {
   "display_name": "Python 3",
   "language": "python",
   "name": "python3"
  },
  "language_info": {
   "codemirror_mode": {
    "name": "ipython",
    "version": 3
   },
   "file_extension": ".py",
   "mimetype": "text/x-python",
   "name": "python",
   "nbconvert_exporter": "python",
   "pygments_lexer": "ipython3",
   "version": "3.5.2"
  }
 },
 "nbformat": 4,
 "nbformat_minor": 0
}
