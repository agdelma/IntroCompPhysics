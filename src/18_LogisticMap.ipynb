{
 "cells": [
  {
   "cell_type": "markdown",
   "metadata": {},
   "source": [
    "# Physics 256\n",
    "## The Logistic Map and the Route to Chaos\n",
    "\n",
    "<img src=\"https://upload.wikimedia.org/wikipedia/commons/thumb/5/50/Logistic_Bifurcation_map_High_Resolution.png/1920px-Logistic_Bifurcation_map_High_Resolution.png\" width=600px>"
   ]
  },
  {
   "cell_type": "markdown",
   "metadata": {},
   "source": [
    "## Last Time\n",
    "### [Notebook Link: 17_ChaosPendulum](./17_ChaosPendulum.ipynb)\n",
    "- driven dissipative pendulum\n",
    "- determinental chaos\n",
    "- Lyapunov exponents\n",
    "- phase space trajectories\n",
    "\n",
    "\n",
    "## Today\n",
    "\n",
    "- Logistic map\n",
    "- a simple route to chaotic behavior\n",
    "\n",
    "### We would like to answer the questions:\n",
    "* What does it take for a system to be chaotic?\n",
    "* Can we predict ahead of time if a particular system will display chaotic behavior?"
   ]
  },
  {
   "cell_type": "markdown",
   "metadata": {},
   "source": [
    "## Setting up the Notebook"
   ]
  },
  {
   "cell_type": "code",
   "execution_count": null,
   "metadata": {
    "collapsed": false,
    "jupyter": {
     "outputs_hidden": false
    }
   },
   "outputs": [],
   "source": [
    "import matplotlib.pyplot as plt\n",
    "import numpy as np\n",
    "%matplotlib inline\n",
    "plt.style.use('../include/notebook.mplstyle');\n",
    "%config InlineBackend.figure_format = 'svg'\n",
    "colors = plt.rcParams['axes.prop_cycle'].by_key()['color']"
   ]
  },
  {
   "cell_type": "markdown",
   "metadata": {},
   "source": [
    "## Chaos \n",
    "Aperiodic time-asymptotic behavior in a deterministic system which exhibits sensitive dependence on initial conditions.\n",
    "\n",
    "1. **Aperiodic time-asymptotic behavior:** the existence of phase-space trajectories which do not settle down to fixed points or periodic orbits. For practical reasons, we insist that these trajectories are not too rare. We also require the trajectories to be bounded: i.e., they should not go off to infinity.\n",
    "2. **Deterministic:** the equations of motion of the system possess no random inputs. In other words, the irregular behavior of the system arises from non-linear dynamics and not from noisy driving forces.\n",
    "3. **Sensitive dependence on initial conditions:** nearby trajectories in phase-space separate exponentially fast in time: i.e., the system has a positive Lyapunov exponent."
   ]
  },
  {
   "cell_type": "markdown",
   "metadata": {},
   "source": [
    "## The logistic map\n",
    "\n",
    "$$ x_{n+1} = \\mu x_n (1 - x_n) $$\n",
    "\n",
    "* map $\\to$ discrete equation of motion\n",
    "* A very simple iterative map that has applications in: ecology, statistics, neural networks, medicine.\n",
    "* Think of $x_n$ as the size of a population in generation $n$, while $\\mu$ is the availability of resources.\n",
    "\n",
    "A study of this simple system will give us a more complete understanding of the origin of period doubling."
   ]
  },
  {
   "cell_type": "markdown",
   "metadata": {},
   "source": [
    "<div class=\"span alert alert-success\">\n",
    "<h2> Programming challenge </h2>\n",
    "Complete the function below which takes an array $x$ and paramter $\\mu$ and returns the full solution of the Logistic Map.\n",
    "</div>\n",
    "\n",
    "<!--\n",
    "    for n in range(x.size-1):\n",
    "        x[n+1] = μ*x[n]*(1-x[n])\n",
    "-->"
   ]
  },
  {
   "cell_type": "code",
   "execution_count": null,
   "metadata": {
    "collapsed": false,
    "jupyter": {
     "outputs_hidden": false
    }
   },
   "outputs": [],
   "source": [
    "def logistic_map(x,μ):\n",
    "    '''Return the iterative logistic map.'''\n",
    "\n",
    "    # INSERT CODE HERE\n",
    "    pass\n",
    "\n",
    "    return x\n",
    "\n",
    "def μ_lab(μ):\n",
    "    return f'$\\mu =  {μ:G}$'"
   ]
  },
  {
   "cell_type": "code",
   "execution_count": null,
   "metadata": {
    "collapsed": false,
    "jupyter": {
     "outputs_hidden": false
    }
   },
   "outputs": [],
   "source": [
    "N = 100\n",
    "μ = [1.5,3.3,3.8]\n",
    "x = np.random.random(N)"
   ]
  },
  {
   "cell_type": "code",
   "execution_count": null,
   "metadata": {
    "collapsed": false,
    "jupyter": {
     "outputs_hidden": false
    }
   },
   "outputs": [],
   "source": [
    "fig, axes = plt.subplots(3,1,sharex=True, sharey=True, squeeze=False, figsize=(7,8))\n",
    "for i, ax in enumerate(axes.flat):\n",
    "    \n",
    "    # iterate the map\n",
    "    x = logistic_map(x,μ[i])\n",
    "    \n",
    "    # plot the numerical results\n",
    "    ax.plot(x,linestyle='-',marker='o',linewidth=1.0,markerfacecolor='None', \n",
    "            color=colors[i], markeredgecolor=colors[i], markersize=3, \n",
    "            label=μ_lab(μ[i]))\n",
    "    ax.legend(loc='lower right', frameon=True)\n",
    "    ax.set_ylabel('x')\n",
    "    ax.set_ylim(0,1)\n",
    "\n",
    "axes[-1,0].set_xlabel('n')"
   ]
  },
  {
   "cell_type": "markdown",
   "metadata": {},
   "source": [
    "* For μ=1.5, we see simple convergent behavior.\n",
    "* For μ=3.3, periodic behavior arises.\n",
    "* For μ=3.8, non-periodic, chaotic behavior seems to occur.\n",
    "\n",
    "Can understand the behavior for small $\\mu$ by considering the continuous *Logistic function*: \n",
    "\\begin{equation}\n",
    "f(x,\\mu) = \\mu x (1-x).\n",
    "\\end{equation}\n",
    "Then, for $\\mu\\sim 1$ $\\exists$ a **fixed point** value $x^\\ast$ such that:\n",
    "\\begin{equation}\n",
    "f(x^\\ast,\\mu) = x^\\ast.\n",
    "\\end{equation}\n",
    "\n",
    "### Can we determine $x^\\ast$?\n",
    "\n",
    "\\begin{align}\n",
    "x^\\ast &= \\mu x^\\ast (1-x^\\ast) \\newline\n",
    "x^\\ast [ \\mu x^\\ast + 1 - \\mu] &= 0 \\newline\n",
    "\\Rightarrow x^\\ast &= 0, 1-\\frac{1}{\\mu}.\n",
    "\\end{align}\n",
    "\n",
    "We thus have two fixed points, corresponding to the two values of x*. Generically we can iteratively or graphically solve.  Let's test our non-zero solution:\n",
    "\n",
    "### Iterate until we find the fixed point\n",
    "\n",
    "<div class=\"span alert alert-success\">\n",
    "<h2> Group Programming challenge </h2>\n",
    "Complete the code below which identifies the fixed point via brute force iteration.\n",
    "</div>\n",
    "\n",
    "<!--\n",
    "n = 0\n",
    "while np.abs(x[-1]-x[-2]) > 1.0E-6 and n < 200:\n",
    "    x.append(cμ*x[-1]*(1-x[-1]))\n",
    "    n += 1\n",
    "-->"
   ]
  },
  {
   "cell_type": "code",
   "execution_count": null,
   "metadata": {
    "collapsed": false,
    "jupyter": {
     "outputs_hidden": false
    }
   },
   "outputs": [],
   "source": [
    "x = [np.random.random()]\n",
    "cμ = 3\n",
    "\n",
    "# the first iteration\n",
    "x.append(cμ*x[0]*(1-x[0]))\n",
    "\n",
    "# continue until we find a fixed point\n",
    "# INSERT CODE HERE\n",
    "pass\n",
    "\n",
    "plt.plot(x, color=colors[0],label=f'x* = {x[-1]:G}', linewidth=1, alpha=0.5)\n",
    "plt.axhline(y=(1.0-1.0/cμ), color=colors[1], linestyle='--', label=f'1-1/μ = {1-1/cμ:G}')\n",
    "plt.ylim(0,1)\n",
    "plt.xlabel('n')\n",
    "plt.ylabel('x')\n",
    "plt.legend(frameon=True)"
   ]
  },
  {
   "cell_type": "markdown",
   "metadata": {},
   "source": [
    "### A graphical solution\n",
    "Plot $x_n$ vs $x_{n+1}$"
   ]
  },
  {
   "cell_type": "code",
   "execution_count": null,
   "metadata": {
    "collapsed": false,
    "jupyter": {
     "outputs_hidden": false
    }
   },
   "outputs": [],
   "source": [
    "μ = [1.5,3.3]\n",
    "x = np.arange(0,1.01,0.01)\n",
    "fig, axes = plt.subplots(1,2,sharex=True, sharey=True, squeeze=False, figsize=(10,5))\n",
    "fig.subplots_adjust(wspace=0.3)\n",
    "for i, ax in enumerate(axes.flat):\n",
    "    \n",
    "    # plot x\n",
    "    ax.plot(x,x,color='k')\n",
    "    \n",
    "    # plot f(x,μ)\n",
    "    ax.plot(x,μ[i]*x*(1-x),color=colors[i], label=μ_lab(μ[i]))\n",
    "    \n",
    "    # plot the fixed point solutions\n",
    "    ax.plot(0,0,'o',markersize=15, markerfacecolor=colors[-3], markeredgecolor='w')\n",
    "    ax.plot(1-1/μ[i],1-1/μ[i],'o',markersize=10, markerfacecolor=colors[-3], markeredgecolor='w')\n",
    "            \n",
    "    ax.legend(loc='upper left', frameon=True)\n",
    "    ax.set_xlabel(r'$x_n$')\n",
    "    \n",
    "    ax.set_ylim(0,1)\n",
    "    ax.set_xlim(0,1)\n",
    "axes[0,0].set_ylabel(r'$x_{n+1}$')"
   ]
  },
  {
   "cell_type": "markdown",
   "metadata": {},
   "source": [
    "In order to understand the differences between these two maps, let us investigate the logistic function near the fixed points:\n",
    "\n",
    "\\begin{equation}\n",
    "f(x^\\ast + \\delta x,\\mu) \\approx f(x^\\ast,\\mu) + \\frac{d}{d x}f(x^\\ast,\\mu) \\delta x.\n",
    "\\end{equation}\n",
    "\n",
    "From this expansion, we can see that the **stability** of a fixed point is related to the magnitude of the first derivative of the $f$, i.e. \n",
    "\n",
    "\\begin{align}\n",
    "|f'(x^\\ast,\\mu)| < 1 &\\Rightarrow \\mathrm{ stable} \\newline\n",
    "|f'(x^\\ast,\\mu)| > 1 &\\Rightarrow \\mathrm{ unstable} .\n",
    "\\end{align}\n",
    "\n",
    "We can check this explicitely:\n",
    "\n",
    "\\begin{align}\n",
    "\\frac{d}{dx} f(x,\\mu) &= \\frac{d}{d x} [ \\mu x (1-x) ] \\newline\n",
    "&= \\mu(1-x) - \\mu x \\newline\n",
    "&= \\mu(1-2x) .\n",
    "\\end{align}\n",
    "\n",
    "Evaluating at the fixed points:\n",
    "\n",
    "### 1. $x^\\ast = 0$\n",
    "\\begin{equation}\n",
    "f'(x^\\ast = 0) = \\mu\n",
    "\\end{equation}\n",
    "which is stable for $\\mu < 1$.\n",
    "\n",
    "### 2. $x^\\ast = 1-1/\\mu$\n",
    "\\begin{align}\n",
    "f'(x^\\ast = 1-1/\\mu) &= \\mu(1-2 + 2/\\mu) \\newline\n",
    "&= 2 -\\mu\n",
    "\\end{align}\n",
    "which is stable for:\n",
    "\\begin{align}\n",
    "|2-\\mu| &< 1 \\newline \n",
    "-1 &> 2-\\mu < 1 \\newline \n",
    "1 &< \\mu < 3 .\n",
    "\\end{align}\n",
    "\n"
   ]
  },
  {
   "cell_type": "code",
   "execution_count": null,
   "metadata": {
    "collapsed": false,
    "jupyter": {
     "outputs_hidden": false
    }
   },
   "outputs": [],
   "source": [
    "x = np.random.random(100*N)\n",
    "cμ = 0.5\n",
    "\n",
    "# iterate the map\n",
    "x = logistic_map(x,cμ)\n",
    "\n",
    "# plot the numerical results\n",
    "plt.plot(x,linestyle='-',marker='o',linewidth=1.0,markerfacecolor='None', \n",
    "        color=colors[0], markeredgecolor=colors[0], markersize=4, \n",
    "        label=μ_lab(cμ))\n",
    "plt.legend(loc='upper right', frameon=True)\n",
    "plt.xlabel('n')\n",
    "plt.ylabel('x')\n",
    "plt.ylim(0,1)"
   ]
  },
  {
   "cell_type": "markdown",
   "metadata": {},
   "source": [
    "## Phase Space Plots\n",
    "We can observe these instabilities directly on the map equivalent of a phase space"
   ]
  },
  {
   "cell_type": "code",
   "execution_count": null,
   "metadata": {
    "collapsed": false,
    "jupyter": {
     "outputs_hidden": false
    }
   },
   "outputs": [],
   "source": [
    "def logistic(mu,x):\n",
    "    '''Return the logistic functon'''\n",
    "    return mu*x*(1.0-x)\n",
    "\n",
    "μ = [1.5,3.3]\n",
    "x = np.arange(0,1,0.01)\n",
    "xp = np.zeros([N,2])\n",
    "xp[0,0] = np.random.random()\n",
    "xp[0,1] = 0.0\n",
    "\n",
    "fig, axes = plt.subplots(1,2,sharex=True, sharey=True, squeeze=False, figsize=(10,5))\n",
    "fig.subplots_adjust(wspace=0.3)\n",
    "for i, ax in enumerate(axes.flat):\n",
    "    # plot x\n",
    "    ax.plot(x,x,color='k')\n",
    "\n",
    "    # plot f(x,μ)\n",
    "    ax.plot(x,μ[i]*x*(1-x),color=colors[i], label=μ_lab(μ[i]))\n",
    "\n",
    "    # compute the trajectories\n",
    "    for n in range(1,N-1,2):\n",
    "        xp[n,0] = xp[n-1,0]\n",
    "        xp[n,1] = logistic(μ[i],xp[n-1,0])\n",
    "        xp[n+1,0] = xp[n,1]\n",
    "        xp[n+1,1] = xp[n,1]\n",
    "\n",
    "    ax.plot(xp[:,0],xp[:,1],'--',color=colors[-3],linewidth=1)\n",
    "\n",
    "    # legend and labels\n",
    "    ax.legend(loc='upper right', frameon=True)\n",
    "    ax.set_xlabel(r'$x_n$')\n",
    "    \n",
    "    ax.set_ylim(0,1)\n",
    "    ax.set_xlim(0,1)\n",
    "    \n",
    "axes[0,0].set_ylabel(r'$x_{n+1}$')"
   ]
  },
  {
   "cell_type": "markdown",
   "metadata": {},
   "source": [
    "The unstable fixed point shows evidence of oscillations.  Can understand this and its connection to period doubling by looking at the second iteratue of $f(x,\\mu)$, i.e. how does $x_{n+2}$ depend on $x_n$\n",
    "\n",
    "\\begin{equation}\n",
    "f^{(2)}(x,\\mu) = f(f(x,\\mu),\\mu)\n",
    "\\end{equation}\n",
    "\n",
    "or in terms of the Logistic map:\n",
    "\n",
    "\\begin{align}\n",
    "x_{n+2} &= \\mu x_{n+1}(1-x_{n+1}) \\newline\n",
    "&= \\mu[\\mu x_n(1-x_n)][1-\\mu x_n(1-x_n)]\n",
    "\\end{align}\n",
    "\n",
    "A fixed point solution of this equation exists, but is quite complicated."
   ]
  },
  {
   "cell_type": "markdown",
   "metadata": {},
   "source": [
    "<div class=\"span alert alert-success\">\n",
    "<h2> Group Programming challenge </h2>\n",
    "Find a graphical solution to the second iterate of the Logistic map and plot for $\\mu=1.5,3.3$.\n",
    "</div>\n",
    "\n",
    "<!--\n",
    " # INSERT CODE HERE\n",
    "    fx = μ[i]*x*(1-x)\n",
    "    \n",
    "    # plot f(f(x,μ),μ)\n",
    "    ax.plot(x,μ[i]*fx*(1-fx),color=colors[i], label=μ_lab(μ[i]))\n",
    "-->"
   ]
  },
  {
   "cell_type": "code",
   "execution_count": null,
   "metadata": {
    "collapsed": false,
    "jupyter": {
     "outputs_hidden": false
    }
   },
   "outputs": [],
   "source": [
    "μ = [1.5,3.3]\n",
    "x = np.arange(0,1.01,0.01)\n",
    "fig, axes = plt.subplots(1,2,sharex=True, sharey=True, squeeze=False, figsize=(10,5))\n",
    "fig.subplots_adjust(wspace=0.3)\n",
    "xp = np.zeros([N,2])\n",
    "xp[0,0] = np.random.random()\n",
    "xp[0,1] = 0.0\n",
    "for i, ax in enumerate(axes.flat):\n",
    "    \n",
    "    # plot x\n",
    "    ax.plot(x,x,color='k')\n",
    "\n",
    "    # INSERT CODE HERE\n",
    "    pass\n",
    "\n",
    "    # compute the trajectories\n",
    "    for n in range(1,N-1,2):\n",
    "        xp[n,0] = xp[n-1,0]\n",
    "        xp[n,1] = logistic(μ[i],xp[n-1,0])\n",
    "        xp[n+1,0] = xp[n,1]\n",
    "        xp[n+1,1] = xp[n,1]\n",
    "\n",
    "    ax.plot(xp[:,0],xp[:,1],'--',color=colors[-3],linewidth=1)            \n",
    "    ax.legend(loc='upper left', frameon=True)\n",
    "    \n",
    "axes[0,0].set_ylabel(r'$x_{n+2}$')\n",
    "[axes[0,i].set_xlabel(r'$x_n$') for i in range(2)]\n",
    "axes[0,0].set_ylim(0,1)\n",
    "axes[0,0].set_xlim(0,1)"
   ]
  },
  {
   "cell_type": "markdown",
   "metadata": {},
   "source": [
    "## Summary\n",
    "\n",
    "* We now get a feeling for why period doubling happens, the number of fixed points is increasing with μ!\n",
    "* Also, we might expect many dynamical systems to have smooth Taylor expansions near their fixed points that have the same fundamental properties as the logistic map.  This is the origin of universality and the Feigenbaum-δ for deterministic chaos via period doubling."
   ]
  },
  {
   "cell_type": "code",
   "execution_count": null,
   "metadata": {},
   "outputs": [],
   "source": []
  }
 ],
 "metadata": {
  "kernelspec": {
   "display_name": "Python 3",
   "language": "python",
   "name": "python3"
  },
  "language_info": {
   "codemirror_mode": {
    "name": "ipython",
    "version": 3
   },
   "file_extension": ".py",
   "mimetype": "text/x-python",
   "name": "python",
   "nbconvert_exporter": "python",
   "pygments_lexer": "ipython3",
   "version": "3.7.4"
  }
 },
 "nbformat": 4,
 "nbformat_minor": 4
}
